{
 "cells": [
  {
   "cell_type": "code",
   "execution_count": 1,
   "id": "6e2b7517",
   "metadata": {
    "_cell_guid": "b1076dfc-b9ad-4769-8c92-a6c4dae69d19",
    "_uuid": "8f2839f25d086af736a60e9eeb907d3b93b6e0e5",
    "execution": {
     "iopub.execute_input": "2021-09-29T23:45:00.628613Z",
     "iopub.status.busy": "2021-09-29T23:45:00.627117Z",
     "iopub.status.idle": "2021-09-29T23:45:05.354560Z",
     "shell.execute_reply": "2021-09-29T23:45:05.355051Z",
     "shell.execute_reply.started": "2021-09-29T23:43:42.219065Z"
    },
    "papermill": {
     "duration": 4.743029,
     "end_time": "2021-09-29T23:45:05.355321",
     "exception": false,
     "start_time": "2021-09-29T23:45:00.612292",
     "status": "completed"
    },
    "tags": []
   },
   "outputs": [],
   "source": [
    "# current ADAM resnet18 with 200 epochs is 76% accuracy\n",
    "import numpy as np # linear algebra\n",
    "import pandas as pd # data processing, CSV file I/O (e.g. pd.read_csv)\n",
    "import os\n",
    "import torch\n",
    "from numpy import asarray\n",
    "import PIL.Image as Image\n",
    "import torch.nn as nn\n",
    "import tqdm\n",
    "import gc\n",
    "\n",
    "device = \"cuda\"\n",
    "\n",
    "torch.cuda.empty_cache()\n",
    "gc.collect()\n",
    "        \n",
    "import torchvision.transforms as transforms\n",
    "transform = transforms.ToTensor()"
   ]
  },
  {
   "cell_type": "code",
   "execution_count": 2,
   "id": "19afb657",
   "metadata": {
    "execution": {
     "iopub.execute_input": "2021-09-29T23:45:05.384329Z",
     "iopub.status.busy": "2021-09-29T23:45:05.383534Z",
     "iopub.status.idle": "2021-09-29T23:45:12.851633Z",
     "shell.execute_reply": "2021-09-29T23:45:12.852059Z",
     "shell.execute_reply.started": "2021-09-29T23:43:42.407152Z"
    },
    "papermill": {
     "duration": 7.486268,
     "end_time": "2021-09-29T23:45:12.852225",
     "exception": false,
     "start_time": "2021-09-29T23:45:05.365957",
     "status": "completed"
    },
    "tags": []
   },
   "outputs": [
    {
     "name": "stdout",
     "output_type": "stream",
     "text": [
      "Downloading https://www.cs.toronto.edu/~kriz/cifar-100-python.tar.gz to based/cifar-100-python.tar.gz\n"
     ]
    },
    {
     "data": {
      "application/vnd.jupyter.widget-view+json": {
       "model_id": "680e0c23f0f54c9eaf3bda6b6c72f170",
       "version_major": 2,
       "version_minor": 0
      },
      "text/plain": [
       "0it [00:00, ?it/s]"
      ]
     },
     "metadata": {},
     "output_type": "display_data"
    },
    {
     "name": "stdout",
     "output_type": "stream",
     "text": [
      "Extracting based/cifar-100-python.tar.gz to based\n",
      "Files already downloaded and verified\n"
     ]
    }
   ],
   "source": [
    "patch_size = 16\n",
    "\n",
    "# get dataset stuffs\n",
    "import torchvision\n",
    "from torch.utils.data import DataLoader\n",
    "from torchvision.models.utils import load_state_dict_from_url\n",
    "\n",
    "transform = transforms.Compose([\n",
    "    transforms.Resize(32),\n",
    "    transforms.ToTensor(),\n",
    "    transforms.Normalize((0.4914, 0.4822, 0.4465), (0.2023, 0.1994, 0.2010)),\n",
    "])\n",
    "\n",
    "dataset = torchvision.datasets.CIFAR100(root=\"based\", train=False, download=True, transform=transform)\n",
    "\n",
    "val_dataloader = DataLoader(dataset, batch_size=256, shuffle=True)\n",
    "\n",
    "transform = transforms.Compose([\n",
    "    transforms.RandomCrop(32, padding=4),\n",
    "    transforms.Resize(32),\n",
    "    transforms.RandomHorizontalFlip(),\n",
    "    transforms.ToTensor(),\n",
    "    transforms.Normalize((0.4914, 0.4822, 0.4465), (0.2023, 0.1994, 0.2010)),\n",
    "])\n",
    "\n",
    "\n",
    "dataset = torchvision.datasets.CIFAR100(root=\"based\", train=True, download=True, transform=transform)\n",
    "\n",
    "train_dataloader = DataLoader(dataset, batch_size=256, shuffle=True)"
   ]
  },
  {
   "cell_type": "code",
   "execution_count": 3,
   "id": "88058588",
   "metadata": {
    "execution": {
     "iopub.execute_input": "2021-09-29T23:45:12.878680Z",
     "iopub.status.busy": "2021-09-29T23:45:12.877940Z",
     "iopub.status.idle": "2021-09-29T23:45:21.381724Z",
     "shell.execute_reply": "2021-09-29T23:45:21.381201Z",
     "shell.execute_reply.started": "2021-09-29T23:43:56.351052Z"
    },
    "papermill": {
     "duration": 8.51856,
     "end_time": "2021-09-29T23:45:21.381867",
     "exception": false,
     "start_time": "2021-09-29T23:45:12.863307",
     "status": "completed"
    },
    "tags": []
   },
   "outputs": [
    {
     "name": "stdout",
     "output_type": "stream",
     "text": [
      "Collecting vit-pytorch\r\n",
      "  Downloading vit_pytorch-0.20.7-py3-none-any.whl (35 kB)\r\n",
      "Requirement already satisfied: torchvision in /opt/conda/lib/python3.7/site-packages (from vit-pytorch) (0.8.2+cu110)\r\n",
      "Collecting einops>=0.3\r\n",
      "  Downloading einops-0.3.2-py3-none-any.whl (25 kB)\r\n",
      "Requirement already satisfied: torch>=1.6 in /opt/conda/lib/python3.7/site-packages (from vit-pytorch) (1.7.1+cu110)\r\n",
      "Requirement already satisfied: numpy in /opt/conda/lib/python3.7/site-packages (from torch>=1.6->vit-pytorch) (1.19.5)\r\n",
      "Requirement already satisfied: typing-extensions in /opt/conda/lib/python3.7/site-packages (from torch>=1.6->vit-pytorch) (3.7.4.3)\r\n",
      "Requirement already satisfied: pillow>=4.1.1 in /opt/conda/lib/python3.7/site-packages (from torchvision->vit-pytorch) (8.2.0)\r\n",
      "Installing collected packages: einops, vit-pytorch\r\n",
      "Successfully installed einops-0.3.2 vit-pytorch-0.20.7\r\n",
      "\u001b[33mWARNING: Running pip as the 'root' user can result in broken permissions and conflicting behaviour with the system package manager. It is recommended to use a virtual environment instead: https://pip.pypa.io/warnings/venv\u001b[0m\r\n"
     ]
    }
   ],
   "source": [
    "!pip install vit-pytorch"
   ]
  },
  {
   "cell_type": "code",
   "execution_count": 4,
   "id": "5cc3fa4e",
   "metadata": {
    "execution": {
     "iopub.execute_input": "2021-09-29T23:45:21.415923Z",
     "iopub.status.busy": "2021-09-29T23:45:21.415204Z",
     "iopub.status.idle": "2021-09-29T23:45:21.417891Z",
     "shell.execute_reply": "2021-09-29T23:45:21.417407Z",
     "shell.execute_reply.started": "2021-09-29T23:44:02.930808Z"
    },
    "papermill": {
     "duration": 0.022594,
     "end_time": "2021-09-29T23:45:21.418004",
     "exception": false,
     "start_time": "2021-09-29T23:45:21.395410",
     "status": "completed"
    },
    "tags": []
   },
   "outputs": [],
   "source": [
    "def testb():\n",
    "    acc = 0\n",
    "    total = 0\n",
    "    for n_, (x, y) in enumerate(val_dataloader):\n",
    "        x = x.to(device)\n",
    "        bs = x.shape[0]\n",
    "        x = x.reshape(bs, 3, 32, 32)\n",
    "        \n",
    "        y_hat = v(x) # add encodings?\n",
    "        for _, i in enumerate(y_hat):\n",
    "            if i.argmax() == y.to(device)[_]:\n",
    "                acc +=1\n",
    "            total +=1\n",
    "            \n",
    "    return acc/total"
   ]
  },
  {
   "cell_type": "code",
   "execution_count": 5,
   "id": "ba43b160",
   "metadata": {
    "execution": {
     "iopub.execute_input": "2021-09-29T23:45:21.454939Z",
     "iopub.status.busy": "2021-09-29T23:45:21.454158Z",
     "iopub.status.idle": "2021-09-30T00:28:34.643171Z",
     "shell.execute_reply": "2021-09-30T00:28:34.643571Z"
    },
    "papermill": {
     "duration": 2593.212986,
     "end_time": "2021-09-30T00:28:34.643735",
     "exception": false,
     "start_time": "2021-09-29T23:45:21.430749",
     "status": "completed"
    },
    "tags": []
   },
   "outputs": [
    {
     "name": "stderr",
     "output_type": "stream",
     "text": [
      "4.020136024746193: 100%|██████████| 196/196 [00:46<00:00,  4.20it/s]\n"
     ]
    },
    {
     "name": "stdout",
     "output_type": "stream",
     "text": [
      "0.1456\n"
     ]
    },
    {
     "name": "stderr",
     "output_type": "stream",
     "text": [
      "3.539839846228585: 100%|██████████| 196/196 [00:46<00:00,  4.25it/s]\n"
     ]
    },
    {
     "name": "stdout",
     "output_type": "stream",
     "text": [
      "0.1932\n"
     ]
    },
    {
     "name": "stderr",
     "output_type": "stream",
     "text": [
      "3.2979057815474304: 100%|██████████| 196/196 [00:46<00:00,  4.21it/s]\n"
     ]
    },
    {
     "name": "stdout",
     "output_type": "stream",
     "text": [
      "0.2214\n"
     ]
    },
    {
     "name": "stderr",
     "output_type": "stream",
     "text": [
      "3.1405292646533947: 100%|██████████| 196/196 [00:46<00:00,  4.22it/s]\n"
     ]
    },
    {
     "name": "stdout",
     "output_type": "stream",
     "text": [
      "0.2445\n"
     ]
    },
    {
     "name": "stderr",
     "output_type": "stream",
     "text": [
      "3.0091921423897525: 100%|██████████| 196/196 [00:45<00:00,  4.26it/s]\n"
     ]
    },
    {
     "name": "stdout",
     "output_type": "stream",
     "text": [
      "0.2564\n"
     ]
    },
    {
     "name": "stderr",
     "output_type": "stream",
     "text": [
      "2.8993418737111356: 100%|██████████| 196/196 [00:46<00:00,  4.19it/s]\n"
     ]
    },
    {
     "name": "stdout",
     "output_type": "stream",
     "text": [
      "0.2692\n"
     ]
    },
    {
     "name": "stderr",
     "output_type": "stream",
     "text": [
      "2.7785275841727475: 100%|██████████| 196/196 [00:46<00:00,  4.24it/s]\n"
     ]
    },
    {
     "name": "stdout",
     "output_type": "stream",
     "text": [
      "0.2923\n"
     ]
    },
    {
     "name": "stderr",
     "output_type": "stream",
     "text": [
      "2.6765647926911487: 100%|██████████| 196/196 [00:46<00:00,  4.19it/s]\n"
     ]
    },
    {
     "name": "stdout",
     "output_type": "stream",
     "text": [
      "0.3011\n"
     ]
    },
    {
     "name": "stderr",
     "output_type": "stream",
     "text": [
      "2.5711572327589627: 100%|██████████| 196/196 [00:46<00:00,  4.24it/s]\n"
     ]
    },
    {
     "name": "stdout",
     "output_type": "stream",
     "text": [
      "0.3114\n"
     ]
    },
    {
     "name": "stderr",
     "output_type": "stream",
     "text": [
      "2.473776415519908: 100%|██████████| 196/196 [00:46<00:00,  4.20it/s]\n"
     ]
    },
    {
     "name": "stdout",
     "output_type": "stream",
     "text": [
      "0.3153\n"
     ]
    },
    {
     "name": "stderr",
     "output_type": "stream",
     "text": [
      "2.381706121609296: 100%|██████████| 196/196 [00:45<00:00,  4.26it/s]\n"
     ]
    },
    {
     "name": "stdout",
     "output_type": "stream",
     "text": [
      "0.3288\n"
     ]
    },
    {
     "name": "stderr",
     "output_type": "stream",
     "text": [
      "2.268806108968512: 100%|██████████| 196/196 [00:46<00:00,  4.25it/s]\n"
     ]
    },
    {
     "name": "stdout",
     "output_type": "stream",
     "text": [
      "0.3402\n"
     ]
    },
    {
     "name": "stderr",
     "output_type": "stream",
     "text": [
      "2.161486010866117: 100%|██████████| 196/196 [00:47<00:00,  4.17it/s]\n"
     ]
    },
    {
     "name": "stdout",
     "output_type": "stream",
     "text": [
      "0.3451\n"
     ]
    },
    {
     "name": "stderr",
     "output_type": "stream",
     "text": [
      "2.041198265734058: 100%|██████████| 196/196 [00:45<00:00,  4.28it/s]\n"
     ]
    },
    {
     "name": "stdout",
     "output_type": "stream",
     "text": [
      "0.3511\n"
     ]
    },
    {
     "name": "stderr",
     "output_type": "stream",
     "text": [
      "1.9115924351106441: 100%|██████████| 196/196 [00:47<00:00,  4.17it/s]\n"
     ]
    },
    {
     "name": "stdout",
     "output_type": "stream",
     "text": [
      "0.348\n"
     ]
    },
    {
     "name": "stderr",
     "output_type": "stream",
     "text": [
      "1.7626104209628808: 100%|██████████| 196/196 [00:46<00:00,  4.24it/s]\n"
     ]
    },
    {
     "name": "stdout",
     "output_type": "stream",
     "text": [
      "0.3512\n"
     ]
    },
    {
     "name": "stderr",
     "output_type": "stream",
     "text": [
      "1.626542299532043: 100%|██████████| 196/196 [00:47<00:00,  4.11it/s]\n"
     ]
    },
    {
     "name": "stdout",
     "output_type": "stream",
     "text": [
      "0.3593\n"
     ]
    },
    {
     "name": "stderr",
     "output_type": "stream",
     "text": [
      "1.4745808712722082: 100%|██████████| 196/196 [00:46<00:00,  4.23it/s]\n"
     ]
    },
    {
     "name": "stdout",
     "output_type": "stream",
     "text": [
      "0.358\n"
     ]
    },
    {
     "name": "stderr",
     "output_type": "stream",
     "text": [
      "1.3123658465855013: 100%|██████████| 196/196 [00:47<00:00,  4.15it/s]\n"
     ]
    },
    {
     "name": "stdout",
     "output_type": "stream",
     "text": [
      "0.3648\n"
     ]
    },
    {
     "name": "stderr",
     "output_type": "stream",
     "text": [
      "1.1340068681591053: 100%|██████████| 196/196 [00:46<00:00,  4.19it/s]\n"
     ]
    },
    {
     "name": "stdout",
     "output_type": "stream",
     "text": [
      "0.3555\n"
     ]
    },
    {
     "name": "stderr",
     "output_type": "stream",
     "text": [
      "0.9788448120736833: 100%|██████████| 196/196 [00:47<00:00,  4.14it/s]\n"
     ]
    },
    {
     "name": "stdout",
     "output_type": "stream",
     "text": [
      "0.3587\n"
     ]
    },
    {
     "name": "stderr",
     "output_type": "stream",
     "text": [
      "0.808931379753926: 100%|██████████| 196/196 [00:47<00:00,  4.15it/s]\n"
     ]
    },
    {
     "name": "stdout",
     "output_type": "stream",
     "text": [
      "0.3619\n"
     ]
    },
    {
     "name": "stderr",
     "output_type": "stream",
     "text": [
      "0.6532562565682504: 100%|██████████| 196/196 [00:47<00:00,  4.11it/s]\n"
     ]
    },
    {
     "name": "stdout",
     "output_type": "stream",
     "text": [
      "0.3587\n"
     ]
    },
    {
     "name": "stderr",
     "output_type": "stream",
     "text": [
      "0.5466478996470495: 100%|██████████| 196/196 [00:46<00:00,  4.20it/s]\n"
     ]
    },
    {
     "name": "stdout",
     "output_type": "stream",
     "text": [
      "0.3589\n"
     ]
    },
    {
     "name": "stderr",
     "output_type": "stream",
     "text": [
      "0.44441254126844065: 100%|██████████| 196/196 [00:48<00:00,  4.08it/s]\n"
     ]
    },
    {
     "name": "stdout",
     "output_type": "stream",
     "text": [
      "0.3598\n"
     ]
    },
    {
     "name": "stderr",
     "output_type": "stream",
     "text": [
      "0.36955648509378963: 100%|██████████| 196/196 [00:46<00:00,  4.19it/s]\n"
     ]
    },
    {
     "name": "stdout",
     "output_type": "stream",
     "text": [
      "0.3539\n"
     ]
    },
    {
     "name": "stderr",
     "output_type": "stream",
     "text": [
      "0.31949226263210856: 100%|██████████| 196/196 [00:47<00:00,  4.09it/s]\n"
     ]
    },
    {
     "name": "stdout",
     "output_type": "stream",
     "text": [
      "0.3576\n"
     ]
    },
    {
     "name": "stderr",
     "output_type": "stream",
     "text": [
      "0.2776756092981639: 100%|██████████| 196/196 [00:47<00:00,  4.15it/s]\n"
     ]
    },
    {
     "name": "stdout",
     "output_type": "stream",
     "text": [
      "0.3566\n"
     ]
    },
    {
     "name": "stderr",
     "output_type": "stream",
     "text": [
      "0.23236114966687818: 100%|██████████| 196/196 [00:48<00:00,  4.06it/s]\n"
     ]
    },
    {
     "name": "stdout",
     "output_type": "stream",
     "text": [
      "0.358\n"
     ]
    },
    {
     "name": "stderr",
     "output_type": "stream",
     "text": [
      "0.2103341388218294: 100%|██████████| 196/196 [00:47<00:00,  4.12it/s]\n"
     ]
    },
    {
     "name": "stdout",
     "output_type": "stream",
     "text": [
      "0.3584\n"
     ]
    },
    {
     "name": "stderr",
     "output_type": "stream",
     "text": [
      "0.2119835403364927: 100%|██████████| 196/196 [00:48<00:00,  4.02it/s]\n"
     ]
    },
    {
     "name": "stdout",
     "output_type": "stream",
     "text": [
      "0.3546\n"
     ]
    },
    {
     "name": "stderr",
     "output_type": "stream",
     "text": [
      "0.1953564948842005: 100%|██████████| 196/196 [00:47<00:00,  4.12it/s]\n"
     ]
    },
    {
     "name": "stdout",
     "output_type": "stream",
     "text": [
      "0.356\n"
     ]
    },
    {
     "name": "stderr",
     "output_type": "stream",
     "text": [
      "0.17107300346877974: 100%|██████████| 196/196 [00:49<00:00,  3.99it/s]\n"
     ]
    },
    {
     "name": "stdout",
     "output_type": "stream",
     "text": [
      "0.3579\n"
     ]
    },
    {
     "name": "stderr",
     "output_type": "stream",
     "text": [
      "0.16347827039999405: 100%|██████████| 196/196 [00:47<00:00,  4.14it/s]\n"
     ]
    },
    {
     "name": "stdout",
     "output_type": "stream",
     "text": [
      "0.3588\n"
     ]
    },
    {
     "name": "stderr",
     "output_type": "stream",
     "text": [
      "0.1567384942534006: 100%|██████████| 196/196 [00:48<00:00,  4.07it/s]\n"
     ]
    },
    {
     "name": "stdout",
     "output_type": "stream",
     "text": [
      "0.3553\n"
     ]
    },
    {
     "name": "stderr",
     "output_type": "stream",
     "text": [
      "0.1526617737590964: 100%|██████████| 196/196 [00:47<00:00,  4.11it/s]\n"
     ]
    },
    {
     "name": "stdout",
     "output_type": "stream",
     "text": [
      "0.3535\n"
     ]
    },
    {
     "name": "stderr",
     "output_type": "stream",
     "text": [
      "0.14016841752880116: 100%|██████████| 196/196 [00:47<00:00,  4.12it/s]\n"
     ]
    },
    {
     "name": "stdout",
     "output_type": "stream",
     "text": [
      "0.351\n"
     ]
    },
    {
     "name": "stderr",
     "output_type": "stream",
     "text": [
      "0.15128673998837544: 100%|██████████| 196/196 [00:48<00:00,  4.02it/s]\n"
     ]
    },
    {
     "name": "stdout",
     "output_type": "stream",
     "text": [
      "0.3541\n"
     ]
    },
    {
     "name": "stderr",
     "output_type": "stream",
     "text": [
      "0.12541130956659463: 100%|██████████| 196/196 [00:47<00:00,  4.17it/s]\n"
     ]
    },
    {
     "name": "stdout",
     "output_type": "stream",
     "text": [
      "0.3575\n"
     ]
    },
    {
     "name": "stderr",
     "output_type": "stream",
     "text": [
      "0.12889124294222915: 100%|██████████| 196/196 [00:47<00:00,  4.09it/s]\n"
     ]
    },
    {
     "name": "stdout",
     "output_type": "stream",
     "text": [
      "0.3482\n"
     ]
    },
    {
     "name": "stderr",
     "output_type": "stream",
     "text": [
      "0.12526444372186807: 100%|██████████| 196/196 [00:46<00:00,  4.17it/s]\n"
     ]
    },
    {
     "name": "stdout",
     "output_type": "stream",
     "text": [
      "0.3565\n"
     ]
    },
    {
     "name": "stderr",
     "output_type": "stream",
     "text": [
      "0.11883459720514752: 100%|██████████| 196/196 [00:47<00:00,  4.16it/s]\n"
     ]
    },
    {
     "name": "stdout",
     "output_type": "stream",
     "text": [
      "0.3569\n"
     ]
    },
    {
     "name": "stderr",
     "output_type": "stream",
     "text": [
      "0.12250833462942676: 100%|██████████| 196/196 [00:47<00:00,  4.12it/s]\n"
     ]
    },
    {
     "name": "stdout",
     "output_type": "stream",
     "text": [
      "0.3503\n"
     ]
    },
    {
     "name": "stderr",
     "output_type": "stream",
     "text": [
      "0.11976044553185478: 100%|██████████| 196/196 [00:45<00:00,  4.32it/s]\n"
     ]
    },
    {
     "name": "stdout",
     "output_type": "stream",
     "text": [
      "0.3501\n"
     ]
    },
    {
     "name": "stderr",
     "output_type": "stream",
     "text": [
      "0.11703910440357808: 100%|██████████| 196/196 [00:47<00:00,  4.17it/s]\n"
     ]
    },
    {
     "name": "stdout",
     "output_type": "stream",
     "text": [
      "0.3538\n"
     ]
    },
    {
     "name": "stderr",
     "output_type": "stream",
     "text": [
      "0.10856321499432404: 100%|██████████| 196/196 [00:47<00:00,  4.15it/s]\n"
     ]
    },
    {
     "name": "stdout",
     "output_type": "stream",
     "text": [
      "0.3514\n"
     ]
    },
    {
     "name": "stderr",
     "output_type": "stream",
     "text": [
      "0.10321407027656052: 100%|██████████| 196/196 [00:46<00:00,  4.20it/s]\n"
     ]
    },
    {
     "name": "stdout",
     "output_type": "stream",
     "text": [
      "0.3516\n"
     ]
    },
    {
     "name": "stderr",
     "output_type": "stream",
     "text": [
      "0.10635580266187639: 100%|██████████| 196/196 [00:45<00:00,  4.31it/s]\n"
     ]
    },
    {
     "name": "stdout",
     "output_type": "stream",
     "text": [
      "0.3515\n"
     ]
    },
    {
     "name": "stderr",
     "output_type": "stream",
     "text": [
      "0.09383568545888524: 100%|██████████| 196/196 [00:46<00:00,  4.19it/s]\n"
     ]
    },
    {
     "name": "stdout",
     "output_type": "stream",
     "text": [
      "0.3616\n"
     ]
    },
    {
     "name": "stderr",
     "output_type": "stream",
     "text": [
      "0.1014841437944906: 100%|██████████| 196/196 [00:46<00:00,  4.17it/s]\n"
     ]
    },
    {
     "name": "stdout",
     "output_type": "stream",
     "text": [
      "0.3562\n"
     ]
    }
   ],
   "source": [
    "\n",
    "import torch\n",
    "from vit_pytorch import ViT\n",
    "\n",
    "# get ViT-B/16 model\n",
    "\"\"\"\n",
    "# ViT-L/8\n",
    "v = ViT(\n",
    "    image_size = 32,\n",
    "    patch_size = 8,\n",
    "    num_classes = 10,\n",
    "    dim = 1024,\n",
    "    depth = 24,\n",
    "    heads = 16,\n",
    "    mlp_dim = 4096,\n",
    "    dropout = 0.1,\n",
    "    emb_dropout = 0.1\n",
    ")\n",
    "\"\"\"\n",
    "#\n",
    "v = ViT(\n",
    "    image_size = 32,\n",
    "    patch_size = patch_size,\n",
    "    num_classes = 100,\n",
    "    dim = 768,\n",
    "    depth = 12,\n",
    "    heads = 12,\n",
    "    mlp_dim = 3072,\n",
    "    dropout = 0.1,\n",
    "    emb_dropout = 0.1\n",
    ")\n",
    "v.eval()\n",
    "\n",
    "# initialize stuffs\n",
    "losslist_n = []\n",
    "v = v.to(device)\n",
    "voptimizer = torch.optim.Adam(v.parameters(), lr=.0001)\n",
    "import random\n",
    "\n",
    "acc = 0\n",
    "total = 0\n",
    "# do loop for baseline\n",
    "for epoch in range(50):\n",
    "    t = tqdm.tqdm(train_dataloader, position=0, leave=True)\n",
    "    tloss = 0\n",
    "    # loop over data\n",
    "    n = 0\n",
    "    for (x, y) in t:\n",
    "        n +=1\n",
    "        bs = x.shape[0]\n",
    "        \n",
    "        # change device to gpu\n",
    "        x = x.to(device)\n",
    "        y = y.to(device)\n",
    "        \n",
    "        # forward pass\n",
    "        x = x.reshape(bs, 3, 32, 32)\n",
    "        f_y_hat = v(x)\n",
    "        \n",
    "        # backward pass\n",
    "        loss = torch.nn.CrossEntropyLoss()((f_y_hat).reshape([bs, 100]), y) # nn.ReLU()\n",
    "        loss.backward()\n",
    "        tloss += loss\n",
    "        \n",
    "        # optimize\n",
    "        voptimizer.step() \n",
    "        voptimizer.zero_grad()\n",
    "        \n",
    "        # keep track of this epoch's loss\n",
    "        t.set_description_str(str(tloss.detach().cpu().numpy()/(n+1))) # 14:.2\n",
    "        \n",
    "    # test epoch's accuracy and append it to the list\n",
    "    l = testb()\n",
    "    print(l)\n",
    "    losslist_n.append(l)\n",
    "    \n",
    "# 5 = 2 normal\n",
    "# new 1.8 = 5"
   ]
  },
  {
   "cell_type": "code",
   "execution_count": 6,
   "id": "a175dbb2",
   "metadata": {
    "execution": {
     "iopub.execute_input": "2021-09-30T00:28:45.548578Z",
     "iopub.status.busy": "2021-09-30T00:28:45.547658Z",
     "iopub.status.idle": "2021-09-30T00:28:46.142826Z",
     "shell.execute_reply": "2021-09-30T00:28:46.142317Z"
    },
    "papermill": {
     "duration": 6.41374,
     "end_time": "2021-09-30T00:28:46.142966",
     "exception": false,
     "start_time": "2021-09-30T00:28:39.729226",
     "status": "completed"
    },
    "tags": []
   },
   "outputs": [
    {
     "name": "stdout",
     "output_type": "stream",
     "text": [
      "[0.1456, 0.1932, 0.2214, 0.2445, 0.2564, 0.2692, 0.2923, 0.3011, 0.3114, 0.3153, 0.3288, 0.3402, 0.3451, 0.3511, 0.348, 0.3512, 0.3593, 0.358, 0.3648, 0.3555, 0.3587, 0.3619, 0.3587, 0.3589, 0.3598, 0.3539, 0.3576, 0.3566, 0.358, 0.3584, 0.3546, 0.356, 0.3579, 0.3588, 0.3553, 0.3535, 0.351, 0.3541, 0.3575, 0.3482, 0.3565, 0.3569, 0.3503, 0.3501, 0.3538, 0.3514, 0.3516, 0.3515, 0.3616, 0.3562]\n"
     ]
    }
   ],
   "source": [
    "# load in ViT-b/16 results from the above code ran in previous version, I seperated these two in case the session was terminated and the data would be lost\n",
    "#losslist_n = [0.3157, 0.3891, 0.439, 0.4689, 0.477, 0.4756, 0.5138, 0.5237, 0.5193, 0.5305, 0.5254, 0.5387, 0.538, 0.5333, 0.5338, 0.537, 0.5315, 0.5291, 0.5326, 0.5311, 0.5343, 0.5281, 0.5314, 0.5348, 0.5386, 0.5441, 0.5356, 0.5313, 0.5389, 0.5413, 0.5356, 0.5364, 0.5333, 0.5355, 0.5315, 0.5379, 0.532, 0.535, 0.5357, 0.5372, 0.5377, 0.5473, 0.5449, 0.5476, 0.537, 0.54, 0.5382, 0.5447, 0.5443, 0.5383, 0.5358, 0.5437, 0.5411, 0.5445, 0.5457, 0.5427, 0.5417, 0.5376, 0.5367, 0.5335, 0.5391, 0.5463, 0.5426, 0.5446, 0.5442, 0.5437, 0.5425, 0.5407, 0.5454, 0.5453, 0.5496, 0.5428, 0.544, 0.5299, 0.5423, 0.5399, 0.5405, 0.5388, 0.5386, 0.5387, 0.5513, 0.545, 0.5419, 0.537, 0.5384, 0.5405, 0.5462, 0.5379, 0.5495, 0.55, 0.5417, 0.5526, 0.5459, 0.5427, 0.5366, 0.5468, 0.5494, 0.5487, 0.5459, 0.5411, 0.5495, 0.5474, 0.5455, 0.5498, 0.5476, 0.5476, 0.5509, 0.5454, 0.5459, 0.539, 0.545, 0.5509, 0.5467, 0.5453, 0.5409, 0.5493, 0.5422, 0.5379, 0.5439, 0.5438, 0.5488, 0.5497, 0.545, 0.5481, 0.5501, 0.5567, 0.5476, 0.5431, 0.5437, 0.5458, 0.5469, 0.5469, 0.5483, 0.5442, 0.5466, 0.5471, 0.5525, 0.546, 0.5458, 0.5472, 0.5459, 0.5471, 0.5432, 0.5493, 0.5521, 0.5455, 0.5441, 0.5422, 0.5487, 0.5507, 0.5461, 0.5522, 0.5425, 0.5502, 0.5555, 0.5563, 0.5524, 0.5537, 0.5462, 0.5571, 0.5475, 0.5464, 0.548, 0.5335, 0.5488, 0.5503, 0.5507, 0.5481, 0.5403, 0.5444, 0.5473, 0.5435, 0.5491, 0.5421, 0.5532, 0.5531, 0.5546, 0.5551, 0.5534, 0.5484, 0.5433, 0.5558, 0.5452, 0.5509, 0.5482, 0.5452, 0.5556, 0.5527, 0.5511, 0.5469, 0.5474, 0.549, 0.547, 0.5456, 0.5508, 0.5471, 0.5571, 0.5499, 0.554, 0.5525]\n",
    "print(losslist_n)\n",
    "\n",
    "torch.save(v.state_dict(), \"v\")\n",
    "#torch.save(Head.state_dict(), \"H\")"
   ]
  },
  {
   "cell_type": "code",
   "execution_count": 7,
   "id": "a20a9264",
   "metadata": {
    "execution": {
     "iopub.execute_input": "2021-09-30T00:28:56.809393Z",
     "iopub.status.busy": "2021-09-30T00:28:56.808521Z",
     "iopub.status.idle": "2021-09-30T00:28:56.810322Z",
     "shell.execute_reply": "2021-09-30T00:28:56.810766Z"
    },
    "papermill": {
     "duration": 5.394864,
     "end_time": "2021-09-30T00:28:56.810896",
     "exception": false,
     "start_time": "2021-09-30T00:28:51.416032",
     "status": "completed"
    },
    "tags": []
   },
   "outputs": [],
   "source": [
    "def test(f):\n",
    "    acc = 0\n",
    "    total = 0\n",
    "    # loop over test set\n",
    "    for n_, (x, y) in enumerate(val_dataloader):\n",
    "        bs = x.shape[0]\n",
    "        x = x.to(device)\n",
    "        \n",
    "        # f is how many times ViT loops over data\n",
    "        for i in range(f):\n",
    "            x = v(x)\n",
    "            x = x.reshape(bs, 3, 32, 32)\n",
    "            \n",
    "        # apply Head\n",
    "        y_hat = Head(x)\n",
    "        \n",
    "        # loop over predicted and see if equal to the ground truth\n",
    "        for _, i in enumerate(y_hat):\n",
    "            if i.argmax() == y.to(device)[_]:\n",
    "                acc +=1\n",
    "            total +=1\n",
    "            \n",
    "    return acc/total"
   ]
  },
  {
   "cell_type": "code",
   "execution_count": 8,
   "id": "d6968a3f",
   "metadata": {
    "execution": {
     "iopub.execute_input": "2021-09-30T00:29:07.144460Z",
     "iopub.status.busy": "2021-09-30T00:29:07.143681Z",
     "iopub.status.idle": "2021-09-30T00:29:07.146182Z",
     "shell.execute_reply": "2021-09-30T00:29:07.145783Z"
    },
    "papermill": {
     "duration": 5.319089,
     "end_time": "2021-09-30T00:29:07.146293",
     "exception": false,
     "start_time": "2021-09-30T00:29:01.827204",
     "status": "completed"
    },
    "tags": []
   },
   "outputs": [],
   "source": [
    "# blank module to replace nn.Softmaxes with\n",
    "class make_linear(torch.nn.Module):\n",
    "    def __init__(self):\n",
    "        super(make_linear, self).__init__()\n",
    "\n",
    "    def forward(self, x):\n",
    "        return x"
   ]
  },
  {
   "cell_type": "code",
   "execution_count": 9,
   "id": "8f666ac7",
   "metadata": {
    "execution": {
     "iopub.execute_input": "2021-09-30T00:29:18.240530Z",
     "iopub.status.busy": "2021-09-30T00:29:18.239620Z",
     "iopub.status.idle": "2021-09-30T00:29:18.241589Z",
     "shell.execute_reply": "2021-09-30T00:29:18.241997Z"
    },
    "papermill": {
     "duration": 6.024916,
     "end_time": "2021-09-30T00:29:18.242134",
     "exception": false,
     "start_time": "2021-09-30T00:29:12.217218",
     "status": "completed"
    },
    "tags": []
   },
   "outputs": [],
   "source": [
    "def replace_layers(model, old, new):\n",
    "    # stolen from stack overflow, replaces all non linearities so that transformers are linear\n",
    "    for n, module in model.named_children():\n",
    "        if len(list(module.children())) > 0:\n",
    "            ## compound module, go inside it\n",
    "            replace_layers(module, old, new)\n",
    "            \n",
    "        if isinstance(module, old):\n",
    "            ## simple module\n",
    "            setattr(model, n, new)"
   ]
  },
  {
   "cell_type": "code",
   "execution_count": 10,
   "id": "f1f13ae1",
   "metadata": {
    "execution": {
     "iopub.execute_input": "2021-09-30T00:29:28.747017Z",
     "iopub.status.busy": "2021-09-30T00:29:28.746249Z",
     "iopub.status.idle": "2021-09-30T00:59:45.261143Z",
     "shell.execute_reply": "2021-09-30T00:59:45.261620Z"
    },
    "papermill": {
     "duration": 1821.849963,
     "end_time": "2021-09-30T00:59:45.261792",
     "exception": false,
     "start_time": "2021-09-30T00:29:23.411829",
     "status": "completed"
    },
    "tags": []
   },
   "outputs": [
    {
     "name": "stderr",
     "output_type": "stream",
     "text": [
      "3.899574124083227: 100%|██████████| 196/196 [00:30<00:00,  6.45it/s]\n"
     ]
    },
    {
     "name": "stdout",
     "output_type": "stream",
     "text": [
      "0.1535\n"
     ]
    },
    {
     "name": "stderr",
     "output_type": "stream",
     "text": [
      "3.5068066655373085: 100%|██████████| 196/196 [00:32<00:00,  5.97it/s]\n"
     ]
    },
    {
     "name": "stdout",
     "output_type": "stream",
     "text": [
      "0.1935\n"
     ]
    },
    {
     "name": "stderr",
     "output_type": "stream",
     "text": [
      "3.2931826844507333: 100%|██████████| 196/196 [00:30<00:00,  6.42it/s]\n"
     ]
    },
    {
     "name": "stdout",
     "output_type": "stream",
     "text": [
      "0.2258\n"
     ]
    },
    {
     "name": "stderr",
     "output_type": "stream",
     "text": [
      "3.138007339166135: 100%|██████████| 196/196 [00:33<00:00,  5.93it/s]\n"
     ]
    },
    {
     "name": "stdout",
     "output_type": "stream",
     "text": [
      "0.2502\n"
     ]
    },
    {
     "name": "stderr",
     "output_type": "stream",
     "text": [
      "3.0120354477240117: 100%|██████████| 196/196 [00:30<00:00,  6.48it/s]\n"
     ]
    },
    {
     "name": "stdout",
     "output_type": "stream",
     "text": [
      "0.2683\n"
     ]
    },
    {
     "name": "stderr",
     "output_type": "stream",
     "text": [
      "2.907410602180325: 100%|██████████| 196/196 [00:33<00:00,  5.80it/s]\n"
     ]
    },
    {
     "name": "stdout",
     "output_type": "stream",
     "text": [
      "0.2768\n"
     ]
    },
    {
     "name": "stderr",
     "output_type": "stream",
     "text": [
      "2.806600453902264: 100%|██████████| 196/196 [00:30<00:00,  6.45it/s]\n"
     ]
    },
    {
     "name": "stdout",
     "output_type": "stream",
     "text": [
      "0.2903\n"
     ]
    },
    {
     "name": "stderr",
     "output_type": "stream",
     "text": [
      "2.7120996591996174: 100%|██████████| 196/196 [00:34<00:00,  5.60it/s]\n"
     ]
    },
    {
     "name": "stdout",
     "output_type": "stream",
     "text": [
      "0.3079\n"
     ]
    },
    {
     "name": "stderr",
     "output_type": "stream",
     "text": [
      "2.620519209881218: 100%|██████████| 196/196 [00:31<00:00,  6.29it/s]\n"
     ]
    },
    {
     "name": "stdout",
     "output_type": "stream",
     "text": [
      "0.3135\n"
     ]
    },
    {
     "name": "stderr",
     "output_type": "stream",
     "text": [
      "2.5428074428013394: 100%|██████████| 196/196 [00:34<00:00,  5.63it/s]\n"
     ]
    },
    {
     "name": "stdout",
     "output_type": "stream",
     "text": [
      "0.3267\n"
     ]
    },
    {
     "name": "stderr",
     "output_type": "stream",
     "text": [
      "2.4426791132712853: 100%|██████████| 196/196 [00:30<00:00,  6.35it/s]\n"
     ]
    },
    {
     "name": "stdout",
     "output_type": "stream",
     "text": [
      "0.3371\n"
     ]
    },
    {
     "name": "stderr",
     "output_type": "stream",
     "text": [
      "2.3546011788504466: 100%|██████████| 196/196 [00:34<00:00,  5.67it/s]\n"
     ]
    },
    {
     "name": "stdout",
     "output_type": "stream",
     "text": [
      "0.3463\n"
     ]
    },
    {
     "name": "stderr",
     "output_type": "stream",
     "text": [
      "2.269829574896365: 100%|██████████| 196/196 [00:31<00:00,  6.31it/s]\n"
     ]
    },
    {
     "name": "stdout",
     "output_type": "stream",
     "text": [
      "0.3482\n"
     ]
    },
    {
     "name": "stderr",
     "output_type": "stream",
     "text": [
      "2.182600060287787: 100%|██████████| 196/196 [00:35<00:00,  5.57it/s]\n"
     ]
    },
    {
     "name": "stdout",
     "output_type": "stream",
     "text": [
      "0.3503\n"
     ]
    },
    {
     "name": "stderr",
     "output_type": "stream",
     "text": [
      "2.0869017620475923: 100%|██████████| 196/196 [00:31<00:00,  6.21it/s]\n"
     ]
    },
    {
     "name": "stdout",
     "output_type": "stream",
     "text": [
      "0.3664\n"
     ]
    },
    {
     "name": "stderr",
     "output_type": "stream",
     "text": [
      "1.9931422642299108: 100%|██████████| 196/196 [00:34<00:00,  5.61it/s]\n"
     ]
    },
    {
     "name": "stdout",
     "output_type": "stream",
     "text": [
      "0.3605\n"
     ]
    },
    {
     "name": "stderr",
     "output_type": "stream",
     "text": [
      "1.899981907435826: 100%|██████████| 196/196 [00:31<00:00,  6.23it/s]\n"
     ]
    },
    {
     "name": "stdout",
     "output_type": "stream",
     "text": [
      "0.3722\n"
     ]
    },
    {
     "name": "stderr",
     "output_type": "stream",
     "text": [
      "1.782208656778141: 100%|██████████| 196/196 [00:35<00:00,  5.51it/s]\n"
     ]
    },
    {
     "name": "stdout",
     "output_type": "stream",
     "text": [
      "0.3702\n"
     ]
    },
    {
     "name": "stderr",
     "output_type": "stream",
     "text": [
      "1.6790678063217475: 100%|██████████| 196/196 [00:31<00:00,  6.31it/s]\n"
     ]
    },
    {
     "name": "stdout",
     "output_type": "stream",
     "text": [
      "0.3735\n"
     ]
    },
    {
     "name": "stderr",
     "output_type": "stream",
     "text": [
      "1.5715987536371971: 100%|██████████| 196/196 [00:36<00:00,  5.41it/s]\n"
     ]
    },
    {
     "name": "stdout",
     "output_type": "stream",
     "text": [
      "0.3728\n"
     ]
    },
    {
     "name": "stderr",
     "output_type": "stream",
     "text": [
      "1.464161152742347: 100%|██████████| 196/196 [00:30<00:00,  6.32it/s]\n"
     ]
    },
    {
     "name": "stdout",
     "output_type": "stream",
     "text": [
      "0.3774\n"
     ]
    },
    {
     "name": "stderr",
     "output_type": "stream",
     "text": [
      "1.3390451548050861: 100%|██████████| 196/196 [00:35<00:00,  5.46it/s]\n"
     ]
    },
    {
     "name": "stdout",
     "output_type": "stream",
     "text": [
      "0.3714\n"
     ]
    },
    {
     "name": "stderr",
     "output_type": "stream",
     "text": [
      "1.2154370522012516: 100%|██████████| 196/196 [00:31<00:00,  6.27it/s]\n"
     ]
    },
    {
     "name": "stdout",
     "output_type": "stream",
     "text": [
      "0.3732\n"
     ]
    },
    {
     "name": "stderr",
     "output_type": "stream",
     "text": [
      "1.0896565962810905: 100%|██████████| 196/196 [00:35<00:00,  5.60it/s]\n"
     ]
    },
    {
     "name": "stdout",
     "output_type": "stream",
     "text": [
      "0.3713\n"
     ]
    },
    {
     "name": "stderr",
     "output_type": "stream",
     "text": [
      "0.9747733291314573: 100%|██████████| 196/196 [00:31<00:00,  6.29it/s]\n"
     ]
    },
    {
     "name": "stdout",
     "output_type": "stream",
     "text": [
      "0.3699\n"
     ]
    },
    {
     "name": "stderr",
     "output_type": "stream",
     "text": [
      "0.855662287498007: 100%|██████████| 196/196 [00:35<00:00,  5.46it/s]\n"
     ]
    },
    {
     "name": "stdout",
     "output_type": "stream",
     "text": [
      "0.3747\n"
     ]
    },
    {
     "name": "stderr",
     "output_type": "stream",
     "text": [
      "0.7522649181132414: 100%|██████████| 196/196 [00:30<00:00,  6.34it/s]\n"
     ]
    },
    {
     "name": "stdout",
     "output_type": "stream",
     "text": [
      "0.374\n"
     ]
    },
    {
     "name": "stderr",
     "output_type": "stream",
     "text": [
      "0.6412701898691605: 100%|██████████| 196/196 [00:35<00:00,  5.52it/s]\n"
     ]
    },
    {
     "name": "stdout",
     "output_type": "stream",
     "text": [
      "0.375\n"
     ]
    },
    {
     "name": "stderr",
     "output_type": "stream",
     "text": [
      "0.5565331128178811: 100%|██████████| 196/196 [00:30<00:00,  6.34it/s]\n"
     ]
    },
    {
     "name": "stdout",
     "output_type": "stream",
     "text": [
      "0.3727\n"
     ]
    },
    {
     "name": "stderr",
     "output_type": "stream",
     "text": [
      "0.4711518579599809: 100%|██████████| 196/196 [00:35<00:00,  5.47it/s]\n"
     ]
    },
    {
     "name": "stdout",
     "output_type": "stream",
     "text": [
      "0.3708\n"
     ]
    },
    {
     "name": "stderr",
     "output_type": "stream",
     "text": [
      "0.4148018895363321: 100%|██████████| 196/196 [00:30<00:00,  6.44it/s]\n"
     ]
    },
    {
     "name": "stdout",
     "output_type": "stream",
     "text": [
      "0.3715\n"
     ]
    },
    {
     "name": "stderr",
     "output_type": "stream",
     "text": [
      "0.36740668939084425: 100%|██████████| 196/196 [00:35<00:00,  5.53it/s]\n"
     ]
    },
    {
     "name": "stdout",
     "output_type": "stream",
     "text": [
      "0.369\n"
     ]
    },
    {
     "name": "stderr",
     "output_type": "stream",
     "text": [
      "0.3226774371400171: 100%|██████████| 196/196 [00:30<00:00,  6.46it/s]\n"
     ]
    },
    {
     "name": "stdout",
     "output_type": "stream",
     "text": [
      "0.3708\n"
     ]
    },
    {
     "name": "stderr",
     "output_type": "stream",
     "text": [
      "0.2854840609492088: 100%|██████████| 196/196 [00:30<00:00,  6.37it/s]\n"
     ]
    },
    {
     "name": "stdout",
     "output_type": "stream",
     "text": [
      "0.3679\n"
     ]
    },
    {
     "name": "stderr",
     "output_type": "stream",
     "text": [
      "0.26443193396743464: 100%|██████████| 196/196 [00:30<00:00,  6.42it/s]\n"
     ]
    },
    {
     "name": "stdout",
     "output_type": "stream",
     "text": [
      "0.3695\n"
     ]
    },
    {
     "name": "stderr",
     "output_type": "stream",
     "text": [
      "0.23656584292042013: 100%|██████████| 196/196 [00:35<00:00,  5.54it/s]\n"
     ]
    },
    {
     "name": "stdout",
     "output_type": "stream",
     "text": [
      "0.3686\n"
     ]
    },
    {
     "name": "stderr",
     "output_type": "stream",
     "text": [
      "0.2222594047079281: 100%|██████████| 196/196 [00:30<00:00,  6.45it/s]\n"
     ]
    },
    {
     "name": "stdout",
     "output_type": "stream",
     "text": [
      "0.3686\n"
     ]
    },
    {
     "name": "stderr",
     "output_type": "stream",
     "text": [
      "0.20506520173987564: 100%|██████████| 196/196 [00:30<00:00,  6.44it/s]\n"
     ]
    },
    {
     "name": "stdout",
     "output_type": "stream",
     "text": [
      "0.3724\n"
     ]
    },
    {
     "name": "stderr",
     "output_type": "stream",
     "text": [
      "0.19808311851657168: 100%|██████████| 196/196 [00:30<00:00,  6.34it/s]\n"
     ]
    },
    {
     "name": "stdout",
     "output_type": "stream",
     "text": [
      "0.3646\n"
     ]
    },
    {
     "name": "stderr",
     "output_type": "stream",
     "text": [
      "0.18555693723717515: 100%|██████████| 196/196 [00:33<00:00,  5.84it/s]\n"
     ]
    },
    {
     "name": "stdout",
     "output_type": "stream",
     "text": [
      "0.3652\n"
     ]
    },
    {
     "name": "stderr",
     "output_type": "stream",
     "text": [
      "0.18392592060322666: 100%|██████████| 196/196 [00:30<00:00,  6.44it/s]\n"
     ]
    },
    {
     "name": "stdout",
     "output_type": "stream",
     "text": [
      "0.3622\n"
     ]
    },
    {
     "name": "stderr",
     "output_type": "stream",
     "text": [
      "0.17512660123864: 100%|██████████| 196/196 [00:30<00:00,  6.47it/s]\n"
     ]
    },
    {
     "name": "stdout",
     "output_type": "stream",
     "text": [
      "0.3663\n"
     ]
    },
    {
     "name": "stderr",
     "output_type": "stream",
     "text": [
      "0.16654602362185109: 100%|██████████| 196/196 [00:34<00:00,  5.75it/s]\n"
     ]
    },
    {
     "name": "stdout",
     "output_type": "stream",
     "text": [
      "0.3635\n"
     ]
    },
    {
     "name": "stderr",
     "output_type": "stream",
     "text": [
      "0.16603010527941645: 100%|██████████| 196/196 [00:30<00:00,  6.43it/s]\n"
     ]
    },
    {
     "name": "stdout",
     "output_type": "stream",
     "text": [
      "0.367\n"
     ]
    },
    {
     "name": "stderr",
     "output_type": "stream",
     "text": [
      "0.14183763581879286: 100%|██████████| 196/196 [00:30<00:00,  6.44it/s]\n"
     ]
    },
    {
     "name": "stdout",
     "output_type": "stream",
     "text": [
      "0.3682\n"
     ]
    },
    {
     "name": "stderr",
     "output_type": "stream",
     "text": [
      "0.13313562042859137: 100%|██████████| 196/196 [00:30<00:00,  6.41it/s]\n"
     ]
    },
    {
     "name": "stdout",
     "output_type": "stream",
     "text": [
      "0.3623\n"
     ]
    },
    {
     "name": "stderr",
     "output_type": "stream",
     "text": [
      "0.13062980223675164: 100%|██████████| 196/196 [00:36<00:00,  5.37it/s]\n"
     ]
    },
    {
     "name": "stdout",
     "output_type": "stream",
     "text": [
      "0.3642\n"
     ]
    },
    {
     "name": "stderr",
     "output_type": "stream",
     "text": [
      "0.13388048872655753: 100%|██████████| 196/196 [00:30<00:00,  6.40it/s]\n"
     ]
    },
    {
     "name": "stdout",
     "output_type": "stream",
     "text": [
      "0.3549\n"
     ]
    },
    {
     "name": "stderr",
     "output_type": "stream",
     "text": [
      "0.12761744674371214: 100%|██████████| 196/196 [00:30<00:00,  6.42it/s]\n"
     ]
    },
    {
     "name": "stdout",
     "output_type": "stream",
     "text": [
      "0.3628\n"
     ]
    },
    {
     "name": "stderr",
     "output_type": "stream",
     "text": [
      "0.13021764949876435: 100%|██████████| 196/196 [00:30<00:00,  6.45it/s]\n"
     ]
    },
    {
     "name": "stdout",
     "output_type": "stream",
     "text": [
      "0.3606\n"
     ]
    }
   ],
   "source": [
    "import torch\n",
    "from vit_pytorch import ViT\n",
    "\n",
    "v = ViT(\n",
    "    image_size = 32,\n",
    "    patch_size = 16,\n",
    "    num_classes = 10,\n",
    "    dim = 768,\n",
    "    depth = 8,\n",
    "    heads = 4,\n",
    "    mlp_dim = 1024,\n",
    "    dropout = 0.1,\n",
    "    emb_dropout = 0.1\n",
    ")\n",
    "v.eval()\n",
    "v = torch.nn.Sequential(*(list(v.children())[:-1])) # get rid of MLP dim\n",
    "# MLP dim consists of Layernorm and then activationless FC\n",
    "v = torch.nn.Sequential(*(list(v.children()) + [nn.BatchNorm1d(4)])) #\n",
    "#replace_layers(v, nn.Softmax, make_linear())\n",
    "\n",
    "losslist_r = []\n",
    "\n",
    "#Head = torch.nn.Sequential(*(list([ViT(image_size=32, patch_size=32, num_classes=10, dim=768, depth=1, heads=4, mlp_dim=3072)]))) # might want to increase head size bc the ViT is just interpresting patterns this actually makes decision\n",
    "Head = torch.nn.Sequential(*(list([nn.Flatten(), nn.LayerNorm(3072), nn.Linear(3072, 100)])))\n",
    "\n",
    "\n",
    "v = v.to(device)\n",
    "Head = Head.to(device)\n",
    "\n",
    "voptimizer = torch.optim.Adam(v.parameters(), lr=.0001)\n",
    "hoptimizer = torch.optim.Adam(Head.parameters(), lr=.0001)\n",
    "import random\n",
    "loops = 2 # might need to reward not having vanishing things, right now problem is prob that numbers get smaller and smaller - actually use Batch norm\n",
    "\n",
    "acc = 0\n",
    "total = 0\n",
    "\n",
    "for epoch in range(50):\n",
    "    t = tqdm.tqdm(train_dataloader, position=0, leave=True)\n",
    "    tloss = 0\n",
    "\n",
    "    for n, (x, y) in enumerate(t):\n",
    "        bs = x.shape[0]\n",
    "        x = x.to(device)\n",
    "        #print(x.shape)\n",
    "        y = y.to(device)\n",
    "        \n",
    "        for i in range(loops):\n",
    "            \n",
    "            x = v(x)\n",
    "            x = x.reshape(bs, 3, 32, 32)\n",
    "            #print(x[0][0][0])\n",
    "            #print(x.shape)\n",
    "\n",
    "        f_y_hat = Head(x)\n",
    "        \n",
    "        loss = torch.nn.CrossEntropyLoss()((f_y_hat).reshape([bs, 100]), y) # nn.ReLU()\n",
    "        loss.backward()\n",
    "        tloss += loss\n",
    "\n",
    "        hoptimizer.step() \n",
    "        hoptimizer.zero_grad()\n",
    "        voptimizer.step() \n",
    "        voptimizer.zero_grad()\n",
    "        \n",
    "        t.set_description_str(str(tloss.detach().cpu().numpy()/(n+1))) # 14:.2\n",
    "    l = test(loops)\n",
    "    print(l)\n",
    "    losslist_r.append(l)\n",
    "        \n",
    "# do hyperparam search on heads, depth and how many times to recurse"
   ]
  },
  {
   "cell_type": "code",
   "execution_count": 11,
   "id": "334314f7",
   "metadata": {
    "execution": {
     "iopub.execute_input": "2021-09-30T01:00:06.699561Z",
     "iopub.status.busy": "2021-09-30T01:00:06.698680Z",
     "iopub.status.idle": "2021-09-30T01:00:10.463271Z",
     "shell.execute_reply": "2021-09-30T01:00:10.462804Z"
    },
    "papermill": {
     "duration": 14.624015,
     "end_time": "2021-09-30T01:00:10.463389",
     "exception": false,
     "start_time": "2021-09-30T00:59:55.839374",
     "status": "completed"
    },
    "tags": []
   },
   "outputs": [
    {
     "data": {
      "text/plain": [
       "0.3602"
      ]
     },
     "execution_count": 11,
     "metadata": {},
     "output_type": "execute_result"
    }
   ],
   "source": [
    "test(loops)"
   ]
  },
  {
   "cell_type": "code",
   "execution_count": 12,
   "id": "ecaee92f",
   "metadata": {
    "execution": {
     "iopub.execute_input": "2021-09-30T01:00:31.702390Z",
     "iopub.status.busy": "2021-09-30T01:00:31.701674Z",
     "iopub.status.idle": "2021-09-30T01:00:31.704605Z",
     "shell.execute_reply": "2021-09-30T01:00:31.704993Z"
    },
    "papermill": {
     "duration": 10.841815,
     "end_time": "2021-09-30T01:00:31.705124",
     "exception": false,
     "start_time": "2021-09-30T01:00:20.863309",
     "status": "completed"
    },
    "tags": []
   },
   "outputs": [
    {
     "name": "stdout",
     "output_type": "stream",
     "text": [
      "[0.1535, 0.1935, 0.2258, 0.2502, 0.2683, 0.2768, 0.2903, 0.3079, 0.3135, 0.3267, 0.3371, 0.3463, 0.3482, 0.3503, 0.3664, 0.3605, 0.3722, 0.3702, 0.3735, 0.3728, 0.3774, 0.3714, 0.3732, 0.3713, 0.3699, 0.3747, 0.374, 0.375, 0.3727, 0.3708, 0.3715, 0.369, 0.3708, 0.3679, 0.3695, 0.3686, 0.3686, 0.3724, 0.3646, 0.3652, 0.3622, 0.3663, 0.3635, 0.367, 0.3682, 0.3623, 0.3642, 0.3549, 0.3628, 0.3606]\n"
     ]
    }
   ],
   "source": [
    "print(losslist_r)"
   ]
  },
  {
   "cell_type": "code",
   "execution_count": 13,
   "id": "560c81fa",
   "metadata": {
    "execution": {
     "iopub.execute_input": "2021-09-30T01:00:52.542219Z",
     "iopub.status.busy": "2021-09-30T01:00:52.541451Z",
     "iopub.status.idle": "2021-09-30T01:00:52.670746Z",
     "shell.execute_reply": "2021-09-30T01:00:52.670255Z"
    },
    "papermill": {
     "duration": 10.588897,
     "end_time": "2021-09-30T01:00:52.670881",
     "exception": false,
     "start_time": "2021-09-30T01:00:42.081984",
     "status": "completed"
    },
    "tags": []
   },
   "outputs": [],
   "source": [
    "torch.save(v.state_dict(), \"vn\")\n",
    "torch.save(Head.state_dict(), \"Hn\")"
   ]
  },
  {
   "cell_type": "code",
   "execution_count": 14,
   "id": "4ac0f0d0",
   "metadata": {
    "execution": {
     "iopub.execute_input": "2021-09-30T01:01:13.951208Z",
     "iopub.status.busy": "2021-09-30T01:01:13.950546Z",
     "iopub.status.idle": "2021-09-30T01:01:14.142187Z",
     "shell.execute_reply": "2021-09-30T01:01:14.142581Z"
    },
    "papermill": {
     "duration": 10.713289,
     "end_time": "2021-09-30T01:01:14.142729",
     "exception": false,
     "start_time": "2021-09-30T01:01:03.429440",
     "status": "completed"
    },
    "tags": []
   },
   "outputs": [
    {
     "data": {
      "image/png": "[encoded data removed]",
      "text/plain": [
       "<Figure size 432x288 with 1 Axes>"
      ]
     },
     "metadata": {
      "needs_background": "light"
     },
     "output_type": "display_data"
    }
   ],
   "source": [
    "import matplotlib.pyplot as plt\n",
    "\n",
    "plt.plot(list(range(len(losslist_n))), losslist_n, label=\"Baseline\")\n",
    "plt.plot(list(range(len(losslist_r))), losslist_r, label=\"Recursive\")\n",
    "plt.legend()\n",
    "plt.show()"
   ]
  }
 ],
 "metadata": {
  "kernelspec": {
   "display_name": "Python 3",
   "language": "python",
   "name": "python3"
  },
  "language_info": {
   "codemirror_mode": {
    "name": "ipython",
    "version": 3
   },
   "file_extension": ".py",
   "mimetype": "text/x-python",
   "name": "python",
   "nbconvert_exporter": "python",
   "pygments_lexer": "ipython3",
   "version": "3.7.10"
  },
  "papermill": {
   "default_parameters": {},
   "duration": 4592.167532,
   "end_time": "2021-09-30T01:01:26.312677",
   "environment_variables": {},
   "exception": null,
   "input_path": "__notebook__.ipynb",
   "output_path": "__notebook__.ipynb",
   "parameters": {},
   "start_time": "2021-09-29T23:44:54.145145",
   "version": "2.3.3"
  },
  "widgets": {
   "application/vnd.jupyter.widget-state+json": {
    "state": {
     "14ef4a7ee0ac4b25af5aa8be88ee136d": {
      "model_module": "@jupyter-widgets/controls",
      "model_module_version": "1.5.0",
      "model_name": "FloatProgressModel",
      "state": {
       "_dom_classes": [],
       "_model_module": "@jupyter-widgets/controls",
       "_model_module_version": "1.5.0",
       "_model_name": "FloatProgressModel",
       "_view_count": null,
       "_view_module": "@jupyter-widgets/controls",
       "_view_module_version": "1.5.0",
       "_view_name": "ProgressView",
       "bar_style": "info",
       "description": "",
       "description_tooltip": null,
       "layout": "IPY_MODEL_e0c010dffe4c4fcfb28e10dc2a64cb8f",
       "max": 1.0,
       "min": 0.0,
       "orientation": "horizontal",
       "style": "IPY_MODEL_902bc5a6a6074afcb2d0c25b65418e1e",
       "value": 1.0
      }
     },
     "2edea670e94e4fd2ab1956d84740e97e": {
      "model_module": "@jupyter-widgets/base",
      "model_module_version": "1.2.0",
      "model_name": "LayoutModel",
      "state": {
       "_model_module": "@jupyter-widgets/base",
       "_model_module_version": "1.2.0",
       "_model_name": "LayoutModel",
       "_view_count": null,
       "_view_module": "@jupyter-widgets/base",
       "_view_module_version": "1.2.0",
       "_view_name": "LayoutView",
       "align_content": null,
       "align_items": null,
       "align_self": null,
       "border": null,
       "bottom": null,
       "display": null,
       "flex": null,
       "flex_flow": null,
       "grid_area": null,
       "grid_auto_columns": null,
       "grid_auto_flow": null,
       "grid_auto_rows": null,
       "grid_column": null,
       "grid_gap": null,
       "grid_row": null,
       "grid_template_areas": null,
       "grid_template_columns": null,
       "grid_template_rows": null,
       "height": null,
       "justify_content": null,
       "justify_items": null,
       "left": null,
       "margin": null,
       "max_height": null,
       "max_width": null,
       "min_height": null,
       "min_width": null,
       "object_fit": null,
       "object_position": null,
       "order": null,
       "overflow": null,
       "overflow_x": null,
       "overflow_y": null,
       "padding": null,
       "right": null,
       "top": null,
       "visibility": null,
       "width": null
      }
     },
     "48ff19eba308409680b02e8107e6e140": {
      "model_module": "@jupyter-widgets/base",
      "model_module_version": "1.2.0",
      "model_name": "LayoutModel",
      "state": {
       "_model_module": "@jupyter-widgets/base",
       "_model_module_version": "1.2.0",
       "_model_name": "LayoutModel",
       "_view_count": null,
       "_view_module": "@jupyter-widgets/base",
       "_view_module_version": "1.2.0",
       "_view_name": "LayoutView",
       "align_content": null,
       "align_items": null,
       "align_self": null,
       "border": null,
       "bottom": null,
       "display": null,
       "flex": null,
       "flex_flow": null,
       "grid_area": null,
       "grid_auto_columns": null,
       "grid_auto_flow": null,
       "grid_auto_rows": null,
       "grid_column": null,
       "grid_gap": null,
       "grid_row": null,
       "grid_template_areas": null,
       "grid_template_columns": null,
       "grid_template_rows": null,
       "height": null,
       "justify_content": null,
       "justify_items": null,
       "left": null,
       "margin": null,
       "max_height": null,
       "max_width": null,
       "min_height": null,
       "min_width": null,
       "object_fit": null,
       "object_position": null,
       "order": null,
       "overflow": null,
       "overflow_x": null,
       "overflow_y": null,
       "padding": null,
       "right": null,
       "top": null,
       "visibility": null,
       "width": null
      }
     },
     "491117fcb16e4c84848a2573a956391a": {
      "model_module": "@jupyter-widgets/base",
      "model_module_version": "1.2.0",
      "model_name": "LayoutModel",
      "state": {
       "_model_module": "@jupyter-widgets/base",
       "_model_module_version": "1.2.0",
       "_model_name": "LayoutModel",
       "_view_count": null,
       "_view_module": "@jupyter-widgets/base",
       "_view_module_version": "1.2.0",
       "_view_name": "LayoutView",
       "align_content": null,
       "align_items": null,
       "align_self": null,
       "border": null,
       "bottom": null,
       "display": null,
       "flex": null,
       "flex_flow": null,
       "grid_area": null,
       "grid_auto_columns": null,
       "grid_auto_flow": null,
       "grid_auto_rows": null,
       "grid_column": null,
       "grid_gap": null,
       "grid_row": null,
       "grid_template_areas": null,
       "grid_template_columns": null,
       "grid_template_rows": null,
       "height": null,
       "justify_content": null,
       "justify_items": null,
       "left": null,
       "margin": null,
       "max_height": null,
       "max_width": null,
       "min_height": null,
       "min_width": null,
       "object_fit": null,
       "object_position": null,
       "order": null,
       "overflow": null,
       "overflow_x": null,
       "overflow_y": null,
       "padding": null,
       "right": null,
       "top": null,
       "visibility": null,
       "width": null
      }
     },
     "5f661445da5b4be8876119dd2cb1b496": {
      "model_module": "@jupyter-widgets/controls",
      "model_module_version": "1.5.0",
      "model_name": "DescriptionStyleModel",
      "state": {
       "_model_module": "@jupyter-widgets/controls",
       "_model_module_version": "1.5.0",
       "_model_name": "DescriptionStyleModel",
       "_view_count": null,
       "_view_module": "@jupyter-widgets/base",
       "_view_module_version": "1.2.0",
       "_view_name": "StyleView",
       "description_width": ""
      }
     },
     "680e0c23f0f54c9eaf3bda6b6c72f170": {
      "model_module": "@jupyter-widgets/controls",
      "model_module_version": "1.5.0",
      "model_name": "HBoxModel",
      "state": {
       "_dom_classes": [],
       "_model_module": "@jupyter-widgets/controls",
       "_model_module_version": "1.5.0",
       "_model_name": "HBoxModel",
       "_view_count": null,
       "_view_module": "@jupyter-widgets/controls",
       "_view_module_version": "1.5.0",
       "_view_name": "HBoxView",
       "box_style": "",
       "children": [
        "IPY_MODEL_81db000585c4430396e7b11901c1d5cf",
        "IPY_MODEL_14ef4a7ee0ac4b25af5aa8be88ee136d",
        "IPY_MODEL_f6476e22905a479c8bf512aa2403b46d"
       ],
       "layout": "IPY_MODEL_48ff19eba308409680b02e8107e6e140"
      }
     },
     "81db000585c4430396e7b11901c1d5cf": {
      "model_module": "@jupyter-widgets/controls",
      "model_module_version": "1.5.0",
      "model_name": "HTMLModel",
      "state": {
       "_dom_classes": [],
       "_model_module": "@jupyter-widgets/controls",
       "_model_module_version": "1.5.0",
       "_model_name": "HTMLModel",
       "_view_count": null,
       "_view_module": "@jupyter-widgets/controls",
       "_view_module_version": "1.5.0",
       "_view_name": "HTMLView",
       "description": "",
       "description_tooltip": null,
       "layout": "IPY_MODEL_2edea670e94e4fd2ab1956d84740e97e",
       "placeholder": "​",
       "style": "IPY_MODEL_d33b80a876a142c6961cf2aad29eb151",
       "value": ""
      }
     },
     "902bc5a6a6074afcb2d0c25b65418e1e": {
      "model_module": "@jupyter-widgets/controls",
      "model_module_version": "1.5.0",
      "model_name": "ProgressStyleModel",
      "state": {
       "_model_module": "@jupyter-widgets/controls",
       "_model_module_version": "1.5.0",
       "_model_name": "ProgressStyleModel",
       "_view_count": null,
       "_view_module": "@jupyter-widgets/base",
       "_view_module_version": "1.2.0",
       "_view_name": "StyleView",
       "bar_color": null,
       "description_width": ""
      }
     },
     "d33b80a876a142c6961cf2aad29eb151": {
      "model_module": "@jupyter-widgets/controls",
      "model_module_version": "1.5.0",
      "model_name": "DescriptionStyleModel",
      "state": {
       "_model_module": "@jupyter-widgets/controls",
       "_model_module_version": "1.5.0",
       "_model_name": "DescriptionStyleModel",
       "_view_count": null,
       "_view_module": "@jupyter-widgets/base",
       "_view_module_version": "1.2.0",
       "_view_name": "StyleView",
       "description_width": ""
      }
     },
     "e0c010dffe4c4fcfb28e10dc2a64cb8f": {
      "model_module": "@jupyter-widgets/base",
      "model_module_version": "1.2.0",
      "model_name": "LayoutModel",
      "state": {
       "_model_module": "@jupyter-widgets/base",
       "_model_module_version": "1.2.0",
       "_model_name": "LayoutModel",
       "_view_count": null,
       "_view_module": "@jupyter-widgets/base",
       "_view_module_version": "1.2.0",
       "_view_name": "LayoutView",
       "align_content": null,
       "align_items": null,
       "align_self": null,
       "border": null,
       "bottom": null,
       "display": null,
       "flex": null,
       "flex_flow": null,
       "grid_area": null,
       "grid_auto_columns": null,
       "grid_auto_flow": null,
       "grid_auto_rows": null,
       "grid_column": null,
       "grid_gap": null,
       "grid_row": null,
       "grid_template_areas": null,
       "grid_template_columns": null,
       "grid_template_rows": null,
       "height": null,
       "justify_content": null,
       "justify_items": null,
       "left": null,
       "margin": null,
       "max_height": null,
       "max_width": null,
       "min_height": null,
       "min_width": null,
       "object_fit": null,
       "object_position": null,
       "order": null,
       "overflow": null,
       "overflow_x": null,
       "overflow_y": null,
       "padding": null,
       "right": null,
       "top": null,
       "visibility": null,
       "width": "20px"
      }
     },
     "f6476e22905a479c8bf512aa2403b46d": {
      "model_module": "@jupyter-widgets/controls",
      "model_module_version": "1.5.0",
      "model_name": "HTMLModel",
      "state": {
       "_dom_classes": [],
       "_model_module": "@jupyter-widgets/controls",
       "_model_module_version": "1.5.0",
       "_model_name": "HTMLModel",
       "_view_count": null,
       "_view_module": "@jupyter-widgets/controls",
       "_view_module_version": "1.5.0",
       "_view_name": "HTMLView",
       "description": "",
       "description_tooltip": null,
       "layout": "IPY_MODEL_491117fcb16e4c84848a2573a956391a",
       "placeholder": "​",
       "style": "IPY_MODEL_5f661445da5b4be8876119dd2cb1b496",
       "value": " 169009152/? [00:20&lt;00:00, 50272421.35it/s]"
      }
     }
    },
    "version_major": 2,
    "version_minor": 0
   }
  }
 },
 "nbformat": 4,
 "nbformat_minor": 5
}
