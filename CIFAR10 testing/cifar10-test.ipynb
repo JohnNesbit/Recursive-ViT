{
 "cells": [
  {
   "cell_type": "code",
   "execution_count": 1,
   "id": "650126d7",
   "metadata": {
    "_cell_guid": "b1076dfc-b9ad-4769-8c92-a6c4dae69d19",
    "_uuid": "8f2839f25d086af736a60e9eeb907d3b93b6e0e5",
    "execution": {
     "iopub.execute_input": "2021-10-21T20:59:14.832690Z",
     "iopub.status.busy": "2021-10-21T20:59:14.831211Z",
     "iopub.status.idle": "2021-10-21T20:59:19.691656Z",
     "shell.execute_reply": "2021-10-21T20:59:19.690948Z",
     "shell.execute_reply.started": "2021-10-21T20:55:54.014804Z"
    },
    "papermill": {
     "duration": 4.876605,
     "end_time": "2021-10-21T20:59:19.691815",
     "exception": false,
     "start_time": "2021-10-21T20:59:14.815210",
     "status": "completed"
    },
    "tags": []
   },
   "outputs": [],
   "source": [
    "# current ADAM resnet18 with 200 epochs is 76% accuracy\n",
    "import numpy as np # linear algebra\n",
    "import pandas as pd # data processing, CSV file I/O (e.g. pd.read_csv)\n",
    "import os\n",
    "import torch\n",
    "from numpy import asarray\n",
    "import PIL.Image as Image\n",
    "import torch.nn as nn\n",
    "import tqdm\n",
    "import gc\n",
    "\n",
    "device = \"cuda\"\n",
    "\n",
    "torch.cuda.empty_cache()\n",
    "gc.collect()\n",
    "        \n",
    "import torchvision.transforms as transforms\n",
    "transform = transforms.ToTensor()"
   ]
  },
  {
   "cell_type": "code",
   "execution_count": 2,
   "id": "ec6d2a66",
   "metadata": {
    "execution": {
     "iopub.execute_input": "2021-10-21T20:59:19.725857Z",
     "iopub.status.busy": "2021-10-21T20:59:19.725168Z",
     "iopub.status.idle": "2021-10-21T20:59:26.636657Z",
     "shell.execute_reply": "2021-10-21T20:59:26.636148Z",
     "shell.execute_reply.started": "2021-10-21T20:55:58.697555Z"
    },
    "papermill": {
     "duration": 6.932782,
     "end_time": "2021-10-21T20:59:26.636792",
     "exception": false,
     "start_time": "2021-10-21T20:59:19.704010",
     "status": "completed"
    },
    "tags": []
   },
   "outputs": [
    {
     "name": "stdout",
     "output_type": "stream",
     "text": [
      "Downloading https://www.cs.toronto.edu/~kriz/cifar-10-python.tar.gz to based/cifar-10-python.tar.gz\n"
     ]
    },
    {
     "data": {
      "application/vnd.jupyter.widget-view+json": {
       "model_id": "03660b3d7be04941a45b1325c19b2827",
       "version_major": 2,
       "version_minor": 0
      },
      "text/plain": [
       "0it [00:00, ?it/s]"
      ]
     },
     "metadata": {},
     "output_type": "display_data"
    },
    {
     "name": "stdout",
     "output_type": "stream",
     "text": [
      "Extracting based/cifar-10-python.tar.gz to based\n",
      "Files already downloaded and verified\n"
     ]
    }
   ],
   "source": [
    "# get dataset stuffs\n",
    "import torchvision\n",
    "from torch.utils.data import DataLoader\n",
    "from torchvision.models.utils import load_state_dict_from_url\n",
    "\n",
    "transform = transforms.Compose([\n",
    "    transforms.Resize(32),\n",
    "    transforms.ToTensor(),\n",
    "    transforms.Normalize((0.4914, 0.4822, 0.4465), (0.2023, 0.1994, 0.2010)),\n",
    "])\n",
    "\n",
    "dataset = torchvision.datasets.CIFAR10(root=\"based\", train=False, download=True, transform=transform)\n",
    "\n",
    "val_dataloader = DataLoader(dataset, batch_size=256, shuffle=True)\n",
    "\n",
    "transform = transforms.Compose([\n",
    "    transforms.RandomCrop(32, padding=4),\n",
    "    transforms.Resize(32),\n",
    "    transforms.RandomHorizontalFlip(),\n",
    "    transforms.ToTensor(),\n",
    "    transforms.Normalize((0.4914, 0.4822, 0.4465), (0.2023, 0.1994, 0.2010)),\n",
    "])\n",
    "\n",
    "\n",
    "dataset = torchvision.datasets.CIFAR10(root=\"based\", train=True, download=True, transform=transform)\n",
    "\n",
    "train_dataloader = DataLoader(dataset, batch_size=256, shuffle=True)"
   ]
  },
  {
   "cell_type": "code",
   "execution_count": 3,
   "id": "ef4a2e99",
   "metadata": {
    "execution": {
     "iopub.execute_input": "2021-10-21T20:59:26.674805Z",
     "iopub.status.busy": "2021-10-21T20:59:26.665606Z",
     "iopub.status.idle": "2021-10-21T20:59:35.978346Z",
     "shell.execute_reply": "2021-10-21T20:59:35.977762Z",
     "shell.execute_reply.started": "2021-10-21T20:56:06.246228Z"
    },
    "papermill": {
     "duration": 9.329242,
     "end_time": "2021-10-21T20:59:35.978482",
     "exception": false,
     "start_time": "2021-10-21T20:59:26.649240",
     "status": "completed"
    },
    "tags": []
   },
   "outputs": [
    {
     "name": "stdout",
     "output_type": "stream",
     "text": [
      "Collecting vit-pytorch\r\n",
      "  Downloading vit_pytorch-0.20.8-py3-none-any.whl (35 kB)\r\n",
      "Requirement already satisfied: torch>=1.6 in /opt/conda/lib/python3.7/site-packages (from vit-pytorch) (1.7.1+cu110)\r\n",
      "Requirement already satisfied: torchvision in /opt/conda/lib/python3.7/site-packages (from vit-pytorch) (0.8.2+cu110)\r\n",
      "Collecting einops>=0.3\r\n",
      "  Downloading einops-0.3.2-py3-none-any.whl (25 kB)\r\n",
      "Requirement already satisfied: numpy in /opt/conda/lib/python3.7/site-packages (from torch>=1.6->vit-pytorch) (1.19.5)\r\n",
      "Requirement already satisfied: typing-extensions in /opt/conda/lib/python3.7/site-packages (from torch>=1.6->vit-pytorch) (3.7.4.3)\r\n",
      "Requirement already satisfied: pillow>=4.1.1 in /opt/conda/lib/python3.7/site-packages (from torchvision->vit-pytorch) (8.2.0)\r\n",
      "Installing collected packages: einops, vit-pytorch\r\n",
      "Successfully installed einops-0.3.2 vit-pytorch-0.20.8\r\n",
      "\u001b[33mWARNING: Running pip as the 'root' user can result in broken permissions and conflicting behaviour with the system package manager. It is recommended to use a virtual environment instead: https://pip.pypa.io/warnings/venv\u001b[0m\r\n"
     ]
    }
   ],
   "source": [
    "!pip install vit-pytorch"
   ]
  },
  {
   "cell_type": "code",
   "execution_count": 4,
   "id": "37378832",
   "metadata": {
    "execution": {
     "iopub.execute_input": "2021-10-21T20:59:36.013570Z",
     "iopub.status.busy": "2021-10-21T20:59:36.012764Z",
     "iopub.status.idle": "2021-10-21T20:59:36.015262Z",
     "shell.execute_reply": "2021-10-21T20:59:36.014813Z",
     "shell.execute_reply.started": "2021-10-21T20:56:15.449993Z"
    },
    "papermill": {
     "duration": 0.022711,
     "end_time": "2021-10-21T20:59:36.015379",
     "exception": false,
     "start_time": "2021-10-21T20:59:35.992668",
     "status": "completed"
    },
    "tags": []
   },
   "outputs": [],
   "source": [
    "def testb():\n",
    "    acc = 0\n",
    "    total = 0\n",
    "    for n_, (x, y) in enumerate(val_dataloader):\n",
    "        x = x.to(device)\n",
    "        bs = x.shape[0]\n",
    "        x = x.reshape(bs, 3, 32, 32)\n",
    "        \n",
    "        y_hat = v(x) # add encodings?\n",
    "        for _, i in enumerate(y_hat):\n",
    "            if i.argmax() == y.to(device)[_]:\n",
    "                acc +=1\n",
    "            total +=1\n",
    "            \n",
    "    return acc/total"
   ]
  },
  {
   "cell_type": "code",
   "execution_count": 5,
   "id": "f41499b9",
   "metadata": {
    "execution": {
     "iopub.execute_input": "2021-10-21T20:59:36.053268Z",
     "iopub.status.busy": "2021-10-21T20:59:36.052602Z",
     "iopub.status.idle": "2021-10-21T23:12:24.277021Z",
     "shell.execute_reply": "2021-10-21T23:12:24.272241Z",
     "shell.execute_reply.started": "2021-10-21T20:56:15.461486Z"
    },
    "papermill": {
     "duration": 7968.24809,
     "end_time": "2021-10-21T23:12:24.277184",
     "exception": false,
     "start_time": "2021-10-21T20:59:36.029094",
     "status": "completed"
    },
    "tags": []
   },
   "outputs": [
    {
     "name": "stderr",
     "output_type": "stream",
     "text": [
      "2.0038872543646367: 100%|██████████| 196/196 [00:46<00:00,  4.19it/s]\n"
     ]
    },
    {
     "name": "stdout",
     "output_type": "stream",
     "text": [
      "0.3796\n"
     ]
    },
    {
     "name": "stderr",
     "output_type": "stream",
     "text": [
      "1.6626708361567284: 100%|██████████| 196/196 [00:46<00:00,  4.18it/s]\n"
     ]
    },
    {
     "name": "stdout",
     "output_type": "stream",
     "text": [
      "0.4455\n"
     ]
    },
    {
     "name": "stderr",
     "output_type": "stream",
     "text": [
      "1.5541652757294324: 100%|██████████| 196/196 [00:46<00:00,  4.19it/s]\n"
     ]
    },
    {
     "name": "stdout",
     "output_type": "stream",
     "text": [
      "0.4646\n"
     ]
    },
    {
     "name": "stderr",
     "output_type": "stream",
     "text": [
      "1.4818580783143336: 100%|██████████| 196/196 [00:46<00:00,  4.22it/s]\n"
     ]
    },
    {
     "name": "stdout",
     "output_type": "stream",
     "text": [
      "0.4977\n"
     ]
    },
    {
     "name": "stderr",
     "output_type": "stream",
     "text": [
      "1.4260854915696748: 100%|██████████| 196/196 [00:46<00:00,  4.20it/s]\n"
     ]
    },
    {
     "name": "stdout",
     "output_type": "stream",
     "text": [
      "0.5083\n"
     ]
    },
    {
     "name": "stderr",
     "output_type": "stream",
     "text": [
      "1.3873161783023757: 100%|██████████| 196/196 [00:46<00:00,  4.17it/s]\n"
     ]
    },
    {
     "name": "stdout",
     "output_type": "stream",
     "text": [
      "0.5252\n"
     ]
    },
    {
     "name": "stderr",
     "output_type": "stream",
     "text": [
      "1.349628682039222: 100%|██████████| 196/196 [00:46<00:00,  4.20it/s]\n"
     ]
    },
    {
     "name": "stdout",
     "output_type": "stream",
     "text": [
      "0.5387\n"
     ]
    },
    {
     "name": "stderr",
     "output_type": "stream",
     "text": [
      "1.3203033135861766: 100%|██████████| 196/196 [00:47<00:00,  4.14it/s]\n"
     ]
    },
    {
     "name": "stdout",
     "output_type": "stream",
     "text": [
      "0.5345\n"
     ]
    },
    {
     "name": "stderr",
     "output_type": "stream",
     "text": [
      "1.292139481525032: 100%|██████████| 196/196 [00:47<00:00,  4.16it/s]\n"
     ]
    },
    {
     "name": "stdout",
     "output_type": "stream",
     "text": [
      "0.5519\n"
     ]
    },
    {
     "name": "stderr",
     "output_type": "stream",
     "text": [
      "1.2630145793058434: 100%|██████████| 196/196 [00:47<00:00,  4.17it/s]\n"
     ]
    },
    {
     "name": "stdout",
     "output_type": "stream",
     "text": [
      "0.5626\n"
     ]
    },
    {
     "name": "stderr",
     "output_type": "stream",
     "text": [
      "1.2380474635532923: 100%|██████████| 196/196 [00:47<00:00,  4.15it/s]\n"
     ]
    },
    {
     "name": "stdout",
     "output_type": "stream",
     "text": [
      "0.5502\n"
     ]
    },
    {
     "name": "stderr",
     "output_type": "stream",
     "text": [
      "1.2164256037498007: 100%|██████████| 196/196 [00:47<00:00,  4.16it/s]\n"
     ]
    },
    {
     "name": "stdout",
     "output_type": "stream",
     "text": [
      "0.5759\n"
     ]
    },
    {
     "name": "stderr",
     "output_type": "stream",
     "text": [
      "1.1913617970992108: 100%|██████████| 196/196 [00:47<00:00,  4.12it/s]\n"
     ]
    },
    {
     "name": "stdout",
     "output_type": "stream",
     "text": [
      "0.5793\n"
     ]
    },
    {
     "name": "stderr",
     "output_type": "stream",
     "text": [
      "1.1627876904545997: 100%|██████████| 196/196 [00:47<00:00,  4.09it/s]\n"
     ]
    },
    {
     "name": "stdout",
     "output_type": "stream",
     "text": [
      "0.577\n"
     ]
    },
    {
     "name": "stderr",
     "output_type": "stream",
     "text": [
      "1.1490107166523835: 100%|██████████| 196/196 [00:47<00:00,  4.16it/s]\n"
     ]
    },
    {
     "name": "stdout",
     "output_type": "stream",
     "text": [
      "0.5899\n"
     ]
    },
    {
     "name": "stderr",
     "output_type": "stream",
     "text": [
      "1.1290896668726085: 100%|██████████| 196/196 [00:48<00:00,  4.08it/s]\n"
     ]
    },
    {
     "name": "stdout",
     "output_type": "stream",
     "text": [
      "0.5924\n"
     ]
    },
    {
     "name": "stderr",
     "output_type": "stream",
     "text": [
      "1.100613341039541: 100%|██████████| 196/196 [00:47<00:00,  4.15it/s]\n"
     ]
    },
    {
     "name": "stdout",
     "output_type": "stream",
     "text": [
      "0.5909\n"
     ]
    },
    {
     "name": "stderr",
     "output_type": "stream",
     "text": [
      "1.0892077076191804: 100%|██████████| 196/196 [00:47<00:00,  4.12it/s]\n"
     ]
    },
    {
     "name": "stdout",
     "output_type": "stream",
     "text": [
      "0.5945\n"
     ]
    },
    {
     "name": "stderr",
     "output_type": "stream",
     "text": [
      "1.0679645149075254: 100%|██████████| 196/196 [00:47<00:00,  4.13it/s]\n"
     ]
    },
    {
     "name": "stdout",
     "output_type": "stream",
     "text": [
      "0.5991\n"
     ]
    },
    {
     "name": "stderr",
     "output_type": "stream",
     "text": [
      "1.0505381992885046: 100%|██████████| 196/196 [00:47<00:00,  4.12it/s]\n"
     ]
    },
    {
     "name": "stdout",
     "output_type": "stream",
     "text": [
      "0.6038\n"
     ]
    },
    {
     "name": "stderr",
     "output_type": "stream",
     "text": [
      "1.0289138482541453: 100%|██████████| 196/196 [00:48<00:00,  4.05it/s]\n"
     ]
    },
    {
     "name": "stdout",
     "output_type": "stream",
     "text": [
      "0.615\n"
     ]
    },
    {
     "name": "stderr",
     "output_type": "stream",
     "text": [
      "1.014513366076411: 100%|██████████| 196/196 [00:47<00:00,  4.13it/s]\n"
     ]
    },
    {
     "name": "stdout",
     "output_type": "stream",
     "text": [
      "0.6165\n"
     ]
    },
    {
     "name": "stderr",
     "output_type": "stream",
     "text": [
      "0.9939238879145408: 100%|██████████| 196/196 [00:48<00:00,  4.04it/s]\n"
     ]
    },
    {
     "name": "stdout",
     "output_type": "stream",
     "text": [
      "0.6185\n"
     ]
    },
    {
     "name": "stderr",
     "output_type": "stream",
     "text": [
      "0.9747137731435348: 100%|██████████| 196/196 [00:47<00:00,  4.12it/s]\n"
     ]
    },
    {
     "name": "stdout",
     "output_type": "stream",
     "text": [
      "0.622\n"
     ]
    },
    {
     "name": "stderr",
     "output_type": "stream",
     "text": [
      "0.9581262238171636: 100%|██████████| 196/196 [00:48<00:00,  4.01it/s]\n"
     ]
    },
    {
     "name": "stdout",
     "output_type": "stream",
     "text": [
      "0.6239\n"
     ]
    },
    {
     "name": "stderr",
     "output_type": "stream",
     "text": [
      "0.9385593180753746: 100%|██████████| 196/196 [00:47<00:00,  4.11it/s]\n"
     ]
    },
    {
     "name": "stdout",
     "output_type": "stream",
     "text": [
      "0.6299\n"
     ]
    },
    {
     "name": "stderr",
     "output_type": "stream",
     "text": [
      "0.9261255848164461: 100%|██████████| 196/196 [00:49<00:00,  3.99it/s]\n"
     ]
    },
    {
     "name": "stdout",
     "output_type": "stream",
     "text": [
      "0.6292\n"
     ]
    },
    {
     "name": "stderr",
     "output_type": "stream",
     "text": [
      "0.9030454985949458: 100%|██████████| 196/196 [00:48<00:00,  4.06it/s]\n"
     ]
    },
    {
     "name": "stdout",
     "output_type": "stream",
     "text": [
      "0.6378\n"
     ]
    },
    {
     "name": "stderr",
     "output_type": "stream",
     "text": [
      "0.8927421569824219: 100%|██████████| 196/196 [00:48<00:00,  4.03it/s]\n"
     ]
    },
    {
     "name": "stdout",
     "output_type": "stream",
     "text": [
      "0.6337\n"
     ]
    },
    {
     "name": "stderr",
     "output_type": "stream",
     "text": [
      "0.8645732646085778: 100%|██████████| 196/196 [00:47<00:00,  4.10it/s]\n"
     ]
    },
    {
     "name": "stdout",
     "output_type": "stream",
     "text": [
      "0.6344\n"
     ]
    },
    {
     "name": "stderr",
     "output_type": "stream",
     "text": [
      "0.858774691211934: 100%|██████████| 196/196 [00:49<00:00,  3.96it/s]\n"
     ]
    },
    {
     "name": "stdout",
     "output_type": "stream",
     "text": [
      "0.6413\n"
     ]
    },
    {
     "name": "stderr",
     "output_type": "stream",
     "text": [
      "0.8385857562629544: 100%|██████████| 196/196 [00:48<00:00,  4.06it/s]\n"
     ]
    },
    {
     "name": "stdout",
     "output_type": "stream",
     "text": [
      "0.639\n"
     ]
    },
    {
     "name": "stderr",
     "output_type": "stream",
     "text": [
      "0.8164607456752232: 100%|██████████| 196/196 [00:49<00:00,  3.93it/s]\n"
     ]
    },
    {
     "name": "stdout",
     "output_type": "stream",
     "text": [
      "0.6402\n"
     ]
    },
    {
     "name": "stderr",
     "output_type": "stream",
     "text": [
      "0.798797218167052: 100%|██████████| 196/196 [00:47<00:00,  4.09it/s]\n"
     ]
    },
    {
     "name": "stdout",
     "output_type": "stream",
     "text": [
      "0.6384\n"
     ]
    },
    {
     "name": "stderr",
     "output_type": "stream",
     "text": [
      "0.7828031267438617: 100%|██████████| 196/196 [00:49<00:00,  3.98it/s]\n"
     ]
    },
    {
     "name": "stdout",
     "output_type": "stream",
     "text": [
      "0.6462\n"
     ]
    },
    {
     "name": "stderr",
     "output_type": "stream",
     "text": [
      "0.7661659863530373: 100%|██████████| 196/196 [00:48<00:00,  4.07it/s]\n"
     ]
    },
    {
     "name": "stdout",
     "output_type": "stream",
     "text": [
      "0.6458\n"
     ]
    },
    {
     "name": "stderr",
     "output_type": "stream",
     "text": [
      "0.74544501791195: 100%|██████████| 196/196 [00:50<00:00,  3.89it/s]\n"
     ]
    },
    {
     "name": "stdout",
     "output_type": "stream",
     "text": [
      "0.6471\n"
     ]
    },
    {
     "name": "stderr",
     "output_type": "stream",
     "text": [
      "0.7245091808085539: 100%|██████████| 196/196 [00:48<00:00,  4.07it/s]\n"
     ]
    },
    {
     "name": "stdout",
     "output_type": "stream",
     "text": [
      "0.643\n"
     ]
    },
    {
     "name": "stderr",
     "output_type": "stream",
     "text": [
      "0.7138995735012755: 100%|██████████| 196/196 [00:48<00:00,  4.04it/s]\n"
     ]
    },
    {
     "name": "stdout",
     "output_type": "stream",
     "text": [
      "0.6507\n"
     ]
    },
    {
     "name": "stderr",
     "output_type": "stream",
     "text": [
      "0.6911511323889907: 100%|██████████| 196/196 [00:48<00:00,  4.02it/s]\n"
     ]
    },
    {
     "name": "stdout",
     "output_type": "stream",
     "text": [
      "0.6511\n"
     ]
    },
    {
     "name": "stderr",
     "output_type": "stream",
     "text": [
      "0.6732470454001913: 100%|██████████| 196/196 [00:48<00:00,  4.08it/s]\n"
     ]
    },
    {
     "name": "stdout",
     "output_type": "stream",
     "text": [
      "0.6534\n"
     ]
    },
    {
     "name": "stderr",
     "output_type": "stream",
     "text": [
      "0.6566395662268814: 100%|██████████| 196/196 [00:46<00:00,  4.18it/s]\n"
     ]
    },
    {
     "name": "stdout",
     "output_type": "stream",
     "text": [
      "0.6482\n"
     ]
    },
    {
     "name": "stderr",
     "output_type": "stream",
     "text": [
      "0.6373866334253427: 100%|██████████| 196/196 [00:47<00:00,  4.14it/s]\n"
     ]
    },
    {
     "name": "stdout",
     "output_type": "stream",
     "text": [
      "0.6462\n"
     ]
    },
    {
     "name": "stderr",
     "output_type": "stream",
     "text": [
      "0.6199373517717633: 100%|██████████| 196/196 [00:48<00:00,  4.06it/s]\n"
     ]
    },
    {
     "name": "stdout",
     "output_type": "stream",
     "text": [
      "0.6507\n"
     ]
    },
    {
     "name": "stderr",
     "output_type": "stream",
     "text": [
      "0.5960622125742386: 100%|██████████| 196/196 [00:48<00:00,  4.07it/s]\n"
     ]
    },
    {
     "name": "stdout",
     "output_type": "stream",
     "text": [
      "0.6546\n"
     ]
    },
    {
     "name": "stderr",
     "output_type": "stream",
     "text": [
      "0.5828680310930524: 100%|██████████| 196/196 [00:47<00:00,  4.15it/s]\n"
     ]
    },
    {
     "name": "stdout",
     "output_type": "stream",
     "text": [
      "0.6499\n"
     ]
    },
    {
     "name": "stderr",
     "output_type": "stream",
     "text": [
      "0.5616452742596062: 100%|██████████| 196/196 [00:46<00:00,  4.22it/s]\n"
     ]
    },
    {
     "name": "stdout",
     "output_type": "stream",
     "text": [
      "0.6542\n"
     ]
    },
    {
     "name": "stderr",
     "output_type": "stream",
     "text": [
      "0.5472646830033283: 100%|██████████| 196/196 [00:48<00:00,  4.06it/s]\n"
     ]
    },
    {
     "name": "stdout",
     "output_type": "stream",
     "text": [
      "0.6545\n"
     ]
    },
    {
     "name": "stderr",
     "output_type": "stream",
     "text": [
      "0.52763218782386: 100%|██████████| 196/196 [00:48<00:00,  4.05it/s]\n"
     ]
    },
    {
     "name": "stdout",
     "output_type": "stream",
     "text": [
      "0.6549\n"
     ]
    },
    {
     "name": "stderr",
     "output_type": "stream",
     "text": [
      "0.5067946375632773: 100%|██████████| 196/196 [00:48<00:00,  4.07it/s]\n"
     ]
    },
    {
     "name": "stdout",
     "output_type": "stream",
     "text": [
      "0.6517\n"
     ]
    },
    {
     "name": "stderr",
     "output_type": "stream",
     "text": [
      "0.49751659315459584: 100%|██████████| 196/196 [00:46<00:00,  4.21it/s]\n"
     ]
    },
    {
     "name": "stdout",
     "output_type": "stream",
     "text": [
      "0.6529\n"
     ]
    },
    {
     "name": "stderr",
     "output_type": "stream",
     "text": [
      "0.47520668652592873: 100%|██████████| 196/196 [00:48<00:00,  4.03it/s]\n"
     ]
    },
    {
     "name": "stdout",
     "output_type": "stream",
     "text": [
      "0.6543\n"
     ]
    },
    {
     "name": "stderr",
     "output_type": "stream",
     "text": [
      "0.45618757909658003: 100%|██████████| 196/196 [00:48<00:00,  4.06it/s]\n"
     ]
    },
    {
     "name": "stdout",
     "output_type": "stream",
     "text": [
      "0.653\n"
     ]
    },
    {
     "name": "stderr",
     "output_type": "stream",
     "text": [
      "0.44040644898706555: 100%|██████████| 196/196 [00:48<00:00,  4.03it/s]\n"
     ]
    },
    {
     "name": "stdout",
     "output_type": "stream",
     "text": [
      "0.6538\n"
     ]
    },
    {
     "name": "stderr",
     "output_type": "stream",
     "text": [
      "0.421965774224729: 100%|██████████| 196/196 [00:46<00:00,  4.24it/s]\n"
     ]
    },
    {
     "name": "stdout",
     "output_type": "stream",
     "text": [
      "0.6525\n"
     ]
    },
    {
     "name": "stderr",
     "output_type": "stream",
     "text": [
      "0.4062489879374601: 100%|██████████| 196/196 [00:48<00:00,  4.05it/s]\n"
     ]
    },
    {
     "name": "stdout",
     "output_type": "stream",
     "text": [
      "0.6547\n"
     ]
    },
    {
     "name": "stderr",
     "output_type": "stream",
     "text": [
      "0.3960022050507215: 100%|██████████| 196/196 [00:48<00:00,  4.02it/s]\n"
     ]
    },
    {
     "name": "stdout",
     "output_type": "stream",
     "text": [
      "0.6503\n"
     ]
    },
    {
     "name": "stderr",
     "output_type": "stream",
     "text": [
      "0.37651828843720103: 100%|██████████| 196/196 [00:48<00:00,  4.05it/s]\n"
     ]
    },
    {
     "name": "stdout",
     "output_type": "stream",
     "text": [
      "0.6586\n"
     ]
    },
    {
     "name": "stderr",
     "output_type": "stream",
     "text": [
      "0.367946702606824: 100%|██████████| 196/196 [00:46<00:00,  4.23it/s]\n"
     ]
    },
    {
     "name": "stdout",
     "output_type": "stream",
     "text": [
      "0.6559\n"
     ]
    },
    {
     "name": "stderr",
     "output_type": "stream",
     "text": [
      "0.3535279254524075: 100%|██████████| 196/196 [00:48<00:00,  4.01it/s]\n"
     ]
    },
    {
     "name": "stdout",
     "output_type": "stream",
     "text": [
      "0.6545\n"
     ]
    },
    {
     "name": "stderr",
     "output_type": "stream",
     "text": [
      "0.33699401544064894: 100%|██████████| 196/196 [00:48<00:00,  4.02it/s]\n"
     ]
    },
    {
     "name": "stdout",
     "output_type": "stream",
     "text": [
      "0.6565\n"
     ]
    },
    {
     "name": "stderr",
     "output_type": "stream",
     "text": [
      "0.32612434698610887: 100%|██████████| 196/196 [00:48<00:00,  4.02it/s]\n"
     ]
    },
    {
     "name": "stdout",
     "output_type": "stream",
     "text": [
      "0.6582\n"
     ]
    },
    {
     "name": "stderr",
     "output_type": "stream",
     "text": [
      "0.3213639356652085: 100%|██████████| 196/196 [00:46<00:00,  4.22it/s]\n"
     ]
    },
    {
     "name": "stdout",
     "output_type": "stream",
     "text": [
      "0.6586\n"
     ]
    },
    {
     "name": "stderr",
     "output_type": "stream",
     "text": [
      "0.3084555061496034: 100%|██████████| 196/196 [00:48<00:00,  4.01it/s]\n"
     ]
    },
    {
     "name": "stdout",
     "output_type": "stream",
     "text": [
      "0.6551\n"
     ]
    },
    {
     "name": "stderr",
     "output_type": "stream",
     "text": [
      "0.29384838804906727: 100%|██████████| 196/196 [00:49<00:00,  4.00it/s]\n"
     ]
    },
    {
     "name": "stdout",
     "output_type": "stream",
     "text": [
      "0.6537\n"
     ]
    },
    {
     "name": "stderr",
     "output_type": "stream",
     "text": [
      "0.2840899642632932: 100%|██████████| 196/196 [00:49<00:00,  3.95it/s]\n"
     ]
    },
    {
     "name": "stdout",
     "output_type": "stream",
     "text": [
      "0.6574\n"
     ]
    },
    {
     "name": "stderr",
     "output_type": "stream",
     "text": [
      "0.2732042195845623: 100%|██████████| 196/196 [00:46<00:00,  4.25it/s]\n"
     ]
    },
    {
     "name": "stdout",
     "output_type": "stream",
     "text": [
      "0.6491\n"
     ]
    },
    {
     "name": "stderr",
     "output_type": "stream",
     "text": [
      "0.2584893557490135: 100%|██████████| 196/196 [00:49<00:00,  3.99it/s]\n"
     ]
    },
    {
     "name": "stdout",
     "output_type": "stream",
     "text": [
      "0.649\n"
     ]
    },
    {
     "name": "stderr",
     "output_type": "stream",
     "text": [
      "0.2573666086002272: 100%|██████████| 196/196 [00:49<00:00,  3.99it/s]\n"
     ]
    },
    {
     "name": "stdout",
     "output_type": "stream",
     "text": [
      "0.655\n"
     ]
    },
    {
     "name": "stderr",
     "output_type": "stream",
     "text": [
      "0.24185396700489278: 100%|██████████| 196/196 [00:47<00:00,  4.12it/s]\n"
     ]
    },
    {
     "name": "stdout",
     "output_type": "stream",
     "text": [
      "0.6536\n"
     ]
    },
    {
     "name": "stderr",
     "output_type": "stream",
     "text": [
      "0.23298936960648517: 100%|██████████| 196/196 [00:46<00:00,  4.19it/s]\n"
     ]
    },
    {
     "name": "stdout",
     "output_type": "stream",
     "text": [
      "0.651\n"
     ]
    },
    {
     "name": "stderr",
     "output_type": "stream",
     "text": [
      "0.22881535121372767: 100%|██████████| 196/196 [00:49<00:00,  3.94it/s]\n"
     ]
    },
    {
     "name": "stdout",
     "output_type": "stream",
     "text": [
      "0.6508\n"
     ]
    },
    {
     "name": "stderr",
     "output_type": "stream",
     "text": [
      "0.2236861598734953: 100%|██████████| 196/196 [00:48<00:00,  4.01it/s]\n"
     ]
    },
    {
     "name": "stdout",
     "output_type": "stream",
     "text": [
      "0.648\n"
     ]
    },
    {
     "name": "stderr",
     "output_type": "stream",
     "text": [
      "0.22028590221794284: 100%|██████████| 196/196 [00:47<00:00,  4.14it/s]\n"
     ]
    },
    {
     "name": "stdout",
     "output_type": "stream",
     "text": [
      "0.6488\n"
     ]
    },
    {
     "name": "stderr",
     "output_type": "stream",
     "text": [
      "0.2094788259389449: 100%|██████████| 196/196 [00:48<00:00,  4.07it/s]\n"
     ]
    },
    {
     "name": "stdout",
     "output_type": "stream",
     "text": [
      "0.6527\n"
     ]
    },
    {
     "name": "stderr",
     "output_type": "stream",
     "text": [
      "0.20411218915666854: 100%|██████████| 196/196 [00:48<00:00,  4.02it/s]\n"
     ]
    },
    {
     "name": "stdout",
     "output_type": "stream",
     "text": [
      "0.6524\n"
     ]
    },
    {
     "name": "stderr",
     "output_type": "stream",
     "text": [
      "0.19834962183115434: 100%|██████████| 196/196 [00:49<00:00,  3.95it/s]\n"
     ]
    },
    {
     "name": "stdout",
     "output_type": "stream",
     "text": [
      "0.654\n"
     ]
    },
    {
     "name": "stderr",
     "output_type": "stream",
     "text": [
      "0.19043437802061744: 100%|██████████| 196/196 [00:46<00:00,  4.23it/s]\n"
     ]
    },
    {
     "name": "stdout",
     "output_type": "stream",
     "text": [
      "0.6474\n"
     ]
    },
    {
     "name": "stderr",
     "output_type": "stream",
     "text": [
      "0.1896098195290079: 100%|██████████| 196/196 [00:49<00:00,  3.98it/s]\n"
     ]
    },
    {
     "name": "stdout",
     "output_type": "stream",
     "text": [
      "0.6524\n"
     ]
    },
    {
     "name": "stderr",
     "output_type": "stream",
     "text": [
      "0.18539494884257413: 100%|██████████| 196/196 [00:49<00:00,  3.93it/s]\n"
     ]
    },
    {
     "name": "stdout",
     "output_type": "stream",
     "text": [
      "0.6526\n"
     ]
    },
    {
     "name": "stderr",
     "output_type": "stream",
     "text": [
      "0.1800394058227539: 100%|██████████| 196/196 [00:48<00:00,  4.01it/s]\n"
     ]
    },
    {
     "name": "stdout",
     "output_type": "stream",
     "text": [
      "0.6517\n"
     ]
    },
    {
     "name": "stderr",
     "output_type": "stream",
     "text": [
      "0.1710018235809949: 100%|██████████| 196/196 [00:46<00:00,  4.21it/s]\n"
     ]
    },
    {
     "name": "stdout",
     "output_type": "stream",
     "text": [
      "0.655\n"
     ]
    },
    {
     "name": "stderr",
     "output_type": "stream",
     "text": [
      "0.16671229381950534: 100%|██████████| 196/196 [00:46<00:00,  4.20it/s]\n"
     ]
    },
    {
     "name": "stdout",
     "output_type": "stream",
     "text": [
      "0.6522\n"
     ]
    },
    {
     "name": "stderr",
     "output_type": "stream",
     "text": [
      "0.1633251735142299: 100%|██████████| 196/196 [00:50<00:00,  3.92it/s]\n"
     ]
    },
    {
     "name": "stdout",
     "output_type": "stream",
     "text": [
      "0.6513\n"
     ]
    },
    {
     "name": "stderr",
     "output_type": "stream",
     "text": [
      "0.15773359610109913: 100%|██████████| 196/196 [00:46<00:00,  4.23it/s]\n"
     ]
    },
    {
     "name": "stdout",
     "output_type": "stream",
     "text": [
      "0.6535\n"
     ]
    },
    {
     "name": "stderr",
     "output_type": "stream",
     "text": [
      "0.15992169477501694: 100%|██████████| 196/196 [00:46<00:00,  4.22it/s]\n"
     ]
    },
    {
     "name": "stdout",
     "output_type": "stream",
     "text": [
      "0.6505\n"
     ]
    },
    {
     "name": "stderr",
     "output_type": "stream",
     "text": [
      "0.1551133175285495: 100%|██████████| 196/196 [00:49<00:00,  3.95it/s]\n"
     ]
    },
    {
     "name": "stdout",
     "output_type": "stream",
     "text": [
      "0.6504\n"
     ]
    },
    {
     "name": "stderr",
     "output_type": "stream",
     "text": [
      "0.15384805445768396: 100%|██████████| 196/196 [00:46<00:00,  4.23it/s]\n"
     ]
    },
    {
     "name": "stdout",
     "output_type": "stream",
     "text": [
      "0.6523\n"
     ]
    },
    {
     "name": "stderr",
     "output_type": "stream",
     "text": [
      "0.14492000852312362: 100%|██████████| 196/196 [00:49<00:00,  3.93it/s]\n"
     ]
    },
    {
     "name": "stdout",
     "output_type": "stream",
     "text": [
      "0.6539\n"
     ]
    },
    {
     "name": "stderr",
     "output_type": "stream",
     "text": [
      "0.14364346679376097: 100%|██████████| 196/196 [00:46<00:00,  4.20it/s]\n"
     ]
    },
    {
     "name": "stdout",
     "output_type": "stream",
     "text": [
      "0.6602\n"
     ]
    },
    {
     "name": "stderr",
     "output_type": "stream",
     "text": [
      "0.1358644913653938: 100%|██████████| 196/196 [00:46<00:00,  4.22it/s]\n"
     ]
    },
    {
     "name": "stdout",
     "output_type": "stream",
     "text": [
      "0.6448\n"
     ]
    },
    {
     "name": "stderr",
     "output_type": "stream",
     "text": [
      "0.13949586907211614: 100%|██████████| 196/196 [00:50<00:00,  3.92it/s]\n"
     ]
    },
    {
     "name": "stdout",
     "output_type": "stream",
     "text": [
      "0.6484\n"
     ]
    },
    {
     "name": "stderr",
     "output_type": "stream",
     "text": [
      "0.13720477357202646: 100%|██████████| 196/196 [00:46<00:00,  4.19it/s]\n"
     ]
    },
    {
     "name": "stdout",
     "output_type": "stream",
     "text": [
      "0.6575\n"
     ]
    },
    {
     "name": "stderr",
     "output_type": "stream",
     "text": [
      "0.13985991964534839: 100%|██████████| 196/196 [00:48<00:00,  4.03it/s]\n"
     ]
    },
    {
     "name": "stdout",
     "output_type": "stream",
     "text": [
      "0.6506\n"
     ]
    },
    {
     "name": "stderr",
     "output_type": "stream",
     "text": [
      "0.13478776386805943: 100%|██████████| 196/196 [00:46<00:00,  4.20it/s]\n"
     ]
    },
    {
     "name": "stdout",
     "output_type": "stream",
     "text": [
      "0.6508\n"
     ]
    },
    {
     "name": "stderr",
     "output_type": "stream",
     "text": [
      "0.1221874392762476: 100%|██████████| 196/196 [00:46<00:00,  4.18it/s]\n"
     ]
    },
    {
     "name": "stdout",
     "output_type": "stream",
     "text": [
      "0.6548\n"
     ]
    },
    {
     "name": "stderr",
     "output_type": "stream",
     "text": [
      "0.12238978366462552: 100%|██████████| 196/196 [00:50<00:00,  3.89it/s]\n"
     ]
    },
    {
     "name": "stdout",
     "output_type": "stream",
     "text": [
      "0.6563\n"
     ]
    },
    {
     "name": "stderr",
     "output_type": "stream",
     "text": [
      "0.12384086725663165: 100%|██████████| 196/196 [00:46<00:00,  4.22it/s]\n"
     ]
    },
    {
     "name": "stdout",
     "output_type": "stream",
     "text": [
      "0.6547\n"
     ]
    },
    {
     "name": "stderr",
     "output_type": "stream",
     "text": [
      "0.12341350438643475: 100%|██████████| 196/196 [00:46<00:00,  4.23it/s]\n"
     ]
    },
    {
     "name": "stdout",
     "output_type": "stream",
     "text": [
      "0.6519\n"
     ]
    },
    {
     "name": "stderr",
     "output_type": "stream",
     "text": [
      "0.12234000770413146: 100%|██████████| 196/196 [00:49<00:00,  3.95it/s]\n"
     ]
    },
    {
     "name": "stdout",
     "output_type": "stream",
     "text": [
      "0.6497\n"
     ]
    },
    {
     "name": "stderr",
     "output_type": "stream",
     "text": [
      "0.11604677900976064: 100%|██████████| 196/196 [00:46<00:00,  4.18it/s]\n"
     ]
    },
    {
     "name": "stdout",
     "output_type": "stream",
     "text": [
      "0.6512\n"
     ]
    },
    {
     "name": "stderr",
     "output_type": "stream",
     "text": [
      "0.11081204122426558: 100%|██████████| 196/196 [00:50<00:00,  3.88it/s]\n"
     ]
    },
    {
     "name": "stdout",
     "output_type": "stream",
     "text": [
      "0.6481\n"
     ]
    },
    {
     "name": "stderr",
     "output_type": "stream",
     "text": [
      "0.1144253769699408: 100%|██████████| 196/196 [00:46<00:00,  4.23it/s]\n"
     ]
    },
    {
     "name": "stdout",
     "output_type": "stream",
     "text": [
      "0.6533\n"
     ]
    },
    {
     "name": "stderr",
     "output_type": "stream",
     "text": [
      "0.11090664960900132: 100%|██████████| 196/196 [00:46<00:00,  4.22it/s]\n"
     ]
    },
    {
     "name": "stdout",
     "output_type": "stream",
     "text": [
      "0.6507\n"
     ]
    },
    {
     "name": "stderr",
     "output_type": "stream",
     "text": [
      "0.11325171529030313: 100%|██████████| 196/196 [00:50<00:00,  3.87it/s]\n"
     ]
    },
    {
     "name": "stdout",
     "output_type": "stream",
     "text": [
      "0.6563\n"
     ]
    },
    {
     "name": "stderr",
     "output_type": "stream",
     "text": [
      "0.1103841917855399: 100%|██████████| 196/196 [00:46<00:00,  4.20it/s]\n"
     ]
    },
    {
     "name": "stdout",
     "output_type": "stream",
     "text": [
      "0.6528\n"
     ]
    },
    {
     "name": "stderr",
     "output_type": "stream",
     "text": [
      "0.10421053244143116: 100%|██████████| 196/196 [00:46<00:00,  4.20it/s]\n"
     ]
    },
    {
     "name": "stdout",
     "output_type": "stream",
     "text": [
      "0.6504\n"
     ]
    },
    {
     "name": "stderr",
     "output_type": "stream",
     "text": [
      "0.10512627387533383: 100%|██████████| 196/196 [00:48<00:00,  4.03it/s]\n"
     ]
    },
    {
     "name": "stdout",
     "output_type": "stream",
     "text": [
      "0.6483\n"
     ]
    },
    {
     "name": "stderr",
     "output_type": "stream",
     "text": [
      "0.10230788406060666: 100%|██████████| 196/196 [00:46<00:00,  4.20it/s]\n"
     ]
    },
    {
     "name": "stdout",
     "output_type": "stream",
     "text": [
      "0.6495\n"
     ]
    },
    {
     "name": "stderr",
     "output_type": "stream",
     "text": [
      "0.10466946387777523: 100%|██████████| 196/196 [00:50<00:00,  3.87it/s]\n"
     ]
    },
    {
     "name": "stdout",
     "output_type": "stream",
     "text": [
      "0.6504\n"
     ]
    },
    {
     "name": "stderr",
     "output_type": "stream",
     "text": [
      "0.0994717636886908: 100%|██████████| 196/196 [00:46<00:00,  4.22it/s]\n"
     ]
    },
    {
     "name": "stdout",
     "output_type": "stream",
     "text": [
      "0.6543\n"
     ]
    },
    {
     "name": "stderr",
     "output_type": "stream",
     "text": [
      "0.10082032729168328: 100%|██████████| 196/196 [00:46<00:00,  4.18it/s]\n"
     ]
    },
    {
     "name": "stdout",
     "output_type": "stream",
     "text": [
      "0.6452\n"
     ]
    },
    {
     "name": "stderr",
     "output_type": "stream",
     "text": [
      "0.1035910431219607: 100%|██████████| 196/196 [00:50<00:00,  3.88it/s]\n"
     ]
    },
    {
     "name": "stdout",
     "output_type": "stream",
     "text": [
      "0.6553\n"
     ]
    },
    {
     "name": "stderr",
     "output_type": "stream",
     "text": [
      "0.09731787078234615: 100%|██████████| 196/196 [00:46<00:00,  4.19it/s]\n"
     ]
    },
    {
     "name": "stdout",
     "output_type": "stream",
     "text": [
      "0.6543\n"
     ]
    },
    {
     "name": "stderr",
     "output_type": "stream",
     "text": [
      "0.09672023812118842: 100%|██████████| 196/196 [00:47<00:00,  4.10it/s]\n"
     ]
    },
    {
     "name": "stdout",
     "output_type": "stream",
     "text": [
      "0.6531\n"
     ]
    },
    {
     "name": "stderr",
     "output_type": "stream",
     "text": [
      "0.09151866484661492: 100%|██████████| 196/196 [00:48<00:00,  4.07it/s]\n"
     ]
    },
    {
     "name": "stdout",
     "output_type": "stream",
     "text": [
      "0.6565\n"
     ]
    },
    {
     "name": "stderr",
     "output_type": "stream",
     "text": [
      "0.0951683083359076: 100%|██████████| 196/196 [00:46<00:00,  4.17it/s]\n"
     ]
    },
    {
     "name": "stdout",
     "output_type": "stream",
     "text": [
      "0.6573\n"
     ]
    },
    {
     "name": "stderr",
     "output_type": "stream",
     "text": [
      "0.09117992556824976: 100%|██████████| 196/196 [00:50<00:00,  3.86it/s]\n"
     ]
    },
    {
     "name": "stdout",
     "output_type": "stream",
     "text": [
      "0.6525\n"
     ]
    },
    {
     "name": "stderr",
     "output_type": "stream",
     "text": [
      "0.08730276263490015: 100%|██████████| 196/196 [00:46<00:00,  4.22it/s]\n"
     ]
    },
    {
     "name": "stdout",
     "output_type": "stream",
     "text": [
      "0.6473\n"
     ]
    },
    {
     "name": "stderr",
     "output_type": "stream",
     "text": [
      "0.08867059435163226: 100%|██████████| 196/196 [00:46<00:00,  4.18it/s]\n"
     ]
    },
    {
     "name": "stdout",
     "output_type": "stream",
     "text": [
      "0.6534\n"
     ]
    },
    {
     "name": "stderr",
     "output_type": "stream",
     "text": [
      "0.08994626998901367: 100%|██████████| 196/196 [00:50<00:00,  3.84it/s]\n"
     ]
    },
    {
     "name": "stdout",
     "output_type": "stream",
     "text": [
      "0.6522\n"
     ]
    },
    {
     "name": "stderr",
     "output_type": "stream",
     "text": [
      "0.08933186044498366: 100%|██████████| 196/196 [00:46<00:00,  4.20it/s]\n"
     ]
    },
    {
     "name": "stdout",
     "output_type": "stream",
     "text": [
      "0.6484\n"
     ]
    },
    {
     "name": "stderr",
     "output_type": "stream",
     "text": [
      "0.08892171236933494: 100%|██████████| 196/196 [00:48<00:00,  4.06it/s]\n"
     ]
    },
    {
     "name": "stdout",
     "output_type": "stream",
     "text": [
      "0.6482\n"
     ]
    },
    {
     "name": "stderr",
     "output_type": "stream",
     "text": [
      "0.0867818326366191: 100%|██████████| 196/196 [00:47<00:00,  4.09it/s]\n"
     ]
    },
    {
     "name": "stdout",
     "output_type": "stream",
     "text": [
      "0.6542\n"
     ]
    },
    {
     "name": "stderr",
     "output_type": "stream",
     "text": [
      "0.0816611367828992: 100%|██████████| 196/196 [00:46<00:00,  4.18it/s]\n"
     ]
    },
    {
     "name": "stdout",
     "output_type": "stream",
     "text": [
      "0.651\n"
     ]
    },
    {
     "name": "stderr",
     "output_type": "stream",
     "text": [
      "0.07761729493433116: 100%|██████████| 196/196 [00:51<00:00,  3.83it/s]\n"
     ]
    },
    {
     "name": "stdout",
     "output_type": "stream",
     "text": [
      "0.6477\n"
     ]
    },
    {
     "name": "stderr",
     "output_type": "stream",
     "text": [
      "0.08367336039640466: 100%|██████████| 196/196 [00:46<00:00,  4.21it/s]\n"
     ]
    },
    {
     "name": "stdout",
     "output_type": "stream",
     "text": [
      "0.6555\n"
     ]
    },
    {
     "name": "stderr",
     "output_type": "stream",
     "text": [
      "0.08345694444617446: 100%|██████████| 196/196 [00:46<00:00,  4.20it/s]\n"
     ]
    },
    {
     "name": "stdout",
     "output_type": "stream",
     "text": [
      "0.6498\n"
     ]
    },
    {
     "name": "stderr",
     "output_type": "stream",
     "text": [
      "0.08266102537816884: 100%|██████████| 196/196 [00:51<00:00,  3.82it/s]\n"
     ]
    },
    {
     "name": "stdout",
     "output_type": "stream",
     "text": [
      "0.6526\n"
     ]
    },
    {
     "name": "stderr",
     "output_type": "stream",
     "text": [
      "0.08308969225202288: 100%|██████████| 196/196 [00:46<00:00,  4.20it/s]\n"
     ]
    },
    {
     "name": "stdout",
     "output_type": "stream",
     "text": [
      "0.6534\n"
     ]
    },
    {
     "name": "stderr",
     "output_type": "stream",
     "text": [
      "0.0831464164111079: 100%|██████████| 196/196 [00:48<00:00,  4.06it/s]\n"
     ]
    },
    {
     "name": "stdout",
     "output_type": "stream",
     "text": [
      "0.6554\n"
     ]
    },
    {
     "name": "stderr",
     "output_type": "stream",
     "text": [
      "0.07951659085799237: 100%|██████████| 196/196 [00:48<00:00,  4.01it/s]\n"
     ]
    },
    {
     "name": "stdout",
     "output_type": "stream",
     "text": [
      "0.6525\n"
     ]
    },
    {
     "name": "stderr",
     "output_type": "stream",
     "text": [
      "0.07659734998430524: 100%|██████████| 196/196 [00:46<00:00,  4.24it/s]\n"
     ]
    },
    {
     "name": "stdout",
     "output_type": "stream",
     "text": [
      "0.6534\n"
     ]
    },
    {
     "name": "stderr",
     "output_type": "stream",
     "text": [
      "0.07241550756960499: 100%|██████████| 196/196 [00:51<00:00,  3.82it/s]\n"
     ]
    },
    {
     "name": "stdout",
     "output_type": "stream",
     "text": [
      "0.6499\n"
     ]
    },
    {
     "name": "stderr",
     "output_type": "stream",
     "text": [
      "0.07718635091976243: 100%|██████████| 196/196 [00:46<00:00,  4.18it/s]\n"
     ]
    },
    {
     "name": "stdout",
     "output_type": "stream",
     "text": [
      "0.6482\n"
     ]
    },
    {
     "name": "stderr",
     "output_type": "stream",
     "text": [
      "0.07529470871905891: 100%|██████████| 196/196 [00:46<00:00,  4.21it/s]\n"
     ]
    },
    {
     "name": "stdout",
     "output_type": "stream",
     "text": [
      "0.6531\n"
     ]
    },
    {
     "name": "stderr",
     "output_type": "stream",
     "text": [
      "0.07303719617882554: 100%|██████████| 196/196 [00:51<00:00,  3.81it/s]\n"
     ]
    },
    {
     "name": "stdout",
     "output_type": "stream",
     "text": [
      "0.6497\n"
     ]
    },
    {
     "name": "stderr",
     "output_type": "stream",
     "text": [
      "0.07698296040904765: 100%|██████████| 196/196 [00:46<00:00,  4.19it/s]\n"
     ]
    },
    {
     "name": "stdout",
     "output_type": "stream",
     "text": [
      "0.6544\n"
     ]
    },
    {
     "name": "stderr",
     "output_type": "stream",
     "text": [
      "0.07097186361040388: 100%|██████████| 196/196 [00:46<00:00,  4.20it/s]\n"
     ]
    },
    {
     "name": "stdout",
     "output_type": "stream",
     "text": [
      "0.6519\n"
     ]
    },
    {
     "name": "stderr",
     "output_type": "stream",
     "text": [
      "0.07636814701313875: 100%|██████████| 196/196 [00:52<00:00,  3.73it/s]\n"
     ]
    },
    {
     "name": "stdout",
     "output_type": "stream",
     "text": [
      "0.6531\n"
     ]
    },
    {
     "name": "stderr",
     "output_type": "stream",
     "text": [
      "0.07568184696898168: 100%|██████████| 196/196 [00:46<00:00,  4.21it/s]\n"
     ]
    },
    {
     "name": "stdout",
     "output_type": "stream",
     "text": [
      "0.6477\n"
     ]
    },
    {
     "name": "stderr",
     "output_type": "stream",
     "text": [
      "0.07370666581757214: 100%|██████████| 196/196 [00:49<00:00,  4.00it/s]\n"
     ]
    },
    {
     "name": "stdout",
     "output_type": "stream",
     "text": [
      "0.6469\n"
     ]
    },
    {
     "name": "stderr",
     "output_type": "stream",
     "text": [
      "0.07070925284405144: 100%|██████████| 196/196 [00:48<00:00,  4.02it/s]\n"
     ]
    },
    {
     "name": "stdout",
     "output_type": "stream",
     "text": [
      "0.6509\n"
     ]
    },
    {
     "name": "stderr",
     "output_type": "stream",
     "text": [
      "0.071658299893749: 100%|██████████| 196/196 [00:47<00:00,  4.15it/s]\n"
     ]
    },
    {
     "name": "stdout",
     "output_type": "stream",
     "text": [
      "0.6457\n"
     ]
    },
    {
     "name": "stderr",
     "output_type": "stream",
     "text": [
      "0.0722934323914197: 100%|██████████| 196/196 [00:51<00:00,  3.78it/s]\n"
     ]
    },
    {
     "name": "stdout",
     "output_type": "stream",
     "text": [
      "0.6455\n"
     ]
    },
    {
     "name": "stderr",
     "output_type": "stream",
     "text": [
      "0.06650810339012925: 100%|██████████| 196/196 [00:46<00:00,  4.18it/s]\n"
     ]
    },
    {
     "name": "stdout",
     "output_type": "stream",
     "text": [
      "0.6465\n"
     ]
    },
    {
     "name": "stderr",
     "output_type": "stream",
     "text": [
      "0.07280542899151238: 100%|██████████| 196/196 [00:46<00:00,  4.21it/s]\n"
     ]
    },
    {
     "name": "stdout",
     "output_type": "stream",
     "text": [
      "0.6532\n"
     ]
    },
    {
     "name": "stderr",
     "output_type": "stream",
     "text": [
      "0.06464651166176309: 100%|██████████| 196/196 [00:52<00:00,  3.74it/s]\n"
     ]
    },
    {
     "name": "stdout",
     "output_type": "stream",
     "text": [
      "0.6476\n"
     ]
    },
    {
     "name": "stderr",
     "output_type": "stream",
     "text": [
      "0.06497088257147342: 100%|██████████| 196/196 [00:46<00:00,  4.18it/s]\n"
     ]
    },
    {
     "name": "stdout",
     "output_type": "stream",
     "text": [
      "0.6504\n"
     ]
    },
    {
     "name": "stderr",
     "output_type": "stream",
     "text": [
      "0.06620306871375259: 100%|██████████| 196/196 [00:46<00:00,  4.18it/s]\n"
     ]
    },
    {
     "name": "stdout",
     "output_type": "stream",
     "text": [
      "0.6492\n"
     ]
    }
   ],
   "source": [
    "\n",
    "import torch\n",
    "from vit_pytorch import ViT\n",
    "\n",
    "# get ViT-B/16 model\n",
    "\n",
    "v = ViT(\n",
    "    image_size = 32,\n",
    "    patch_size = 16,\n",
    "    num_classes = 10,\n",
    "    dim = 768,\n",
    "    depth = 12,\n",
    "    heads = 12,\n",
    "    mlp_dim = 3072,\n",
    "    dropout = 0.1,\n",
    "    emb_dropout = 0.1\n",
    ")\n",
    "v.train()\n",
    "\n",
    "# initialize stuffs\n",
    "losslist_n = []\n",
    "v = v.to(device)\n",
    "voptimizer = torch.optim.Adam(v.parameters(), lr=.0001)\n",
    "import random\n",
    "\n",
    "acc = 0\n",
    "total = 0\n",
    "# do loop for baseline\n",
    "for epoch in range(150):\n",
    "    t = tqdm.tqdm(train_dataloader, position=0, leave=True)\n",
    "    tloss = 0\n",
    "    # loop over data\n",
    "    for n, (x, y) in enumerate(t):\n",
    "        bs = x.shape[0]\n",
    "        \n",
    "        # change device to gpu\n",
    "        x = x.to(device)\n",
    "        y = y.to(device)\n",
    "        \n",
    "        # forward pass\n",
    "        x = x.reshape(bs, 3, 32, 32)\n",
    "        f_y_hat = v(x)\n",
    "        \n",
    "        # backward pass\n",
    "        loss = torch.nn.CrossEntropyLoss()((f_y_hat).reshape([bs, 10]), y) # nn.ReLU()\n",
    "        loss.backward()\n",
    "        tloss += loss\n",
    "        \n",
    "        # optimize\n",
    "        voptimizer.step() \n",
    "        voptimizer.zero_grad()\n",
    "        \n",
    "        # keep track of this epoch's loss\n",
    "        t.set_description_str(str(tloss.detach().cpu().numpy()/(n+1))) # 14:.2\n",
    "        \n",
    "    # test epoch's accuracy and append it to the list\n",
    "    l = testb()\n",
    "    print(l)\n",
    "    losslist_n.append(l)\n",
    "    \n",
    "# 5 = 2 normal\n",
    "# new 1.8 = 5"
   ]
  },
  {
   "cell_type": "code",
   "execution_count": 6,
   "id": "09f91e7c",
   "metadata": {
    "execution": {
     "iopub.execute_input": "2021-10-21T23:12:56.186947Z",
     "iopub.status.busy": "2021-10-21T23:12:56.185363Z",
     "iopub.status.idle": "2021-10-21T23:12:56.189180Z",
     "shell.execute_reply": "2021-10-21T23:12:56.188596Z",
     "shell.execute_reply.started": "2021-10-21T20:57:21.598192Z"
    },
    "papermill": {
     "duration": 16.258383,
     "end_time": "2021-10-21T23:12:56.189331",
     "exception": false,
     "start_time": "2021-10-21T23:12:39.930948",
     "status": "completed"
    },
    "tags": []
   },
   "outputs": [
    {
     "name": "stdout",
     "output_type": "stream",
     "text": [
      "[0.3796, 0.4455, 0.4646, 0.4977, 0.5083, 0.5252, 0.5387, 0.5345, 0.5519, 0.5626, 0.5502, 0.5759, 0.5793, 0.577, 0.5899, 0.5924, 0.5909, 0.5945, 0.5991, 0.6038, 0.615, 0.6165, 0.6185, 0.622, 0.6239, 0.6299, 0.6292, 0.6378, 0.6337, 0.6344, 0.6413, 0.639, 0.6402, 0.6384, 0.6462, 0.6458, 0.6471, 0.643, 0.6507, 0.6511, 0.6534, 0.6482, 0.6462, 0.6507, 0.6546, 0.6499, 0.6542, 0.6545, 0.6549, 0.6517, 0.6529, 0.6543, 0.653, 0.6538, 0.6525, 0.6547, 0.6503, 0.6586, 0.6559, 0.6545, 0.6565, 0.6582, 0.6586, 0.6551, 0.6537, 0.6574, 0.6491, 0.649, 0.655, 0.6536, 0.651, 0.6508, 0.648, 0.6488, 0.6527, 0.6524, 0.654, 0.6474, 0.6524, 0.6526, 0.6517, 0.655, 0.6522, 0.6513, 0.6535, 0.6505, 0.6504, 0.6523, 0.6539, 0.6602, 0.6448, 0.6484, 0.6575, 0.6506, 0.6508, 0.6548, 0.6563, 0.6547, 0.6519, 0.6497, 0.6512, 0.6481, 0.6533, 0.6507, 0.6563, 0.6528, 0.6504, 0.6483, 0.6495, 0.6504, 0.6543, 0.6452, 0.6553, 0.6543, 0.6531, 0.6565, 0.6573, 0.6525, 0.6473, 0.6534, 0.6522, 0.6484, 0.6482, 0.6542, 0.651, 0.6477, 0.6555, 0.6498, 0.6526, 0.6534, 0.6554, 0.6525, 0.6534, 0.6499, 0.6482, 0.6531, 0.6497, 0.6544, 0.6519, 0.6531, 0.6477, 0.6469, 0.6509, 0.6457, 0.6455, 0.6465, 0.6532, 0.6476, 0.6504, 0.6492]\n"
     ]
    }
   ],
   "source": [
    "# load in ViT-b/16 results from the above code ran in previous version, I seperated these two in case the session was terminated and the data would be lost\n",
    "#losslist_n = [0.4132, 0.4589, 0.4987, 0.5169, 0.5235, 0.5364, 0.5478, 0.5506, 0.5717, 0.5792, 0.5831, 0.5864, 0.5893, 0.6025, 0.6018, 0.6065, 0.6184, 0.6211, 0.6271, 0.6323, 0.6419, 0.6393, 0.6411, 0.6347, 0.6511, 0.6335, 0.6427, 0.6492, 0.6545, 0.6598, 0.6503, 0.6579, 0.6585, 0.6531, 0.6611, 0.654, 0.6652, 0.6619, 0.6526, 0.6564, 0.6616, 0.6582, 0.6554, 0.6551, 0.6645, 0.6569, 0.661, 0.6624, 0.6601, 0.6617, 0.6651, 0.6571, 0.6634, 0.6592, 0.6612, 0.6616, 0.658, 0.6544, 0.6561, 0.6609, 0.6583, 0.6648, 0.6632, 0.6538, 0.6563, 0.6633, 0.6613, 0.6632, 0.6573, 0.6556, 0.6605, 0.658, 0.651, 0.6596, 0.656, 0.6612, 0.6576, 0.6606, 0.6634, 0.6628, 0.6552, 0.6631, 0.664, 0.6641, 0.6595, 0.6637, 0.6614, 0.6614, 0.6638, 0.6586, 0.659, 0.6594, 0.66, 0.6543, 0.6591, 0.6605, 0.6609, 0.6568, 0.6542, 0.6607, 0.663, 0.6613, 0.6678, 0.661, 0.655, 0.6531, 0.6492, 0.6611, 0.6595, 0.6584, 0.6588, 0.6593, 0.6574, 0.6606, 0.6586, 0.6616, 0.6577, 0.6549, 0.6584, 0.6619, 0.6613, 0.664, 0.6595, 0.6538, 0.6592, 0.6635, 0.6616, 0.6605, 0.6662, 0.6612, 0.6592, 0.6602, 0.6652, 0.6531, 0.6565, 0.6587, 0.6625, 0.6523, 0.6555, 0.6516, 0.6556, 0.6652, 0.6562, 0.6606, 0.6579, 0.6619, 0.6603, 0.6587, 0.6581, 0.6595, 0.6608, 0.6513, 0.6601, 0.6558, 0.6517, 0.6547, 0.6585, 0.6552, 0.6577, 0.6558, 0.6556, 0.6545, 0.661, 0.6599, 0.6576, 0.6587, 0.6582, 0.6582, 0.6573, 0.6561, 0.6563, 0.6605, 0.6571, 0.6582, 0.6578, 0.6592, 0.6573, 0.6543, 0.6528, 0.6584, 0.6562, 0.6602, 0.6615, 0.6558, 0.6614, 0.6611, 0.6625, 0.6606, 0.6553, 0.6602, 0.6592, 0.652, 0.6589, 0.6614, 0.6592, 0.6584, 0.6577, 0.6503, 0.6521, 0.6554]\n",
    "print(losslist_n)"
   ]
  },
  {
   "cell_type": "code",
   "execution_count": 7,
   "id": "9820e967",
   "metadata": {
    "execution": {
     "iopub.execute_input": "2021-10-21T23:13:28.096162Z",
     "iopub.status.busy": "2021-10-21T23:13:28.095464Z",
     "iopub.status.idle": "2021-10-21T23:13:28.097849Z",
     "shell.execute_reply": "2021-10-21T23:13:28.098322Z",
     "shell.execute_reply.started": "2021-10-21T20:57:23.197650Z"
    },
    "papermill": {
     "duration": 16.086691,
     "end_time": "2021-10-21T23:13:28.098470",
     "exception": false,
     "start_time": "2021-10-21T23:13:12.011779",
     "status": "completed"
    },
    "tags": []
   },
   "outputs": [],
   "source": [
    "def test(f):\n",
    "    acc = 0\n",
    "    total = 0\n",
    "    # loop over test set\n",
    "    for n_, (x, y) in enumerate(val_dataloader):\n",
    "        bs = x.shape[0]\n",
    "        x = x.to(device)\n",
    "        \n",
    "        # f is how many times ViT loops over data\n",
    "        for i in range(f):\n",
    "            x = v(x)\n",
    "            x = nn.ReLU()(b(x))\n",
    "            x = x.reshape(bs, 3, 32, 32)\n",
    "            \n",
    "        # apply Head\n",
    "        y_hat = Head(x)\n",
    "        \n",
    "        # loop over predicted and see if equal to the ground truth\n",
    "        for _, i in enumerate(y_hat):\n",
    "            if i.argmax() == y.to(device)[_]:\n",
    "                acc +=1\n",
    "            total +=1\n",
    "            \n",
    "    return acc/total"
   ]
  },
  {
   "cell_type": "code",
   "execution_count": 8,
   "id": "86bd0824",
   "metadata": {
    "execution": {
     "iopub.execute_input": "2021-10-21T23:14:00.039485Z",
     "iopub.status.busy": "2021-10-21T23:14:00.038592Z",
     "iopub.status.idle": "2021-10-21T23:14:00.040652Z",
     "shell.execute_reply": "2021-10-21T23:14:00.041055Z",
     "shell.execute_reply.started": "2021-10-21T20:57:24.880869Z"
    },
    "papermill": {
     "duration": 16.260136,
     "end_time": "2021-10-21T23:14:00.041207",
     "exception": false,
     "start_time": "2021-10-21T23:13:43.781071",
     "status": "completed"
    },
    "tags": []
   },
   "outputs": [],
   "source": [
    "# blank module to replace nn.Softmaxes with\n",
    "class make_linear(torch.nn.Module):\n",
    "    def __init__(self):\n",
    "        super(make_linear, self).__init__()\n",
    "\n",
    "    def forward(self, x):\n",
    "        return x"
   ]
  },
  {
   "cell_type": "code",
   "execution_count": 9,
   "id": "6e464b17",
   "metadata": {
    "execution": {
     "iopub.execute_input": "2021-10-21T23:14:31.619409Z",
     "iopub.status.busy": "2021-10-21T23:14:31.618572Z",
     "iopub.status.idle": "2021-10-21T23:14:31.621167Z",
     "shell.execute_reply": "2021-10-21T23:14:31.620725Z",
     "shell.execute_reply.started": "2021-10-21T20:57:26.409416Z"
    },
    "papermill": {
     "duration": 15.984708,
     "end_time": "2021-10-21T23:14:31.621287",
     "exception": false,
     "start_time": "2021-10-21T23:14:15.636579",
     "status": "completed"
    },
    "tags": []
   },
   "outputs": [],
   "source": [
    "def replace_layers(model, old, new):\n",
    "    # stolen from stack overflow, replaces all non linearities so that transformers are linear\n",
    "    for n, module in model.named_children():\n",
    "        if len(list(module.children())) > 0:\n",
    "            ## compound module, go inside it\n",
    "            replace_layers(module, old, new)\n",
    "            \n",
    "        if isinstance(module, old):\n",
    "            ## simple module\n",
    "            setattr(model, n, new)"
   ]
  },
  {
   "cell_type": "code",
   "execution_count": 10,
   "id": "e45f3dd8",
   "metadata": {
    "execution": {
     "iopub.execute_input": "2021-10-21T23:15:03.465860Z",
     "iopub.status.busy": "2021-10-21T23:15:03.460007Z",
     "iopub.status.idle": "2021-10-22T01:46:45.800140Z",
     "shell.execute_reply": "2021-10-22T01:46:45.800778Z",
     "shell.execute_reply.started": "2021-10-21T20:57:38.576039Z"
    },
    "papermill": {
     "duration": 9118.60101,
     "end_time": "2021-10-22T01:46:45.800941",
     "exception": false,
     "start_time": "2021-10-21T23:14:47.199931",
     "status": "completed"
    },
    "tags": []
   },
   "outputs": [
    {
     "name": "stderr",
     "output_type": "stream",
     "text": [
      "2.441614112075494: 100%|██████████| 196/196 [00:53<00:00,  3.68it/s]\n"
     ]
    },
    {
     "name": "stdout",
     "output_type": "stream",
     "text": [
      "0.2963\n"
     ]
    },
    {
     "name": "stderr",
     "output_type": "stream",
     "text": [
      "1.8903962738659916: 100%|██████████| 196/196 [00:53<00:00,  3.66it/s]\n"
     ]
    },
    {
     "name": "stdout",
     "output_type": "stream",
     "text": [
      "0.3765\n"
     ]
    },
    {
     "name": "stderr",
     "output_type": "stream",
     "text": [
      "1.8757369372309471: 100%|██████████| 196/196 [00:58<00:00,  3.34it/s]\n"
     ]
    },
    {
     "name": "stdout",
     "output_type": "stream",
     "text": [
      "0.3452\n"
     ]
    },
    {
     "name": "stderr",
     "output_type": "stream",
     "text": [
      "1.718468646613919: 100%|██████████| 196/196 [00:53<00:00,  3.65it/s]\n"
     ]
    },
    {
     "name": "stdout",
     "output_type": "stream",
     "text": [
      "0.4128\n"
     ]
    },
    {
     "name": "stderr",
     "output_type": "stream",
     "text": [
      "1.6627894810267858: 100%|██████████| 196/196 [00:59<00:00,  3.31it/s]\n"
     ]
    },
    {
     "name": "stdout",
     "output_type": "stream",
     "text": [
      "0.4279\n"
     ]
    },
    {
     "name": "stderr",
     "output_type": "stream",
     "text": [
      "1.6014475919762436: 100%|██████████| 196/196 [00:53<00:00,  3.67it/s]\n"
     ]
    },
    {
     "name": "stdout",
     "output_type": "stream",
     "text": [
      "0.4509\n"
     ]
    },
    {
     "name": "stderr",
     "output_type": "stream",
     "text": [
      "1.5560592339963328: 100%|██████████| 196/196 [00:53<00:00,  3.64it/s]\n"
     ]
    },
    {
     "name": "stdout",
     "output_type": "stream",
     "text": [
      "0.4612\n"
     ]
    },
    {
     "name": "stderr",
     "output_type": "stream",
     "text": [
      "1.5175650460379464: 100%|██████████| 196/196 [00:57<00:00,  3.42it/s]\n"
     ]
    },
    {
     "name": "stdout",
     "output_type": "stream",
     "text": [
      "0.4719\n"
     ]
    },
    {
     "name": "stderr",
     "output_type": "stream",
     "text": [
      "1.4825475264568717: 100%|██████████| 196/196 [00:53<00:00,  3.66it/s]\n"
     ]
    },
    {
     "name": "stdout",
     "output_type": "stream",
     "text": [
      "0.4912\n"
     ]
    },
    {
     "name": "stderr",
     "output_type": "stream",
     "text": [
      "1.4564883173728476: 100%|██████████| 196/196 [00:59<00:00,  3.31it/s]\n"
     ]
    },
    {
     "name": "stdout",
     "output_type": "stream",
     "text": [
      "0.4917\n"
     ]
    },
    {
     "name": "stderr",
     "output_type": "stream",
     "text": [
      "1.471268011599171: 100%|██████████| 196/196 [00:53<00:00,  3.64it/s]\n"
     ]
    },
    {
     "name": "stdout",
     "output_type": "stream",
     "text": [
      "0.4992\n"
     ]
    },
    {
     "name": "stderr",
     "output_type": "stream",
     "text": [
      "1.41217041015625: 100%|██████████| 196/196 [00:55<00:00,  3.51it/s]\n"
     ]
    },
    {
     "name": "stdout",
     "output_type": "stream",
     "text": [
      "0.5073\n"
     ]
    },
    {
     "name": "stderr",
     "output_type": "stream",
     "text": [
      "1.38015451236647: 100%|██████████| 196/196 [00:54<00:00,  3.59it/s]\n"
     ]
    },
    {
     "name": "stdout",
     "output_type": "stream",
     "text": [
      "0.5224\n"
     ]
    },
    {
     "name": "stderr",
     "output_type": "stream",
     "text": [
      "1.4632423556580836: 100%|██████████| 196/196 [00:53<00:00,  3.68it/s]\n"
     ]
    },
    {
     "name": "stdout",
     "output_type": "stream",
     "text": [
      "0.3625\n"
     ]
    },
    {
     "name": "stderr",
     "output_type": "stream",
     "text": [
      "1.4964680574378189: 100%|██████████| 196/196 [00:59<00:00,  3.30it/s]\n"
     ]
    },
    {
     "name": "stdout",
     "output_type": "stream",
     "text": [
      "0.5083\n"
     ]
    },
    {
     "name": "stderr",
     "output_type": "stream",
     "text": [
      "1.3752111318160076: 100%|██████████| 196/196 [00:53<00:00,  3.67it/s]\n"
     ]
    },
    {
     "name": "stdout",
     "output_type": "stream",
     "text": [
      "0.5184\n"
     ]
    },
    {
     "name": "stderr",
     "output_type": "stream",
     "text": [
      "1.3405942332987884: 100%|██████████| 196/196 [00:58<00:00,  3.35it/s]\n"
     ]
    },
    {
     "name": "stdout",
     "output_type": "stream",
     "text": [
      "0.5349\n"
     ]
    },
    {
     "name": "stderr",
     "output_type": "stream",
     "text": [
      "1.3161085479113521: 100%|██████████| 196/196 [00:53<00:00,  3.66it/s]\n"
     ]
    },
    {
     "name": "stdout",
     "output_type": "stream",
     "text": [
      "0.5348\n"
     ]
    },
    {
     "name": "stderr",
     "output_type": "stream",
     "text": [
      "1.2990855002889827: 100%|██████████| 196/196 [00:53<00:00,  3.69it/s]\n"
     ]
    },
    {
     "name": "stdout",
     "output_type": "stream",
     "text": [
      "0.5407\n"
     ]
    },
    {
     "name": "stderr",
     "output_type": "stream",
     "text": [
      "1.2833913686324139: 100%|██████████| 196/196 [00:53<00:00,  3.68it/s]\n"
     ]
    },
    {
     "name": "stdout",
     "output_type": "stream",
     "text": [
      "0.5481\n"
     ]
    },
    {
     "name": "stderr",
     "output_type": "stream",
     "text": [
      "1.2654675074986048: 100%|██████████| 196/196 [00:53<00:00,  3.68it/s]\n"
     ]
    },
    {
     "name": "stdout",
     "output_type": "stream",
     "text": [
      "0.5539\n"
     ]
    },
    {
     "name": "stderr",
     "output_type": "stream",
     "text": [
      "1.2574457441057478: 100%|██████████| 196/196 [00:59<00:00,  3.31it/s]\n"
     ]
    },
    {
     "name": "stdout",
     "output_type": "stream",
     "text": [
      "0.5598\n"
     ]
    },
    {
     "name": "stderr",
     "output_type": "stream",
     "text": [
      "1.2377529533541933: 100%|██████████| 196/196 [00:53<00:00,  3.69it/s]\n"
     ]
    },
    {
     "name": "stdout",
     "output_type": "stream",
     "text": [
      "0.5583\n"
     ]
    },
    {
     "name": "stderr",
     "output_type": "stream",
     "text": [
      "1.2310308339644451: 100%|██████████| 196/196 [00:53<00:00,  3.66it/s]\n"
     ]
    },
    {
     "name": "stdout",
     "output_type": "stream",
     "text": [
      "0.5594\n"
     ]
    },
    {
     "name": "stderr",
     "output_type": "stream",
     "text": [
      "1.2116641609036192: 100%|██████████| 196/196 [00:53<00:00,  3.69it/s]\n"
     ]
    },
    {
     "name": "stdout",
     "output_type": "stream",
     "text": [
      "0.5694\n"
     ]
    },
    {
     "name": "stderr",
     "output_type": "stream",
     "text": [
      "1.1977441748794244: 100%|██████████| 196/196 [00:58<00:00,  3.36it/s]\n"
     ]
    },
    {
     "name": "stdout",
     "output_type": "stream",
     "text": [
      "0.5713\n"
     ]
    },
    {
     "name": "stderr",
     "output_type": "stream",
     "text": [
      "1.1884261150749362: 100%|██████████| 196/196 [00:53<00:00,  3.65it/s]\n"
     ]
    },
    {
     "name": "stdout",
     "output_type": "stream",
     "text": [
      "0.5695\n"
     ]
    },
    {
     "name": "stderr",
     "output_type": "stream",
     "text": [
      "1.1728805230588328: 100%|██████████| 196/196 [00:52<00:00,  3.71it/s]\n"
     ]
    },
    {
     "name": "stdout",
     "output_type": "stream",
     "text": [
      "0.571\n"
     ]
    },
    {
     "name": "stderr",
     "output_type": "stream",
     "text": [
      "1.1615144379284916: 100%|██████████| 196/196 [00:53<00:00,  3.69it/s]\n"
     ]
    },
    {
     "name": "stdout",
     "output_type": "stream",
     "text": [
      "0.5759\n"
     ]
    },
    {
     "name": "stderr",
     "output_type": "stream",
     "text": [
      "1.1456892830984933: 100%|██████████| 196/196 [00:53<00:00,  3.67it/s]\n"
     ]
    },
    {
     "name": "stdout",
     "output_type": "stream",
     "text": [
      "0.5816\n"
     ]
    },
    {
     "name": "stderr",
     "output_type": "stream",
     "text": [
      "1.1351788579201212: 100%|██████████| 196/196 [00:59<00:00,  3.27it/s]\n"
     ]
    },
    {
     "name": "stdout",
     "output_type": "stream",
     "text": [
      "0.5811\n"
     ]
    },
    {
     "name": "stderr",
     "output_type": "stream",
     "text": [
      "1.1197550248126595: 100%|██████████| 196/196 [00:54<00:00,  3.63it/s]\n"
     ]
    },
    {
     "name": "stdout",
     "output_type": "stream",
     "text": [
      "0.5871\n"
     ]
    },
    {
     "name": "stderr",
     "output_type": "stream",
     "text": [
      "1.113510053984973: 100%|██████████| 196/196 [00:53<00:00,  3.69it/s]\n"
     ]
    },
    {
     "name": "stdout",
     "output_type": "stream",
     "text": [
      "0.5921\n"
     ]
    },
    {
     "name": "stderr",
     "output_type": "stream",
     "text": [
      "1.1014844154825016: 100%|██████████| 196/196 [00:53<00:00,  3.70it/s]\n"
     ]
    },
    {
     "name": "stdout",
     "output_type": "stream",
     "text": [
      "0.5941\n"
     ]
    },
    {
     "name": "stderr",
     "output_type": "stream",
     "text": [
      "1.0846366882324219: 100%|██████████| 196/196 [00:57<00:00,  3.44it/s]\n"
     ]
    },
    {
     "name": "stdout",
     "output_type": "stream",
     "text": [
      "0.5935\n"
     ]
    },
    {
     "name": "stderr",
     "output_type": "stream",
     "text": [
      "1.079356913663903: 100%|██████████| 196/196 [00:55<00:00,  3.55it/s]\n"
     ]
    },
    {
     "name": "stdout",
     "output_type": "stream",
     "text": [
      "0.6018\n"
     ]
    },
    {
     "name": "stderr",
     "output_type": "stream",
     "text": [
      "1.0619818239795917: 100%|██████████| 196/196 [00:53<00:00,  3.68it/s]\n"
     ]
    },
    {
     "name": "stdout",
     "output_type": "stream",
     "text": [
      "0.6049\n"
     ]
    },
    {
     "name": "stderr",
     "output_type": "stream",
     "text": [
      "1.0499026240134726: 100%|██████████| 196/196 [00:53<00:00,  3.69it/s]\n"
     ]
    },
    {
     "name": "stdout",
     "output_type": "stream",
     "text": [
      "0.6062\n"
     ]
    },
    {
     "name": "stderr",
     "output_type": "stream",
     "text": [
      "1.0357476059271364: 100%|██████████| 196/196 [00:53<00:00,  3.69it/s]\n"
     ]
    },
    {
     "name": "stdout",
     "output_type": "stream",
     "text": [
      "0.614\n"
     ]
    },
    {
     "name": "stderr",
     "output_type": "stream",
     "text": [
      "1.0266541461555325: 100%|██████████| 196/196 [01:00<00:00,  3.22it/s]\n"
     ]
    },
    {
     "name": "stdout",
     "output_type": "stream",
     "text": [
      "0.615\n"
     ]
    },
    {
     "name": "stderr",
     "output_type": "stream",
     "text": [
      "1.0115825886629066: 100%|██████████| 196/196 [00:53<00:00,  3.69it/s]\n"
     ]
    },
    {
     "name": "stdout",
     "output_type": "stream",
     "text": [
      "0.6164\n"
     ]
    },
    {
     "name": "stderr",
     "output_type": "stream",
     "text": [
      "1.004294337058554: 100%|██████████| 196/196 [00:53<00:00,  3.64it/s]\n"
     ]
    },
    {
     "name": "stdout",
     "output_type": "stream",
     "text": [
      "0.6154\n"
     ]
    },
    {
     "name": "stderr",
     "output_type": "stream",
     "text": [
      "0.9922895626145967: 100%|██████████| 196/196 [00:53<00:00,  3.65it/s]\n"
     ]
    },
    {
     "name": "stdout",
     "output_type": "stream",
     "text": [
      "0.6142\n"
     ]
    },
    {
     "name": "stderr",
     "output_type": "stream",
     "text": [
      "0.9769152427206234: 100%|██████████| 196/196 [00:56<00:00,  3.45it/s]\n"
     ]
    },
    {
     "name": "stdout",
     "output_type": "stream",
     "text": [
      "0.6247\n"
     ]
    },
    {
     "name": "stderr",
     "output_type": "stream",
     "text": [
      "0.9688707468461017: 100%|██████████| 196/196 [00:56<00:00,  3.46it/s]\n"
     ]
    },
    {
     "name": "stdout",
     "output_type": "stream",
     "text": [
      "0.6219\n"
     ]
    },
    {
     "name": "stderr",
     "output_type": "stream",
     "text": [
      "0.9589920043945312: 100%|██████████| 196/196 [00:53<00:00,  3.66it/s]\n"
     ]
    },
    {
     "name": "stdout",
     "output_type": "stream",
     "text": [
      "0.6208\n"
     ]
    },
    {
     "name": "stderr",
     "output_type": "stream",
     "text": [
      "0.9387135408362564: 100%|██████████| 196/196 [00:53<00:00,  3.66it/s]\n"
     ]
    },
    {
     "name": "stdout",
     "output_type": "stream",
     "text": [
      "0.6294\n"
     ]
    },
    {
     "name": "stderr",
     "output_type": "stream",
     "text": [
      "0.930398668561663: 100%|██████████| 196/196 [00:53<00:00,  3.67it/s]\n"
     ]
    },
    {
     "name": "stdout",
     "output_type": "stream",
     "text": [
      "0.6285\n"
     ]
    },
    {
     "name": "stderr",
     "output_type": "stream",
     "text": [
      "0.9162919180733817: 100%|██████████| 196/196 [01:00<00:00,  3.25it/s]\n"
     ]
    },
    {
     "name": "stdout",
     "output_type": "stream",
     "text": [
      "0.6379\n"
     ]
    },
    {
     "name": "stderr",
     "output_type": "stream",
     "text": [
      "0.9048623065559231: 100%|██████████| 196/196 [00:53<00:00,  3.66it/s]\n"
     ]
    },
    {
     "name": "stdout",
     "output_type": "stream",
     "text": [
      "0.6314\n"
     ]
    },
    {
     "name": "stderr",
     "output_type": "stream",
     "text": [
      "0.8928671077806123: 100%|██████████| 196/196 [00:53<00:00,  3.68it/s]\n"
     ]
    },
    {
     "name": "stdout",
     "output_type": "stream",
     "text": [
      "0.6368\n"
     ]
    },
    {
     "name": "stderr",
     "output_type": "stream",
     "text": [
      "0.8851156429368623: 100%|██████████| 196/196 [00:53<00:00,  3.69it/s]\n"
     ]
    },
    {
     "name": "stdout",
     "output_type": "stream",
     "text": [
      "0.6356\n"
     ]
    },
    {
     "name": "stderr",
     "output_type": "stream",
     "text": [
      "0.8711065954091598: 100%|██████████| 196/196 [00:53<00:00,  3.63it/s]\n"
     ]
    },
    {
     "name": "stdout",
     "output_type": "stream",
     "text": [
      "0.6378\n"
     ]
    },
    {
     "name": "stderr",
     "output_type": "stream",
     "text": [
      "0.8635865036322146: 100%|██████████| 196/196 [00:57<00:00,  3.38it/s]\n"
     ]
    },
    {
     "name": "stdout",
     "output_type": "stream",
     "text": [
      "0.6412\n"
     ]
    },
    {
     "name": "stderr",
     "output_type": "stream",
     "text": [
      "0.8477584683165258: 100%|██████████| 196/196 [00:53<00:00,  3.67it/s]\n"
     ]
    },
    {
     "name": "stdout",
     "output_type": "stream",
     "text": [
      "0.6341\n"
     ]
    },
    {
     "name": "stderr",
     "output_type": "stream",
     "text": [
      "0.8367649000518176: 100%|██████████| 196/196 [00:53<00:00,  3.66it/s]\n"
     ]
    },
    {
     "name": "stdout",
     "output_type": "stream",
     "text": [
      "0.6429\n"
     ]
    },
    {
     "name": "stderr",
     "output_type": "stream",
     "text": [
      "0.8274740102339764: 100%|██████████| 196/196 [00:53<00:00,  3.63it/s]\n"
     ]
    },
    {
     "name": "stdout",
     "output_type": "stream",
     "text": [
      "0.6371\n"
     ]
    },
    {
     "name": "stderr",
     "output_type": "stream",
     "text": [
      "0.817187095174984: 100%|██████████| 196/196 [01:00<00:00,  3.24it/s]\n"
     ]
    },
    {
     "name": "stdout",
     "output_type": "stream",
     "text": [
      "0.6451\n"
     ]
    },
    {
     "name": "stderr",
     "output_type": "stream",
     "text": [
      "0.8036970021773358: 100%|██████████| 196/196 [00:53<00:00,  3.67it/s]\n"
     ]
    },
    {
     "name": "stdout",
     "output_type": "stream",
     "text": [
      "0.6434\n"
     ]
    },
    {
     "name": "stderr",
     "output_type": "stream",
     "text": [
      "0.7918306467484455: 100%|██████████| 196/196 [00:53<00:00,  3.69it/s]\n"
     ]
    },
    {
     "name": "stdout",
     "output_type": "stream",
     "text": [
      "0.6363\n"
     ]
    },
    {
     "name": "stderr",
     "output_type": "stream",
     "text": [
      "0.7804656515316087: 100%|██████████| 196/196 [00:53<00:00,  3.67it/s]\n"
     ]
    },
    {
     "name": "stdout",
     "output_type": "stream",
     "text": [
      "0.6478\n"
     ]
    },
    {
     "name": "stderr",
     "output_type": "stream",
     "text": [
      "0.769246938277264: 100%|██████████| 196/196 [00:53<00:00,  3.67it/s]\n"
     ]
    },
    {
     "name": "stdout",
     "output_type": "stream",
     "text": [
      "0.6472\n"
     ]
    },
    {
     "name": "stderr",
     "output_type": "stream",
     "text": [
      "0.761362192582111: 100%|██████████| 196/196 [01:01<00:00,  3.19it/s]\n"
     ]
    },
    {
     "name": "stdout",
     "output_type": "stream",
     "text": [
      "0.6466\n"
     ]
    },
    {
     "name": "stderr",
     "output_type": "stream",
     "text": [
      "0.7396062734175701: 100%|██████████| 196/196 [00:53<00:00,  3.64it/s]\n"
     ]
    },
    {
     "name": "stdout",
     "output_type": "stream",
     "text": [
      "0.6507\n"
     ]
    },
    {
     "name": "stderr",
     "output_type": "stream",
     "text": [
      "0.7297376515913983: 100%|██████████| 196/196 [00:53<00:00,  3.68it/s]\n"
     ]
    },
    {
     "name": "stdout",
     "output_type": "stream",
     "text": [
      "0.6466\n"
     ]
    },
    {
     "name": "stderr",
     "output_type": "stream",
     "text": [
      "0.7226624002262038: 100%|██████████| 196/196 [00:53<00:00,  3.66it/s]\n"
     ]
    },
    {
     "name": "stdout",
     "output_type": "stream",
     "text": [
      "0.6433\n"
     ]
    },
    {
     "name": "stderr",
     "output_type": "stream",
     "text": [
      "0.7112758402921715: 100%|██████████| 196/196 [00:57<00:00,  3.42it/s]\n"
     ]
    },
    {
     "name": "stdout",
     "output_type": "stream",
     "text": [
      "0.6524\n"
     ]
    },
    {
     "name": "stderr",
     "output_type": "stream",
     "text": [
      "0.7017369173011001: 100%|██████████| 196/196 [00:56<00:00,  3.50it/s]\n"
     ]
    },
    {
     "name": "stdout",
     "output_type": "stream",
     "text": [
      "0.648\n"
     ]
    },
    {
     "name": "stderr",
     "output_type": "stream",
     "text": [
      "0.6856163180604273: 100%|██████████| 196/196 [00:53<00:00,  3.67it/s]\n"
     ]
    },
    {
     "name": "stdout",
     "output_type": "stream",
     "text": [
      "0.6544\n"
     ]
    },
    {
     "name": "stderr",
     "output_type": "stream",
     "text": [
      "0.6785110162228954: 100%|██████████| 196/196 [00:53<00:00,  3.67it/s]\n"
     ]
    },
    {
     "name": "stdout",
     "output_type": "stream",
     "text": [
      "0.6523\n"
     ]
    },
    {
     "name": "stderr",
     "output_type": "stream",
     "text": [
      "0.6621410603425941: 100%|██████████| 196/196 [00:53<00:00,  3.65it/s]\n"
     ]
    },
    {
     "name": "stdout",
     "output_type": "stream",
     "text": [
      "0.6495\n"
     ]
    },
    {
     "name": "stderr",
     "output_type": "stream",
     "text": [
      "0.6483715213074976: 100%|██████████| 196/196 [01:01<00:00,  3.17it/s]\n"
     ]
    },
    {
     "name": "stdout",
     "output_type": "stream",
     "text": [
      "0.6565\n"
     ]
    },
    {
     "name": "stderr",
     "output_type": "stream",
     "text": [
      "0.6401419736901108: 100%|██████████| 196/196 [00:53<00:00,  3.67it/s]\n"
     ]
    },
    {
     "name": "stdout",
     "output_type": "stream",
     "text": [
      "0.655\n"
     ]
    },
    {
     "name": "stderr",
     "output_type": "stream",
     "text": [
      "0.6317744352379624: 100%|██████████| 196/196 [00:53<00:00,  3.69it/s]\n"
     ]
    },
    {
     "name": "stdout",
     "output_type": "stream",
     "text": [
      "0.6523\n"
     ]
    },
    {
     "name": "stderr",
     "output_type": "stream",
     "text": [
      "0.6175013950892857: 100%|██████████| 196/196 [00:53<00:00,  3.67it/s]\n"
     ]
    },
    {
     "name": "stdout",
     "output_type": "stream",
     "text": [
      "0.6518\n"
     ]
    },
    {
     "name": "stderr",
     "output_type": "stream",
     "text": [
      "0.6087205069405692: 100%|██████████| 196/196 [00:54<00:00,  3.60it/s]\n"
     ]
    },
    {
     "name": "stdout",
     "output_type": "stream",
     "text": [
      "0.6533\n"
     ]
    },
    {
     "name": "stderr",
     "output_type": "stream",
     "text": [
      "0.6022192118119221: 100%|██████████| 196/196 [00:59<00:00,  3.28it/s]\n"
     ]
    },
    {
     "name": "stdout",
     "output_type": "stream",
     "text": [
      "0.662\n"
     ]
    },
    {
     "name": "stderr",
     "output_type": "stream",
     "text": [
      "0.5864214215959821: 100%|██████████| 196/196 [00:53<00:00,  3.67it/s]\n"
     ]
    },
    {
     "name": "stdout",
     "output_type": "stream",
     "text": [
      "0.6559\n"
     ]
    },
    {
     "name": "stderr",
     "output_type": "stream",
     "text": [
      "0.5707397850192323: 100%|██████████| 196/196 [00:53<00:00,  3.66it/s]\n"
     ]
    },
    {
     "name": "stdout",
     "output_type": "stream",
     "text": [
      "0.6548\n"
     ]
    },
    {
     "name": "stderr",
     "output_type": "stream",
     "text": [
      "0.5656298423299984: 100%|██████████| 196/196 [00:53<00:00,  3.67it/s]\n"
     ]
    },
    {
     "name": "stdout",
     "output_type": "stream",
     "text": [
      "0.656\n"
     ]
    },
    {
     "name": "stderr",
     "output_type": "stream",
     "text": [
      "0.548814228602818: 100%|██████████| 196/196 [01:00<00:00,  3.25it/s]\n"
     ]
    },
    {
     "name": "stdout",
     "output_type": "stream",
     "text": [
      "0.6639\n"
     ]
    },
    {
     "name": "stderr",
     "output_type": "stream",
     "text": [
      "0.5349274849405095: 100%|██████████| 196/196 [00:54<00:00,  3.62it/s]\n"
     ]
    },
    {
     "name": "stdout",
     "output_type": "stream",
     "text": [
      "0.6567\n"
     ]
    },
    {
     "name": "stderr",
     "output_type": "stream",
     "text": [
      "0.5257758315728636: 100%|██████████| 196/196 [00:53<00:00,  3.68it/s]\n"
     ]
    },
    {
     "name": "stdout",
     "output_type": "stream",
     "text": [
      "0.6588\n"
     ]
    },
    {
     "name": "stderr",
     "output_type": "stream",
     "text": [
      "0.5235079940484495: 100%|██████████| 196/196 [00:53<00:00,  3.65it/s]\n"
     ]
    },
    {
     "name": "stdout",
     "output_type": "stream",
     "text": [
      "0.655\n"
     ]
    },
    {
     "name": "stderr",
     "output_type": "stream",
     "text": [
      "0.5125412065155652: 100%|██████████| 196/196 [00:52<00:00,  3.70it/s]\n"
     ]
    },
    {
     "name": "stdout",
     "output_type": "stream",
     "text": [
      "0.6547\n"
     ]
    },
    {
     "name": "stderr",
     "output_type": "stream",
     "text": [
      "0.498195726044324: 100%|██████████| 196/196 [01:01<00:00,  3.16it/s]\n"
     ]
    },
    {
     "name": "stdout",
     "output_type": "stream",
     "text": [
      "0.6561\n"
     ]
    },
    {
     "name": "stderr",
     "output_type": "stream",
     "text": [
      "0.4888522478998924: 100%|██████████| 196/196 [00:53<00:00,  3.65it/s]\n"
     ]
    },
    {
     "name": "stdout",
     "output_type": "stream",
     "text": [
      "0.657\n"
     ]
    },
    {
     "name": "stderr",
     "output_type": "stream",
     "text": [
      "0.4750964106345663: 100%|██████████| 196/196 [00:53<00:00,  3.68it/s]\n"
     ]
    },
    {
     "name": "stdout",
     "output_type": "stream",
     "text": [
      "0.6615\n"
     ]
    },
    {
     "name": "stderr",
     "output_type": "stream",
     "text": [
      "0.46562124758350604: 100%|██████████| 196/196 [00:53<00:00,  3.69it/s]\n"
     ]
    },
    {
     "name": "stdout",
     "output_type": "stream",
     "text": [
      "0.6602\n"
     ]
    },
    {
     "name": "stderr",
     "output_type": "stream",
     "text": [
      "0.4572939191545759: 100%|██████████| 196/196 [00:53<00:00,  3.64it/s]\n"
     ]
    },
    {
     "name": "stdout",
     "output_type": "stream",
     "text": [
      "0.6595\n"
     ]
    },
    {
     "name": "stderr",
     "output_type": "stream",
     "text": [
      "0.4460971598722497: 100%|██████████| 196/196 [01:00<00:00,  3.26it/s]\n"
     ]
    },
    {
     "name": "stdout",
     "output_type": "stream",
     "text": [
      "0.6628\n"
     ]
    },
    {
     "name": "stderr",
     "output_type": "stream",
     "text": [
      "0.4356608877376634: 100%|██████████| 196/196 [00:53<00:00,  3.69it/s]\n"
     ]
    },
    {
     "name": "stdout",
     "output_type": "stream",
     "text": [
      "0.6613\n"
     ]
    },
    {
     "name": "stderr",
     "output_type": "stream",
     "text": [
      "0.42558557160046634: 100%|██████████| 196/196 [00:53<00:00,  3.68it/s]\n"
     ]
    },
    {
     "name": "stdout",
     "output_type": "stream",
     "text": [
      "0.6632\n"
     ]
    },
    {
     "name": "stderr",
     "output_type": "stream",
     "text": [
      "0.42166199976084184: 100%|██████████| 196/196 [00:53<00:00,  3.68it/s]\n"
     ]
    },
    {
     "name": "stdout",
     "output_type": "stream",
     "text": [
      "0.6687\n"
     ]
    },
    {
     "name": "stderr",
     "output_type": "stream",
     "text": [
      "0.41148259688396843: 100%|██████████| 196/196 [00:59<00:00,  3.30it/s]\n"
     ]
    },
    {
     "name": "stdout",
     "output_type": "stream",
     "text": [
      "0.6628\n"
     ]
    },
    {
     "name": "stderr",
     "output_type": "stream",
     "text": [
      "0.40017626236896126: 100%|██████████| 196/196 [00:55<00:00,  3.56it/s]\n"
     ]
    },
    {
     "name": "stdout",
     "output_type": "stream",
     "text": [
      "0.6582\n"
     ]
    },
    {
     "name": "stderr",
     "output_type": "stream",
     "text": [
      "0.3925549643380301: 100%|██████████| 196/196 [00:53<00:00,  3.66it/s]\n"
     ]
    },
    {
     "name": "stdout",
     "output_type": "stream",
     "text": [
      "0.6574\n"
     ]
    },
    {
     "name": "stderr",
     "output_type": "stream",
     "text": [
      "0.38378649341816806: 100%|██████████| 196/196 [00:53<00:00,  3.67it/s]\n"
     ]
    },
    {
     "name": "stdout",
     "output_type": "stream",
     "text": [
      "0.6559\n"
     ]
    },
    {
     "name": "stderr",
     "output_type": "stream",
     "text": [
      "0.3726787567138672: 100%|██████████| 196/196 [00:53<00:00,  3.69it/s]\n"
     ]
    },
    {
     "name": "stdout",
     "output_type": "stream",
     "text": [
      "0.657\n"
     ]
    },
    {
     "name": "stderr",
     "output_type": "stream",
     "text": [
      "0.3707793099539621: 100%|██████████| 196/196 [01:02<00:00,  3.14it/s]\n"
     ]
    },
    {
     "name": "stdout",
     "output_type": "stream",
     "text": [
      "0.6647\n"
     ]
    },
    {
     "name": "stderr",
     "output_type": "stream",
     "text": [
      "0.35546653124750877: 100%|██████████| 196/196 [00:53<00:00,  3.67it/s]\n"
     ]
    },
    {
     "name": "stdout",
     "output_type": "stream",
     "text": [
      "0.666\n"
     ]
    },
    {
     "name": "stderr",
     "output_type": "stream",
     "text": [
      "0.35245377676827566: 100%|██████████| 196/196 [00:53<00:00,  3.69it/s]\n"
     ]
    },
    {
     "name": "stdout",
     "output_type": "stream",
     "text": [
      "0.6613\n"
     ]
    },
    {
     "name": "stderr",
     "output_type": "stream",
     "text": [
      "0.34863647149533644: 100%|██████████| 196/196 [00:53<00:00,  3.67it/s]\n"
     ]
    },
    {
     "name": "stdout",
     "output_type": "stream",
     "text": [
      "0.6666\n"
     ]
    },
    {
     "name": "stderr",
     "output_type": "stream",
     "text": [
      "0.3333994807029257: 100%|██████████| 196/196 [00:52<00:00,  3.72it/s]\n"
     ]
    },
    {
     "name": "stdout",
     "output_type": "stream",
     "text": [
      "0.6596\n"
     ]
    },
    {
     "name": "stderr",
     "output_type": "stream",
     "text": [
      "0.3264984403337751: 100%|██████████| 196/196 [01:02<00:00,  3.15it/s]\n"
     ]
    },
    {
     "name": "stdout",
     "output_type": "stream",
     "text": [
      "0.6617\n"
     ]
    },
    {
     "name": "stderr",
     "output_type": "stream",
     "text": [
      "0.3259636431324239: 100%|██████████| 196/196 [00:52<00:00,  3.73it/s]\n"
     ]
    },
    {
     "name": "stdout",
     "output_type": "stream",
     "text": [
      "0.6597\n"
     ]
    },
    {
     "name": "stderr",
     "output_type": "stream",
     "text": [
      "0.3127075312088947: 100%|██████████| 196/196 [00:53<00:00,  3.68it/s]\n"
     ]
    },
    {
     "name": "stdout",
     "output_type": "stream",
     "text": [
      "0.6636\n"
     ]
    },
    {
     "name": "stderr",
     "output_type": "stream",
     "text": [
      "0.31277212804677534: 100%|██████████| 196/196 [00:53<00:00,  3.69it/s]\n"
     ]
    },
    {
     "name": "stdout",
     "output_type": "stream",
     "text": [
      "0.6635\n"
     ]
    },
    {
     "name": "stderr",
     "output_type": "stream",
     "text": [
      "0.29936718454166333: 100%|██████████| 196/196 [00:56<00:00,  3.49it/s]\n"
     ]
    },
    {
     "name": "stdout",
     "output_type": "stream",
     "text": [
      "0.6601\n"
     ]
    },
    {
     "name": "stderr",
     "output_type": "stream",
     "text": [
      "0.29883676645707113: 100%|██████████| 196/196 [00:59<00:00,  3.32it/s]\n"
     ]
    },
    {
     "name": "stdout",
     "output_type": "stream",
     "text": [
      "0.6622\n"
     ]
    },
    {
     "name": "stderr",
     "output_type": "stream",
     "text": [
      "0.287653670019033: 100%|██████████| 196/196 [00:53<00:00,  3.67it/s]\n"
     ]
    },
    {
     "name": "stdout",
     "output_type": "stream",
     "text": [
      "0.6645\n"
     ]
    },
    {
     "name": "stderr",
     "output_type": "stream",
     "text": [
      "0.2783580312923509: 100%|██████████| 196/196 [00:53<00:00,  3.66it/s]\n"
     ]
    },
    {
     "name": "stdout",
     "output_type": "stream",
     "text": [
      "0.6524\n"
     ]
    },
    {
     "name": "stderr",
     "output_type": "stream",
     "text": [
      "0.2749938186334104: 100%|██████████| 196/196 [00:53<00:00,  3.69it/s]\n"
     ]
    },
    {
     "name": "stdout",
     "output_type": "stream",
     "text": [
      "0.6589\n"
     ]
    },
    {
     "name": "stderr",
     "output_type": "stream",
     "text": [
      "0.2711173271646305: 100%|██████████| 196/196 [00:59<00:00,  3.28it/s]\n"
     ]
    },
    {
     "name": "stdout",
     "output_type": "stream",
     "text": [
      "0.6579\n"
     ]
    },
    {
     "name": "stderr",
     "output_type": "stream",
     "text": [
      "0.26515160774698066: 100%|██████████| 196/196 [00:54<00:00,  3.60it/s]\n"
     ]
    },
    {
     "name": "stdout",
     "output_type": "stream",
     "text": [
      "0.6581\n"
     ]
    },
    {
     "name": "stderr",
     "output_type": "stream",
     "text": [
      "0.25869931980055205: 100%|██████████| 196/196 [00:53<00:00,  3.66it/s]\n"
     ]
    },
    {
     "name": "stdout",
     "output_type": "stream",
     "text": [
      "0.6571\n"
     ]
    },
    {
     "name": "stderr",
     "output_type": "stream",
     "text": [
      "0.2577021267949318: 100%|██████████| 196/196 [00:53<00:00,  3.66it/s]\n"
     ]
    },
    {
     "name": "stdout",
     "output_type": "stream",
     "text": [
      "0.6599\n"
     ]
    },
    {
     "name": "stderr",
     "output_type": "stream",
     "text": [
      "0.2549389430454799: 100%|██████████| 196/196 [00:53<00:00,  3.67it/s]\n"
     ]
    },
    {
     "name": "stdout",
     "output_type": "stream",
     "text": [
      "0.6596\n"
     ]
    },
    {
     "name": "stderr",
     "output_type": "stream",
     "text": [
      "0.24478803362165177: 100%|██████████| 196/196 [01:03<00:00,  3.08it/s]\n"
     ]
    },
    {
     "name": "stdout",
     "output_type": "stream",
     "text": [
      "0.663\n"
     ]
    },
    {
     "name": "stderr",
     "output_type": "stream",
     "text": [
      "0.2385746702855947: 100%|██████████| 196/196 [00:53<00:00,  3.66it/s]\n"
     ]
    },
    {
     "name": "stdout",
     "output_type": "stream",
     "text": [
      "0.6554\n"
     ]
    },
    {
     "name": "stderr",
     "output_type": "stream",
     "text": [
      "0.23892042588214485: 100%|██████████| 196/196 [00:53<00:00,  3.68it/s]\n"
     ]
    },
    {
     "name": "stdout",
     "output_type": "stream",
     "text": [
      "0.6676\n"
     ]
    },
    {
     "name": "stderr",
     "output_type": "stream",
     "text": [
      "0.2343860353742327: 100%|██████████| 196/196 [00:53<00:00,  3.68it/s]\n"
     ]
    },
    {
     "name": "stdout",
     "output_type": "stream",
     "text": [
      "0.6615\n"
     ]
    },
    {
     "name": "stderr",
     "output_type": "stream",
     "text": [
      "0.23275206040362922: 100%|██████████| 196/196 [00:53<00:00,  3.65it/s]\n"
     ]
    },
    {
     "name": "stdout",
     "output_type": "stream",
     "text": [
      "0.6557\n"
     ]
    },
    {
     "name": "stderr",
     "output_type": "stream",
     "text": [
      "0.22339470532475686: 100%|██████████| 196/196 [01:03<00:00,  3.08it/s]\n"
     ]
    },
    {
     "name": "stdout",
     "output_type": "stream",
     "text": [
      "0.6649\n"
     ]
    },
    {
     "name": "stderr",
     "output_type": "stream",
     "text": [
      "0.2152726309640067: 100%|██████████| 196/196 [00:53<00:00,  3.66it/s]\n"
     ]
    },
    {
     "name": "stdout",
     "output_type": "stream",
     "text": [
      "0.6611\n"
     ]
    },
    {
     "name": "stderr",
     "output_type": "stream",
     "text": [
      "0.21707040436413824: 100%|██████████| 196/196 [00:53<00:00,  3.65it/s]\n"
     ]
    },
    {
     "name": "stdout",
     "output_type": "stream",
     "text": [
      "0.6595\n"
     ]
    },
    {
     "name": "stderr",
     "output_type": "stream",
     "text": [
      "0.21144296685043645: 100%|██████████| 196/196 [00:53<00:00,  3.68it/s]\n"
     ]
    },
    {
     "name": "stdout",
     "output_type": "stream",
     "text": [
      "0.6604\n"
     ]
    },
    {
     "name": "stderr",
     "output_type": "stream",
     "text": [
      "0.21103524188606107: 100%|██████████| 196/196 [00:55<00:00,  3.54it/s]\n"
     ]
    },
    {
     "name": "stdout",
     "output_type": "stream",
     "text": [
      "0.6595\n"
     ]
    },
    {
     "name": "stderr",
     "output_type": "stream",
     "text": [
      "0.19810567583356584: 100%|██████████| 196/196 [00:59<00:00,  3.31it/s]\n"
     ]
    },
    {
     "name": "stdout",
     "output_type": "stream",
     "text": [
      "0.658\n"
     ]
    },
    {
     "name": "stderr",
     "output_type": "stream",
     "text": [
      "0.19845365018260722: 100%|██████████| 196/196 [00:53<00:00,  3.67it/s]\n"
     ]
    },
    {
     "name": "stdout",
     "output_type": "stream",
     "text": [
      "0.6675\n"
     ]
    },
    {
     "name": "stderr",
     "output_type": "stream",
     "text": [
      "0.19477122170584543: 100%|██████████| 196/196 [00:53<00:00,  3.66it/s]\n"
     ]
    },
    {
     "name": "stdout",
     "output_type": "stream",
     "text": [
      "0.6592\n"
     ]
    },
    {
     "name": "stderr",
     "output_type": "stream",
     "text": [
      "0.19603254357162786: 100%|██████████| 196/196 [00:53<00:00,  3.68it/s]\n"
     ]
    },
    {
     "name": "stdout",
     "output_type": "stream",
     "text": [
      "0.6664\n"
     ]
    },
    {
     "name": "stderr",
     "output_type": "stream",
     "text": [
      "0.19140064473054846: 100%|██████████| 196/196 [00:58<00:00,  3.34it/s]\n"
     ]
    },
    {
     "name": "stdout",
     "output_type": "stream",
     "text": [
      "0.6568\n"
     ]
    },
    {
     "name": "stderr",
     "output_type": "stream",
     "text": [
      "0.18639583976901308: 100%|██████████| 196/196 [00:56<00:00,  3.47it/s]\n"
     ]
    },
    {
     "name": "stdout",
     "output_type": "stream",
     "text": [
      "0.6594\n"
     ]
    },
    {
     "name": "stderr",
     "output_type": "stream",
     "text": [
      "0.1829049052024374: 100%|██████████| 196/196 [00:53<00:00,  3.69it/s]\n"
     ]
    },
    {
     "name": "stdout",
     "output_type": "stream",
     "text": [
      "0.6619\n"
     ]
    },
    {
     "name": "stderr",
     "output_type": "stream",
     "text": [
      "0.1792423287216498: 100%|██████████| 196/196 [00:53<00:00,  3.69it/s]\n"
     ]
    },
    {
     "name": "stdout",
     "output_type": "stream",
     "text": [
      "0.6628\n"
     ]
    },
    {
     "name": "stderr",
     "output_type": "stream",
     "text": [
      "0.18402198869354872: 100%|██████████| 196/196 [00:53<00:00,  3.67it/s]\n"
     ]
    },
    {
     "name": "stdout",
     "output_type": "stream",
     "text": [
      "0.6606\n"
     ]
    },
    {
     "name": "stderr",
     "output_type": "stream",
     "text": [
      "0.179476193019322: 100%|██████████| 196/196 [01:02<00:00,  3.16it/s]\n"
     ]
    },
    {
     "name": "stdout",
     "output_type": "stream",
     "text": [
      "0.6636\n"
     ]
    },
    {
     "name": "stderr",
     "output_type": "stream",
     "text": [
      "0.17498072799371214: 100%|██████████| 196/196 [00:54<00:00,  3.62it/s]\n"
     ]
    },
    {
     "name": "stdout",
     "output_type": "stream",
     "text": [
      "0.6578\n"
     ]
    },
    {
     "name": "stderr",
     "output_type": "stream",
     "text": [
      "0.16773626755694954: 100%|██████████| 196/196 [00:53<00:00,  3.68it/s]\n"
     ]
    },
    {
     "name": "stdout",
     "output_type": "stream",
     "text": [
      "0.6573\n"
     ]
    },
    {
     "name": "stderr",
     "output_type": "stream",
     "text": [
      "0.16724099918287627: 100%|██████████| 196/196 [00:53<00:00,  3.66it/s]\n"
     ]
    },
    {
     "name": "stdout",
     "output_type": "stream",
     "text": [
      "0.6594\n"
     ]
    },
    {
     "name": "stderr",
     "output_type": "stream",
     "text": [
      "0.16543869096405653: 100%|██████████| 196/196 [00:53<00:00,  3.68it/s]\n"
     ]
    },
    {
     "name": "stdout",
     "output_type": "stream",
     "text": [
      "0.6649\n"
     ]
    },
    {
     "name": "stderr",
     "output_type": "stream",
     "text": [
      "0.1684517763098892: 100%|██████████| 196/196 [01:04<00:00,  3.04it/s]\n"
     ]
    },
    {
     "name": "stdout",
     "output_type": "stream",
     "text": [
      "0.6618\n"
     ]
    },
    {
     "name": "stderr",
     "output_type": "stream",
     "text": [
      "0.16260147094726562: 100%|██████████| 196/196 [00:53<00:00,  3.69it/s]\n"
     ]
    },
    {
     "name": "stdout",
     "output_type": "stream",
     "text": [
      "0.6576\n"
     ]
    },
    {
     "name": "stderr",
     "output_type": "stream",
     "text": [
      "0.15784741421135104: 100%|██████████| 196/196 [00:53<00:00,  3.68it/s]\n"
     ]
    },
    {
     "name": "stdout",
     "output_type": "stream",
     "text": [
      "0.6565\n"
     ]
    },
    {
     "name": "stderr",
     "output_type": "stream",
     "text": [
      "0.15578675756649096: 100%|██████████| 196/196 [00:53<00:00,  3.65it/s]\n"
     ]
    },
    {
     "name": "stdout",
     "output_type": "stream",
     "text": [
      "0.6573\n"
     ]
    },
    {
     "name": "stderr",
     "output_type": "stream",
     "text": [
      "0.15535190154095085: 100%|██████████| 196/196 [00:53<00:00,  3.68it/s]\n"
     ]
    },
    {
     "name": "stdout",
     "output_type": "stream",
     "text": [
      "0.6626\n"
     ]
    },
    {
     "name": "stderr",
     "output_type": "stream",
     "text": [
      "0.15279267758739237: 100%|██████████| 196/196 [01:04<00:00,  3.04it/s]\n"
     ]
    },
    {
     "name": "stdout",
     "output_type": "stream",
     "text": [
      "0.6661\n"
     ]
    },
    {
     "name": "stderr",
     "output_type": "stream",
     "text": [
      "0.15442474520936303: 100%|██████████| 196/196 [00:53<00:00,  3.66it/s]\n"
     ]
    },
    {
     "name": "stdout",
     "output_type": "stream",
     "text": [
      "0.6653\n"
     ]
    },
    {
     "name": "stderr",
     "output_type": "stream",
     "text": [
      "0.15472383888400332: 100%|██████████| 196/196 [00:53<00:00,  3.70it/s]\n"
     ]
    },
    {
     "name": "stdout",
     "output_type": "stream",
     "text": [
      "0.6692\n"
     ]
    }
   ],
   "source": [
    "import torch\n",
    "from vit_pytorch import ViT\n",
    "\n",
    "v = ViT(\n",
    "    image_size = 32,\n",
    "    patch_size = 16,\n",
    "    num_classes = 3072,\n",
    "    dim = 768,\n",
    "    depth = 12,\n",
    "    heads = 12,\n",
    "    mlp_dim = 1024,\n",
    "    dropout = 0.1,\n",
    "    emb_dropout = 0.1\n",
    ")\n",
    "\n",
    "#from pytorch_pretrained_vit import ViT\n",
    "#model = ViT('B_16_imagenet1k', pretrained=True)\n",
    "\n",
    "v.train()\n",
    "#v = torch.nn.Sequential(*(list(v.children())[:-1])) # get rid of MLP dim\n",
    "# MLP dim consists of Layernorm and then activationless FC\n",
    "#v = torch.nn.Sequential(*(list(v.children()) + [nn.BatchNorm1d(4)])) #\n",
    "#replace_layers(v, nn.Softmax, make_linear())\n",
    "\n",
    "losslist_r = []\n",
    "\n",
    "#Head = torch.nn.Sequential(*(list([ViT(image_size=32, patch_size=32, num_classes=10, dim=768, depth=1, heads=4, mlp_dim=3072)]))) # might want to increase head size bc the ViT is just interpresting patterns this actually makes decision\n",
    "Head = torch.nn.Sequential(*(list([nn.Flatten(), nn.LayerNorm(3072), nn.Linear(3072, 100)])))\n",
    "\n",
    "b = nn.BatchNorm1d(3072).to(device)\n",
    "v = v.to(device)\n",
    "Head = Head.to(device)\n",
    "\n",
    "boptimizer = torch.optim.Adam(b.parameters(), lr=.0001)\n",
    "voptimizer = torch.optim.Adam(v.parameters(), lr=.0001)\n",
    "hoptimizer = torch.optim.Adam(Head.parameters(), lr=.0001)\n",
    "import random\n",
    "import time\n",
    "\n",
    "timelist_r = []\n",
    "\n",
    "loops = 2 # might need to reward not having vanishing things, right now problem is prob that numbers get smaller and smaller - actually use Batch norm\n",
    "\n",
    "acc = 0\n",
    "total = 0\n",
    "stime = time.time()\n",
    "for epoch in range(150):\n",
    "    t = tqdm.tqdm(train_dataloader, position=0, leave=True)\n",
    "    tloss = 0\n",
    "\n",
    "    for n, (x, y) in enumerate(t):\n",
    "        bs = x.shape[0]\n",
    "        x = x.to(device)\n",
    "        #print(x.shape)\n",
    "        y = y.to(device)\n",
    "        \n",
    "        for i in range(loops):\n",
    "            \n",
    "            x = v(x)\n",
    "            x = nn.ReLU()(b(x))\n",
    "            x = x.reshape(bs, 3, 32, 32)\n",
    "            #print(x[0][0][0])\n",
    "            #print(x.shape)\n",
    "\n",
    "        f_y_hat = Head(x)\n",
    "        \n",
    "        loss = torch.nn.CrossEntropyLoss()((f_y_hat).reshape([bs, 100]), y) # nn.ReLU()\n",
    "        loss.backward()\n",
    "        tloss += loss\n",
    "\n",
    "        hoptimizer.step() \n",
    "        hoptimizer.zero_grad()\n",
    "        voptimizer.step() \n",
    "        voptimizer.zero_grad()\n",
    "        boptimizer.step() \n",
    "        boptimizer.zero_grad()\n",
    "        \n",
    "        t.set_description_str(str(tloss.detach().cpu().numpy()/(n+1))) # 14:.2\n",
    "    l = test(loops)\n",
    "    print(l)\n",
    "    losslist_r.append(l)\n",
    "    timelist_r.append(time.time() - stime)"
   ]
  },
  {
   "cell_type": "code",
   "execution_count": 11,
   "id": "5d90bbc0",
   "metadata": {
    "execution": {
     "iopub.execute_input": "2021-10-22T01:47:49.548456Z",
     "iopub.status.busy": "2021-10-22T01:47:49.547586Z",
     "iopub.status.idle": "2021-10-22T01:47:55.043342Z",
     "shell.execute_reply": "2021-10-22T01:47:55.042856Z",
     "shell.execute_reply.started": "2021-10-21T20:58:44.344914Z"
    },
    "papermill": {
     "duration": 37.089092,
     "end_time": "2021-10-22T01:47:55.043475",
     "exception": false,
     "start_time": "2021-10-22T01:47:17.954383",
     "status": "completed"
    },
    "tags": []
   },
   "outputs": [
    {
     "data": {
      "text/plain": [
       "0.6606"
      ]
     },
     "execution_count": 11,
     "metadata": {},
     "output_type": "execute_result"
    }
   ],
   "source": [
    "test(loops)"
   ]
  },
  {
   "cell_type": "code",
   "execution_count": 12,
   "id": "c4ea4cf2",
   "metadata": {
    "execution": {
     "iopub.execute_input": "2021-10-22T01:48:58.500636Z",
     "iopub.status.busy": "2021-10-22T01:48:58.497605Z",
     "iopub.status.idle": "2021-10-22T01:48:58.506002Z",
     "shell.execute_reply": "2021-10-22T01:48:58.506713Z",
     "shell.execute_reply.started": "2021-10-21T20:58:49.922148Z"
    },
    "papermill": {
     "duration": 31.627493,
     "end_time": "2021-10-22T01:48:58.506957",
     "exception": false,
     "start_time": "2021-10-22T01:48:26.879464",
     "status": "completed"
    },
    "tags": []
   },
   "outputs": [
    {
     "name": "stdout",
     "output_type": "stream",
     "text": [
      "[0.2963, 0.3765, 0.3452, 0.4128, 0.4279, 0.4509, 0.4612, 0.4719, 0.4912, 0.4917, 0.4992, 0.5073, 0.5224, 0.3625, 0.5083, 0.5184, 0.5349, 0.5348, 0.5407, 0.5481, 0.5539, 0.5598, 0.5583, 0.5594, 0.5694, 0.5713, 0.5695, 0.571, 0.5759, 0.5816, 0.5811, 0.5871, 0.5921, 0.5941, 0.5935, 0.6018, 0.6049, 0.6062, 0.614, 0.615, 0.6164, 0.6154, 0.6142, 0.6247, 0.6219, 0.6208, 0.6294, 0.6285, 0.6379, 0.6314, 0.6368, 0.6356, 0.6378, 0.6412, 0.6341, 0.6429, 0.6371, 0.6451, 0.6434, 0.6363, 0.6478, 0.6472, 0.6466, 0.6507, 0.6466, 0.6433, 0.6524, 0.648, 0.6544, 0.6523, 0.6495, 0.6565, 0.655, 0.6523, 0.6518, 0.6533, 0.662, 0.6559, 0.6548, 0.656, 0.6639, 0.6567, 0.6588, 0.655, 0.6547, 0.6561, 0.657, 0.6615, 0.6602, 0.6595, 0.6628, 0.6613, 0.6632, 0.6687, 0.6628, 0.6582, 0.6574, 0.6559, 0.657, 0.6647, 0.666, 0.6613, 0.6666, 0.6596, 0.6617, 0.6597, 0.6636, 0.6635, 0.6601, 0.6622, 0.6645, 0.6524, 0.6589, 0.6579, 0.6581, 0.6571, 0.6599, 0.6596, 0.663, 0.6554, 0.6676, 0.6615, 0.6557, 0.6649, 0.6611, 0.6595, 0.6604, 0.6595, 0.658, 0.6675, 0.6592, 0.6664, 0.6568, 0.6594, 0.6619, 0.6628, 0.6606, 0.6636, 0.6578, 0.6573, 0.6594, 0.6649, 0.6618, 0.6576, 0.6565, 0.6573, 0.6626, 0.6661, 0.6653, 0.6692]\n"
     ]
    }
   ],
   "source": [
    "print(losslist_r)"
   ]
  },
  {
   "cell_type": "code",
   "execution_count": 13,
   "id": "92fdff7f",
   "metadata": {
    "execution": {
     "iopub.execute_input": "2021-10-22T01:50:02.562407Z",
     "iopub.status.busy": "2021-10-22T01:50:02.561623Z",
     "iopub.status.idle": "2021-10-22T01:50:02.917617Z",
     "shell.execute_reply": "2021-10-22T01:50:02.916503Z",
     "shell.execute_reply.started": "2021-10-21T20:58:49.929658Z"
    },
    "papermill": {
     "duration": 32.525893,
     "end_time": "2021-10-22T01:50:02.917768",
     "exception": false,
     "start_time": "2021-10-22T01:49:30.391875",
     "status": "completed"
    },
    "tags": []
   },
   "outputs": [],
   "source": [
    "torch.save(v.state_dict(), \"vn\")\n",
    "torch.save(Head.state_dict(), \"Hn\")"
   ]
  },
  {
   "cell_type": "code",
   "execution_count": 14,
   "id": "df161566",
   "metadata": {
    "execution": {
     "iopub.execute_input": "2021-10-22T01:51:06.537086Z",
     "iopub.status.busy": "2021-10-22T01:51:06.536397Z",
     "iopub.status.idle": "2021-10-22T01:51:06.748287Z",
     "shell.execute_reply": "2021-10-22T01:51:06.747805Z",
     "shell.execute_reply.started": "2021-10-21T20:58:50.285011Z"
    },
    "papermill": {
     "duration": 32.179409,
     "end_time": "2021-10-22T01:51:06.748422",
     "exception": false,
     "start_time": "2021-10-22T01:50:34.569013",
     "status": "completed"
    },
    "tags": []
   },
   "outputs": [
    {
     "data": {
      "image/png": "[encoded data removed]",
      "text/plain": [
       "<Figure size 432x288 with 1 Axes>"
      ]
     },
     "metadata": {
      "needs_background": "light"
     },
     "output_type": "display_data"
    }
   ],
   "source": [
    "import matplotlib.pyplot as plt\n",
    "\n",
    "plt.plot(list(range(len(losslist_n))), losslist_n, label=\"Baseline\")\n",
    "plt.plot(list(range(len(losslist_r))), losslist_r, label=\"Recursive\")\n",
    "plt.legend()\n",
    "plt.show()"
   ]
  }
 ],
 "metadata": {
  "kernelspec": {
   "display_name": "Python 3",
   "language": "python",
   "name": "python3"
  },
  "language_info": {
   "codemirror_mode": {
    "name": "ipython",
    "version": 3
   },
   "file_extension": ".py",
   "mimetype": "text/x-python",
   "name": "python",
   "nbconvert_exporter": "python",
   "pygments_lexer": "ipython3",
   "version": "3.7.10"
  },
  "papermill": {
   "default_parameters": {},
   "duration": 17551.504887,
   "end_time": "2021-10-22T01:51:39.890853",
   "environment_variables": {},
   "exception": null,
   "input_path": "__notebook__.ipynb",
   "output_path": "__notebook__.ipynb",
   "parameters": {},
   "start_time": "2021-10-21T20:59:08.385966",
   "version": "2.3.3"
  },
  "widgets": {
   "application/vnd.jupyter.widget-state+json": {
    "state": {
     "03660b3d7be04941a45b1325c19b2827": {
      "model_module": "@jupyter-widgets/controls",
      "model_module_version": "1.5.0",
      "model_name": "HBoxModel",
      "state": {
       "_dom_classes": [],
       "_model_module": "@jupyter-widgets/controls",
       "_model_module_version": "1.5.0",
       "_model_name": "HBoxModel",
       "_view_count": null,
       "_view_module": "@jupyter-widgets/controls",
       "_view_module_version": "1.5.0",
       "_view_name": "HBoxView",
       "box_style": "",
       "children": [
        "IPY_MODEL_d5760a07b5d34e07a4c303c67c04523b",
        "IPY_MODEL_0be3b76ed1144fc98c94778c0a934a8b",
        "IPY_MODEL_8a41d660affa4510b36f52ddd6f622c3"
       ],
       "layout": "IPY_MODEL_f7254f8cb8224e65ad5d83f6663d85d8"
      }
     },
     "0be3b76ed1144fc98c94778c0a934a8b": {
      "model_module": "@jupyter-widgets/controls",
      "model_module_version": "1.5.0",
      "model_name": "FloatProgressModel",
      "state": {
       "_dom_classes": [],
       "_model_module": "@jupyter-widgets/controls",
       "_model_module_version": "1.5.0",
       "_model_name": "FloatProgressModel",
       "_view_count": null,
       "_view_module": "@jupyter-widgets/controls",
       "_view_module_version": "1.5.0",
       "_view_name": "ProgressView",
       "bar_style": "info",
       "description": "",
       "description_tooltip": null,
       "layout": "IPY_MODEL_a96fa19b0cf24ff0add4f21eb36b36bd",
       "max": 1.0,
       "min": 0.0,
       "orientation": "horizontal",
       "style": "IPY_MODEL_a02b6269ec2b49e4b0a6a58b3018cc08",
       "value": 1.0
      }
     },
     "24ee00825d6b4de88b037b8b7ea598ab": {
      "model_module": "@jupyter-widgets/controls",
      "model_module_version": "1.5.0",
      "model_name": "DescriptionStyleModel",
      "state": {
       "_model_module": "@jupyter-widgets/controls",
       "_model_module_version": "1.5.0",
       "_model_name": "DescriptionStyleModel",
       "_view_count": null,
       "_view_module": "@jupyter-widgets/base",
       "_view_module_version": "1.2.0",
       "_view_name": "StyleView",
       "description_width": ""
      }
     },
     "6b89d49f68574c0db542fae3a6640890": {
      "model_module": "@jupyter-widgets/base",
      "model_module_version": "1.2.0",
      "model_name": "LayoutModel",
      "state": {
       "_model_module": "@jupyter-widgets/base",
       "_model_module_version": "1.2.0",
       "_model_name": "LayoutModel",
       "_view_count": null,
       "_view_module": "@jupyter-widgets/base",
       "_view_module_version": "1.2.0",
       "_view_name": "LayoutView",
       "align_content": null,
       "align_items": null,
       "align_self": null,
       "border": null,
       "bottom": null,
       "display": null,
       "flex": null,
       "flex_flow": null,
       "grid_area": null,
       "grid_auto_columns": null,
       "grid_auto_flow": null,
       "grid_auto_rows": null,
       "grid_column": null,
       "grid_gap": null,
       "grid_row": null,
       "grid_template_areas": null,
       "grid_template_columns": null,
       "grid_template_rows": null,
       "height": null,
       "justify_content": null,
       "justify_items": null,
       "left": null,
       "margin": null,
       "max_height": null,
       "max_width": null,
       "min_height": null,
       "min_width": null,
       "object_fit": null,
       "object_position": null,
       "order": null,
       "overflow": null,
       "overflow_x": null,
       "overflow_y": null,
       "padding": null,
       "right": null,
       "top": null,
       "visibility": null,
       "width": null
      }
     },
     "73a88b41ac3e429691404a2d4dab60db": {
      "model_module": "@jupyter-widgets/controls",
      "model_module_version": "1.5.0",
      "model_name": "DescriptionStyleModel",
      "state": {
       "_model_module": "@jupyter-widgets/controls",
       "_model_module_version": "1.5.0",
       "_model_name": "DescriptionStyleModel",
       "_view_count": null,
       "_view_module": "@jupyter-widgets/base",
       "_view_module_version": "1.2.0",
       "_view_name": "StyleView",
       "description_width": ""
      }
     },
     "8a41d660affa4510b36f52ddd6f622c3": {
      "model_module": "@jupyter-widgets/controls",
      "model_module_version": "1.5.0",
      "model_name": "HTMLModel",
      "state": {
       "_dom_classes": [],
       "_model_module": "@jupyter-widgets/controls",
       "_model_module_version": "1.5.0",
       "_model_name": "HTMLModel",
       "_view_count": null,
       "_view_module": "@jupyter-widgets/controls",
       "_view_module_version": "1.5.0",
       "_view_name": "HTMLView",
       "description": "",
       "description_tooltip": null,
       "layout": "IPY_MODEL_6b89d49f68574c0db542fae3a6640890",
       "placeholder": "​",
       "style": "IPY_MODEL_73a88b41ac3e429691404a2d4dab60db",
       "value": " 170500096/? [00:20&lt;00:00, 54565240.93it/s]"
      }
     },
     "a02b6269ec2b49e4b0a6a58b3018cc08": {
      "model_module": "@jupyter-widgets/controls",
      "model_module_version": "1.5.0",
      "model_name": "ProgressStyleModel",
      "state": {
       "_model_module": "@jupyter-widgets/controls",
       "_model_module_version": "1.5.0",
       "_model_name": "ProgressStyleModel",
       "_view_count": null,
       "_view_module": "@jupyter-widgets/base",
       "_view_module_version": "1.2.0",
       "_view_name": "StyleView",
       "bar_color": null,
       "description_width": ""
      }
     },
     "a96fa19b0cf24ff0add4f21eb36b36bd": {
      "model_module": "@jupyter-widgets/base",
      "model_module_version": "1.2.0",
      "model_name": "LayoutModel",
      "state": {
       "_model_module": "@jupyter-widgets/base",
       "_model_module_version": "1.2.0",
       "_model_name": "LayoutModel",
       "_view_count": null,
       "_view_module": "@jupyter-widgets/base",
       "_view_module_version": "1.2.0",
       "_view_name": "LayoutView",
       "align_content": null,
       "align_items": null,
       "align_self": null,
       "border": null,
       "bottom": null,
       "display": null,
       "flex": null,
       "flex_flow": null,
       "grid_area": null,
       "grid_auto_columns": null,
       "grid_auto_flow": null,
       "grid_auto_rows": null,
       "grid_column": null,
       "grid_gap": null,
       "grid_row": null,
       "grid_template_areas": null,
       "grid_template_columns": null,
       "grid_template_rows": null,
       "height": null,
       "justify_content": null,
       "justify_items": null,
       "left": null,
       "margin": null,
       "max_height": null,
       "max_width": null,
       "min_height": null,
       "min_width": null,
       "object_fit": null,
       "object_position": null,
       "order": null,
       "overflow": null,
       "overflow_x": null,
       "overflow_y": null,
       "padding": null,
       "right": null,
       "top": null,
       "visibility": null,
       "width": "20px"
      }
     },
     "babf05f2e77d47f4b3fc3ce1433afe0c": {
      "model_module": "@jupyter-widgets/base",
      "model_module_version": "1.2.0",
      "model_name": "LayoutModel",
      "state": {
       "_model_module": "@jupyter-widgets/base",
       "_model_module_version": "1.2.0",
       "_model_name": "LayoutModel",
       "_view_count": null,
       "_view_module": "@jupyter-widgets/base",
       "_view_module_version": "1.2.0",
       "_view_name": "LayoutView",
       "align_content": null,
       "align_items": null,
       "align_self": null,
       "border": null,
       "bottom": null,
       "display": null,
       "flex": null,
       "flex_flow": null,
       "grid_area": null,
       "grid_auto_columns": null,
       "grid_auto_flow": null,
       "grid_auto_rows": null,
       "grid_column": null,
       "grid_gap": null,
       "grid_row": null,
       "grid_template_areas": null,
       "grid_template_columns": null,
       "grid_template_rows": null,
       "height": null,
       "justify_content": null,
       "justify_items": null,
       "left": null,
       "margin": null,
       "max_height": null,
       "max_width": null,
       "min_height": null,
       "min_width": null,
       "object_fit": null,
       "object_position": null,
       "order": null,
       "overflow": null,
       "overflow_x": null,
       "overflow_y": null,
       "padding": null,
       "right": null,
       "top": null,
       "visibility": null,
       "width": null
      }
     },
     "d5760a07b5d34e07a4c303c67c04523b": {
      "model_module": "@jupyter-widgets/controls",
      "model_module_version": "1.5.0",
      "model_name": "HTMLModel",
      "state": {
       "_dom_classes": [],
       "_model_module": "@jupyter-widgets/controls",
       "_model_module_version": "1.5.0",
       "_model_name": "HTMLModel",
       "_view_count": null,
       "_view_module": "@jupyter-widgets/controls",
       "_view_module_version": "1.5.0",
       "_view_name": "HTMLView",
       "description": "",
       "description_tooltip": null,
       "layout": "IPY_MODEL_babf05f2e77d47f4b3fc3ce1433afe0c",
       "placeholder": "​",
       "style": "IPY_MODEL_24ee00825d6b4de88b037b8b7ea598ab",
       "value": ""
      }
     },
     "f7254f8cb8224e65ad5d83f6663d85d8": {
      "model_module": "@jupyter-widgets/base",
      "model_module_version": "1.2.0",
      "model_name": "LayoutModel",
      "state": {
       "_model_module": "@jupyter-widgets/base",
       "_model_module_version": "1.2.0",
       "_model_name": "LayoutModel",
       "_view_count": null,
       "_view_module": "@jupyter-widgets/base",
       "_view_module_version": "1.2.0",
       "_view_name": "LayoutView",
       "align_content": null,
       "align_items": null,
       "align_self": null,
       "border": null,
       "bottom": null,
       "display": null,
       "flex": null,
       "flex_flow": null,
       "grid_area": null,
       "grid_auto_columns": null,
       "grid_auto_flow": null,
       "grid_auto_rows": null,
       "grid_column": null,
       "grid_gap": null,
       "grid_row": null,
       "grid_template_areas": null,
       "grid_template_columns": null,
       "grid_template_rows": null,
       "height": null,
       "justify_content": null,
       "justify_items": null,
       "left": null,
       "margin": null,
       "max_height": null,
       "max_width": null,
       "min_height": null,
       "min_width": null,
       "object_fit": null,
       "object_position": null,
       "order": null,
       "overflow": null,
       "overflow_x": null,
       "overflow_y": null,
       "padding": null,
       "right": null,
       "top": null,
       "visibility": null,
       "width": null
      }
     }
    },
    "version_major": 2,
    "version_minor": 0
   }
  }
 },
 "nbformat": 4,
 "nbformat_minor": 5
}
