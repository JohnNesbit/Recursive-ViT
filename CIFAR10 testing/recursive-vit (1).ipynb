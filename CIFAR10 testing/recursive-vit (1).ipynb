{
 "cells": [
  {
   "cell_type": "code",
   "execution_count": 1,
   "id": "8886bba6",
   "metadata": {
    "_cell_guid": "b1076dfc-b9ad-4769-8c92-a6c4dae69d19",
    "_uuid": "8f2839f25d086af736a60e9eeb907d3b93b6e0e5",
    "execution": {
     "iopub.execute_input": "2021-09-28T22:00:03.617931Z",
     "iopub.status.busy": "2021-09-28T22:00:03.617178Z",
     "iopub.status.idle": "2021-09-28T22:00:08.207861Z",
     "shell.execute_reply": "2021-09-28T22:00:08.207219Z",
     "shell.execute_reply.started": "2021-09-28T21:57:26.112241Z"
    },
    "papermill": {
     "duration": 4.696019,
     "end_time": "2021-09-28T22:00:08.208018",
     "exception": false,
     "start_time": "2021-09-28T22:00:03.511999",
     "status": "completed"
    },
    "tags": []
   },
   "outputs": [],
   "source": [
    "# current ADAM resnet18 with 200 epochs is 76% accuracy\n",
    "import numpy as np # linear algebra\n",
    "import pandas as pd # data processing, CSV file I/O (e.g. pd.read_csv)\n",
    "import os\n",
    "import torch\n",
    "from numpy import asarray\n",
    "import PIL.Image as Image\n",
    "import torch.nn as nn\n",
    "import tqdm\n",
    "import gc\n",
    "\n",
    "device = \"cuda\"\n",
    "\n",
    "torch.cuda.empty_cache()\n",
    "gc.collect()\n",
    "        \n",
    "import torchvision.transforms as transforms\n",
    "transform = transforms.ToTensor()"
   ]
  },
  {
   "cell_type": "code",
   "execution_count": 2,
   "id": "91449379",
   "metadata": {
    "execution": {
     "iopub.execute_input": "2021-09-28T22:00:08.236011Z",
     "iopub.status.busy": "2021-09-28T22:00:08.235146Z",
     "iopub.status.idle": "2021-09-28T22:00:14.342680Z",
     "shell.execute_reply": "2021-09-28T22:00:14.343819Z",
     "shell.execute_reply.started": "2021-09-28T21:57:30.736966Z"
    },
    "papermill": {
     "duration": 6.124926,
     "end_time": "2021-09-28T22:00:14.344042",
     "exception": false,
     "start_time": "2021-09-28T22:00:08.219116",
     "status": "completed"
    },
    "tags": []
   },
   "outputs": [
    {
     "name": "stdout",
     "output_type": "stream",
     "text": [
      "Downloading https://www.cs.toronto.edu/~kriz/cifar-10-python.tar.gz to based/cifar-10-python.tar.gz\n"
     ]
    },
    {
     "data": {
      "application/vnd.jupyter.widget-view+json": {
       "model_id": "42b1ac0f94c041c48c6d33db2a7a384c",
       "version_major": 2,
       "version_minor": 0
      },
      "text/plain": [
       "0it [00:00, ?it/s]"
      ]
     },
     "metadata": {},
     "output_type": "display_data"
    },
    {
     "name": "stdout",
     "output_type": "stream",
     "text": [
      "Extracting based/cifar-10-python.tar.gz to based\n",
      "Files already downloaded and verified\n"
     ]
    }
   ],
   "source": [
    "# get dataset stuffs\n",
    "import torchvision\n",
    "from torch.utils.data import DataLoader\n",
    "from torchvision.models.utils import load_state_dict_from_url\n",
    "\n",
    "dataset = torchvision.datasets.CIFAR10(root=\"based\", train=False, download=True, transform=transform)\n",
    "val_dataloader = DataLoader(dataset, batch_size=256, shuffle=True)\n",
    "\n",
    "dataset = torchvision.datasets.CIFAR10(root=\"based\", train=True, download=True, transform=transform)\n",
    "\n",
    "train_dataloader = DataLoader(dataset, batch_size=256, shuffle=True)"
   ]
  },
  {
   "cell_type": "code",
   "execution_count": 3,
   "id": "99aeccff",
   "metadata": {
    "execution": {
     "iopub.execute_input": "2021-09-28T22:00:14.395162Z",
     "iopub.status.busy": "2021-09-28T22:00:14.394411Z",
     "iopub.status.idle": "2021-09-28T22:00:22.853711Z",
     "shell.execute_reply": "2021-09-28T22:00:22.853231Z",
     "shell.execute_reply.started": "2021-09-28T21:57:37.971269Z"
    },
    "papermill": {
     "duration": 8.489654,
     "end_time": "2021-09-28T22:00:22.853842",
     "exception": false,
     "start_time": "2021-09-28T22:00:14.364188",
     "status": "completed"
    },
    "tags": []
   },
   "outputs": [
    {
     "name": "stdout",
     "output_type": "stream",
     "text": [
      "Collecting vit-pytorch\r\n",
      "  Downloading vit_pytorch-0.20.7-py3-none-any.whl (35 kB)\r\n",
      "Collecting einops>=0.3\r\n",
      "  Downloading einops-0.3.2-py3-none-any.whl (25 kB)\r\n",
      "Requirement already satisfied: torchvision in /opt/conda/lib/python3.7/site-packages (from vit-pytorch) (0.8.2+cu110)\r\n",
      "Requirement already satisfied: torch>=1.6 in /opt/conda/lib/python3.7/site-packages (from vit-pytorch) (1.7.1+cu110)\r\n",
      "Requirement already satisfied: numpy in /opt/conda/lib/python3.7/site-packages (from torch>=1.6->vit-pytorch) (1.19.5)\r\n",
      "Requirement already satisfied: typing-extensions in /opt/conda/lib/python3.7/site-packages (from torch>=1.6->vit-pytorch) (3.7.4.3)\r\n",
      "Requirement already satisfied: pillow>=4.1.1 in /opt/conda/lib/python3.7/site-packages (from torchvision->vit-pytorch) (8.2.0)\r\n",
      "Installing collected packages: einops, vit-pytorch\r\n",
      "Successfully installed einops-0.3.2 vit-pytorch-0.20.7\r\n",
      "\u001b[33mWARNING: Running pip as the 'root' user can result in broken permissions and conflicting behaviour with the system package manager. It is recommended to use a virtual environment instead: https://pip.pypa.io/warnings/venv\u001b[0m\r\n"
     ]
    }
   ],
   "source": [
    "!pip install vit-pytorch"
   ]
  },
  {
   "cell_type": "code",
   "execution_count": 4,
   "id": "a3720b6b",
   "metadata": {
    "execution": {
     "iopub.execute_input": "2021-09-28T22:00:22.888273Z",
     "iopub.status.busy": "2021-09-28T22:00:22.887458Z",
     "iopub.status.idle": "2021-09-28T22:00:22.889622Z",
     "shell.execute_reply": "2021-09-28T22:00:22.890039Z",
     "shell.execute_reply.started": "2021-09-28T21:57:48.325162Z"
    },
    "papermill": {
     "duration": 0.022624,
     "end_time": "2021-09-28T22:00:22.890173",
     "exception": false,
     "start_time": "2021-09-28T22:00:22.867549",
     "status": "completed"
    },
    "tags": []
   },
   "outputs": [],
   "source": [
    "def testb():\n",
    "    acc = 0\n",
    "    total = 0\n",
    "    for n_, (x, y) in enumerate(val_dataloader):\n",
    "        x = x.to(device)\n",
    "        bs = x.shape[0]\n",
    "        x = x.reshape(bs, 3, 32, 32)\n",
    "        \n",
    "        y_hat = v(x) # add encodings?\n",
    "        for _, i in enumerate(y_hat):\n",
    "            if i.argmax() == y.to(device)[_]:\n",
    "                acc +=1\n",
    "            total +=1\n",
    "            \n",
    "    return acc/total"
   ]
  },
  {
   "cell_type": "code",
   "execution_count": 5,
   "id": "f65e37f1",
   "metadata": {
    "execution": {
     "iopub.execute_input": "2021-09-28T22:00:22.924855Z",
     "iopub.status.busy": "2021-09-28T22:00:22.923958Z",
     "iopub.status.idle": "2021-09-28T22:00:22.926988Z",
     "shell.execute_reply": "2021-09-28T22:00:22.927427Z",
     "shell.execute_reply.started": "2021-09-28T21:57:48.338441Z"
    },
    "papermill": {
     "duration": 0.024339,
     "end_time": "2021-09-28T22:00:22.927577",
     "exception": false,
     "start_time": "2021-09-28T22:00:22.903238",
     "status": "completed"
    },
    "tags": []
   },
   "outputs": [
    {
     "data": {
      "text/plain": [
       "\"\\nimport torch\\nfrom vit_pytorch import ViT\\n\\n# get ViT-B/16 model\\n\\nv = ViT(\\n    image_size = 32,\\n    patch_size = 16,\\n    num_classes = 10,\\n    dim = 768,\\n    depth = 12,\\n    heads = 12,\\n    mlp_dim = 3072,\\n    dropout = 0.1,\\n    emb_dropout = 0.1\\n)\\nv.eval()\\n\\n# initialize stuffs\\nlosslist_n = []\\nv = v.to(device)\\nvoptimizer = torch.optim.Adam(v.parameters(), lr=.0001)\\nimport random\\n\\nacc = 0\\ntotal = 0\\n# do loop for baseline\\nfor epoch in range(200):\\n    t = tqdm.tqdm(train_dataloader, position=0, leave=True)\\n    tloss = 0\\n    # loop over data\\n    for n, (x, y) in enumerate(t):\\n        bs = x.shape[0]\\n        \\n        # change device to gpu\\n        x = x.to(device)\\n        y = y.to(device)\\n        \\n        # forward pass\\n        x = x.reshape(bs, 3, 32, 32)\\n        f_y_hat = v(x)\\n        \\n        # backward pass\\n        loss = torch.nn.CrossEntropyLoss()((f_y_hat).reshape([bs, 10]), y) # nn.ReLU()\\n        loss.backward()\\n        tloss += loss\\n        \\n        # optimize\\n        voptimizer.step() \\n        voptimizer.zero_grad()\\n        \\n        # keep track of this epoch's loss\\n        t.set_description_str(str(tloss.detach().cpu().numpy()/(n+1))) # 14:.2\\n        \\n    # test epoch's accuracy and append it to the list\\n    l = testb()\\n    print(l)\\n    losslist_n.append(l)\\n    \\n# 5 = 2 normal\\n# new 1.8 = 5\\n\""
      ]
     },
     "execution_count": 5,
     "metadata": {},
     "output_type": "execute_result"
    }
   ],
   "source": [
    "\"\"\"\n",
    "import torch\n",
    "from vit_pytorch import ViT\n",
    "\n",
    "# get ViT-B/16 model\n",
    "\n",
    "v = ViT(\n",
    "    image_size = 32,\n",
    "    patch_size = 16,\n",
    "    num_classes = 10,\n",
    "    dim = 768,\n",
    "    depth = 12,\n",
    "    heads = 12,\n",
    "    mlp_dim = 3072,\n",
    "    dropout = 0.1,\n",
    "    emb_dropout = 0.1\n",
    ")\n",
    "v.eval()\n",
    "\n",
    "# initialize stuffs\n",
    "losslist_n = []\n",
    "v = v.to(device)\n",
    "voptimizer = torch.optim.Adam(v.parameters(), lr=.0001)\n",
    "import random\n",
    "\n",
    "acc = 0\n",
    "total = 0\n",
    "# do loop for baseline\n",
    "for epoch in range(200):\n",
    "    t = tqdm.tqdm(train_dataloader, position=0, leave=True)\n",
    "    tloss = 0\n",
    "    # loop over data\n",
    "    for n, (x, y) in enumerate(t):\n",
    "        bs = x.shape[0]\n",
    "        \n",
    "        # change device to gpu\n",
    "        x = x.to(device)\n",
    "        y = y.to(device)\n",
    "        \n",
    "        # forward pass\n",
    "        x = x.reshape(bs, 3, 32, 32)\n",
    "        f_y_hat = v(x)\n",
    "        \n",
    "        # backward pass\n",
    "        loss = torch.nn.CrossEntropyLoss()((f_y_hat).reshape([bs, 10]), y) # nn.ReLU()\n",
    "        loss.backward()\n",
    "        tloss += loss\n",
    "        \n",
    "        # optimize\n",
    "        voptimizer.step() \n",
    "        voptimizer.zero_grad()\n",
    "        \n",
    "        # keep track of this epoch's loss\n",
    "        t.set_description_str(str(tloss.detach().cpu().numpy()/(n+1))) # 14:.2\n",
    "        \n",
    "    # test epoch's accuracy and append it to the list\n",
    "    l = testb()\n",
    "    print(l)\n",
    "    losslist_n.append(l)\n",
    "    \n",
    "# 5 = 2 normal\n",
    "# new 1.8 = 5\n",
    "\"\"\""
   ]
  },
  {
   "cell_type": "code",
   "execution_count": 6,
   "id": "91dc253e",
   "metadata": {
    "execution": {
     "iopub.execute_input": "2021-09-28T22:00:22.966116Z",
     "iopub.status.busy": "2021-09-28T22:00:22.957139Z",
     "iopub.status.idle": "2021-09-28T22:00:22.968686Z",
     "shell.execute_reply": "2021-09-28T22:00:22.968197Z",
     "shell.execute_reply.started": "2021-09-28T21:57:48.354058Z"
    },
    "papermill": {
     "duration": 0.028046,
     "end_time": "2021-09-28T22:00:22.968804",
     "exception": false,
     "start_time": "2021-09-28T22:00:22.940758",
     "status": "completed"
    },
    "tags": []
   },
   "outputs": [],
   "source": [
    "# load in ViT-b/16 results from the above code ran in previous version, I seperated these two in case the session was terminated and the data would be lost\n",
    "losslist_n = [0.3157, 0.3891, 0.439, 0.4689, 0.477, 0.4756, 0.5138, 0.5237, 0.5193, 0.5305, 0.5254, 0.5387, 0.538, 0.5333, 0.5338, 0.537, 0.5315, 0.5291, 0.5326, 0.5311, 0.5343, 0.5281, 0.5314, 0.5348, 0.5386, 0.5441, 0.5356, 0.5313, 0.5389, 0.5413, 0.5356, 0.5364, 0.5333, 0.5355, 0.5315, 0.5379, 0.532, 0.535, 0.5357, 0.5372, 0.5377, 0.5473, 0.5449, 0.5476, 0.537, 0.54, 0.5382, 0.5447, 0.5443, 0.5383, 0.5358, 0.5437, 0.5411, 0.5445, 0.5457, 0.5427, 0.5417, 0.5376, 0.5367, 0.5335, 0.5391, 0.5463, 0.5426, 0.5446, 0.5442, 0.5437, 0.5425, 0.5407, 0.5454, 0.5453, 0.5496, 0.5428, 0.544, 0.5299, 0.5423, 0.5399, 0.5405, 0.5388, 0.5386, 0.5387, 0.5513, 0.545, 0.5419, 0.537, 0.5384, 0.5405, 0.5462, 0.5379, 0.5495, 0.55, 0.5417, 0.5526, 0.5459, 0.5427, 0.5366, 0.5468, 0.5494, 0.5487, 0.5459, 0.5411, 0.5495, 0.5474, 0.5455, 0.5498, 0.5476, 0.5476, 0.5509, 0.5454, 0.5459, 0.539, 0.545, 0.5509, 0.5467, 0.5453, 0.5409, 0.5493, 0.5422, 0.5379, 0.5439, 0.5438, 0.5488, 0.5497, 0.545, 0.5481, 0.5501, 0.5567, 0.5476, 0.5431, 0.5437, 0.5458, 0.5469, 0.5469, 0.5483, 0.5442, 0.5466, 0.5471, 0.5525, 0.546, 0.5458, 0.5472, 0.5459, 0.5471, 0.5432, 0.5493, 0.5521, 0.5455, 0.5441, 0.5422, 0.5487, 0.5507, 0.5461, 0.5522, 0.5425, 0.5502, 0.5555, 0.5563, 0.5524, 0.5537, 0.5462, 0.5571, 0.5475, 0.5464, 0.548, 0.5335, 0.5488, 0.5503, 0.5507, 0.5481, 0.5403, 0.5444, 0.5473, 0.5435, 0.5491, 0.5421, 0.5532, 0.5531, 0.5546, 0.5551, 0.5534, 0.5484, 0.5433, 0.5558, 0.5452, 0.5509, 0.5482, 0.5452, 0.5556, 0.5527, 0.5511, 0.5469, 0.5474, 0.549, 0.547, 0.5456, 0.5508, 0.5471, 0.5571, 0.5499, 0.554, 0.5525]\n",
    "#print(losslist_n)\n",
    "\n",
    "#torch.save(v.state_dict(), \"v\")\n",
    "#torch.save(Head.state_dict(), \"H\")"
   ]
  },
  {
   "cell_type": "code",
   "execution_count": 7,
   "id": "92dcc3cc",
   "metadata": {
    "execution": {
     "iopub.execute_input": "2021-09-28T22:00:23.000199Z",
     "iopub.status.busy": "2021-09-28T22:00:22.999390Z",
     "iopub.status.idle": "2021-09-28T22:00:23.005963Z",
     "shell.execute_reply": "2021-09-28T22:00:23.006330Z",
     "shell.execute_reply.started": "2021-09-28T21:57:48.372036Z"
    },
    "papermill": {
     "duration": 0.024417,
     "end_time": "2021-09-28T22:00:23.006476",
     "exception": false,
     "start_time": "2021-09-28T22:00:22.982059",
     "status": "completed"
    },
    "tags": []
   },
   "outputs": [],
   "source": [
    "def test(f):\n",
    "    acc = 0\n",
    "    total = 0\n",
    "    # loop over test set\n",
    "    for n_, (x, y) in enumerate(val_dataloader):\n",
    "        bs = x.shape[0]\n",
    "        x = x.to(device)\n",
    "        \n",
    "        # f is how many times ViT loops over data\n",
    "        for i in range(f):\n",
    "            x = v(x)\n",
    "            x = x.reshape(bs, 3, 32, 32)\n",
    "            \n",
    "        # apply Head\n",
    "        y_hat = Head(x)\n",
    "        \n",
    "        # loop over predicted and see if equal to the ground truth\n",
    "        for _, i in enumerate(y_hat):\n",
    "            if i.argmax() == y.to(device)[_]:\n",
    "                acc +=1\n",
    "            total +=1\n",
    "            \n",
    "    return acc/total"
   ]
  },
  {
   "cell_type": "code",
   "execution_count": 8,
   "id": "dd4f0ba8",
   "metadata": {
    "execution": {
     "iopub.execute_input": "2021-09-28T22:00:23.037818Z",
     "iopub.status.busy": "2021-09-28T22:00:23.036177Z",
     "iopub.status.idle": "2021-09-28T22:00:23.039789Z",
     "shell.execute_reply": "2021-09-28T22:00:23.040234Z",
     "shell.execute_reply.started": "2021-09-28T21:57:48.385832Z"
    },
    "papermill": {
     "duration": 0.020592,
     "end_time": "2021-09-28T22:00:23.040374",
     "exception": false,
     "start_time": "2021-09-28T22:00:23.019782",
     "status": "completed"
    },
    "tags": []
   },
   "outputs": [],
   "source": [
    "# blank module to replace nn.Softmaxes with\n",
    "class make_linear(torch.nn.Module):\n",
    "    def __init__(self):\n",
    "        super(make_linear, self).__init__()\n",
    "\n",
    "    def forward(self, x):\n",
    "        return x"
   ]
  },
  {
   "cell_type": "code",
   "execution_count": 9,
   "id": "ab3572bf",
   "metadata": {
    "execution": {
     "iopub.execute_input": "2021-09-28T22:00:23.072124Z",
     "iopub.status.busy": "2021-09-28T22:00:23.071358Z",
     "iopub.status.idle": "2021-09-28T22:00:23.073231Z",
     "shell.execute_reply": "2021-09-28T22:00:23.073648Z",
     "shell.execute_reply.started": "2021-09-28T21:57:48.399109Z"
    },
    "papermill": {
     "duration": 0.020074,
     "end_time": "2021-09-28T22:00:23.073775",
     "exception": false,
     "start_time": "2021-09-28T22:00:23.053701",
     "status": "completed"
    },
    "tags": []
   },
   "outputs": [],
   "source": [
    "def replace_layers(model, old, new):\n",
    "    # stolen from stack overflow, replaces all non linearities so that transformers are linear\n",
    "    for n, module in model.named_children():\n",
    "        if len(list(module.children())) > 0:\n",
    "            ## compound module, go inside it\n",
    "            replace_layers(module, old, new)\n",
    "            \n",
    "        if isinstance(module, old):\n",
    "            ## simple module\n",
    "            setattr(model, n, new)"
   ]
  },
  {
   "cell_type": "code",
   "execution_count": 10,
   "id": "06361c24",
   "metadata": {
    "execution": {
     "iopub.execute_input": "2021-09-28T22:00:23.113408Z",
     "iopub.status.busy": "2021-09-28T22:00:23.112575Z",
     "iopub.status.idle": "2021-09-28T22:24:37.497049Z",
     "shell.execute_reply": "2021-09-28T22:24:37.497723Z",
     "shell.execute_reply.started": "2021-09-28T21:57:48.410548Z"
    },
    "papermill": {
     "duration": 1454.411007,
     "end_time": "2021-09-28T22:24:37.497936",
     "exception": false,
     "start_time": "2021-09-28T22:00:23.086929",
     "status": "completed"
    },
    "tags": []
   },
   "outputs": [
    {
     "name": "stderr",
     "output_type": "stream",
     "text": [
      "1.9304851609833387: 100%|██████████| 196/196 [00:11<00:00, 16.70it/s]\n"
     ]
    },
    {
     "name": "stdout",
     "output_type": "stream",
     "text": [
      "0.3977\n"
     ]
    },
    {
     "name": "stderr",
     "output_type": "stream",
     "text": [
      "1.5783037458147322: 100%|██████████| 196/196 [00:11<00:00, 16.59it/s]\n"
     ]
    },
    {
     "name": "stdout",
     "output_type": "stream",
     "text": [
      "0.4596\n"
     ]
    },
    {
     "name": "stderr",
     "output_type": "stream",
     "text": [
      "1.4209425011459662: 100%|██████████| 196/196 [00:11<00:00, 17.29it/s]\n"
     ]
    },
    {
     "name": "stdout",
     "output_type": "stream",
     "text": [
      "0.4942\n"
     ]
    },
    {
     "name": "stderr",
     "output_type": "stream",
     "text": [
      "1.2988349758848852: 100%|██████████| 196/196 [00:11<00:00, 16.81it/s]\n"
     ]
    },
    {
     "name": "stdout",
     "output_type": "stream",
     "text": [
      "0.5194\n"
     ]
    },
    {
     "name": "stderr",
     "output_type": "stream",
     "text": [
      "1.1864999265086895: 100%|██████████| 196/196 [00:11<00:00, 17.18it/s]\n"
     ]
    },
    {
     "name": "stdout",
     "output_type": "stream",
     "text": [
      "0.5379\n"
     ]
    },
    {
     "name": "stderr",
     "output_type": "stream",
     "text": [
      "1.078165560352559: 100%|██████████| 196/196 [00:11<00:00, 17.40it/s]\n"
     ]
    },
    {
     "name": "stdout",
     "output_type": "stream",
     "text": [
      "0.5443\n"
     ]
    },
    {
     "name": "stderr",
     "output_type": "stream",
     "text": [
      "0.9517183887715243: 100%|██████████| 196/196 [00:12<00:00, 16.31it/s]\n"
     ]
    },
    {
     "name": "stdout",
     "output_type": "stream",
     "text": [
      "0.5424\n"
     ]
    },
    {
     "name": "stderr",
     "output_type": "stream",
     "text": [
      "0.8220498221261161: 100%|██████████| 196/196 [00:11<00:00, 17.36it/s]\n"
     ]
    },
    {
     "name": "stdout",
     "output_type": "stream",
     "text": [
      "0.5506\n"
     ]
    },
    {
     "name": "stderr",
     "output_type": "stream",
     "text": [
      "0.67532052799147: 100%|██████████| 196/196 [00:12<00:00, 16.06it/s]\n"
     ]
    },
    {
     "name": "stdout",
     "output_type": "stream",
     "text": [
      "0.5485\n"
     ]
    },
    {
     "name": "stderr",
     "output_type": "stream",
     "text": [
      "0.5259933082424865: 100%|██████████| 196/196 [00:11<00:00, 17.29it/s]\n"
     ]
    },
    {
     "name": "stdout",
     "output_type": "stream",
     "text": [
      "0.5449\n"
     ]
    },
    {
     "name": "stderr",
     "output_type": "stream",
     "text": [
      "0.3844594371562101: 100%|██████████| 196/196 [00:12<00:00, 15.45it/s]\n"
     ]
    },
    {
     "name": "stdout",
     "output_type": "stream",
     "text": [
      "0.5384\n"
     ]
    },
    {
     "name": "stderr",
     "output_type": "stream",
     "text": [
      "0.25966381540103833: 100%|██████████| 196/196 [00:11<00:00, 17.01it/s]\n"
     ]
    },
    {
     "name": "stdout",
     "output_type": "stream",
     "text": [
      "0.5494\n"
     ]
    },
    {
     "name": "stderr",
     "output_type": "stream",
     "text": [
      "0.18778337751116073: 100%|██████████| 196/196 [00:11<00:00, 17.28it/s]\n"
     ]
    },
    {
     "name": "stdout",
     "output_type": "stream",
     "text": [
      "0.5431\n"
     ]
    },
    {
     "name": "stderr",
     "output_type": "stream",
     "text": [
      "0.13627020193606007: 100%|██████████| 196/196 [00:12<00:00, 15.91it/s]\n"
     ]
    },
    {
     "name": "stdout",
     "output_type": "stream",
     "text": [
      "0.5425\n"
     ]
    },
    {
     "name": "stderr",
     "output_type": "stream",
     "text": [
      "0.12081336001960599: 100%|██████████| 196/196 [00:11<00:00, 17.25it/s]\n"
     ]
    },
    {
     "name": "stdout",
     "output_type": "stream",
     "text": [
      "0.5316\n"
     ]
    },
    {
     "name": "stderr",
     "output_type": "stream",
     "text": [
      "0.10655369077410017: 100%|██████████| 196/196 [00:12<00:00, 15.69it/s]\n"
     ]
    },
    {
     "name": "stdout",
     "output_type": "stream",
     "text": [
      "0.5392\n"
     ]
    },
    {
     "name": "stderr",
     "output_type": "stream",
     "text": [
      "0.08308770705242546: 100%|██████████| 196/196 [00:11<00:00, 17.46it/s]\n"
     ]
    },
    {
     "name": "stdout",
     "output_type": "stream",
     "text": [
      "0.5403\n"
     ]
    },
    {
     "name": "stderr",
     "output_type": "stream",
     "text": [
      "0.06810473422614896: 100%|██████████| 196/196 [00:12<00:00, 15.70it/s]\n"
     ]
    },
    {
     "name": "stdout",
     "output_type": "stream",
     "text": [
      "0.5477\n"
     ]
    },
    {
     "name": "stderr",
     "output_type": "stream",
     "text": [
      "0.07636287261028679: 100%|██████████| 196/196 [00:11<00:00, 17.27it/s]\n"
     ]
    },
    {
     "name": "stdout",
     "output_type": "stream",
     "text": [
      "0.5429\n"
     ]
    },
    {
     "name": "stderr",
     "output_type": "stream",
     "text": [
      "0.10548131319941306: 100%|██████████| 196/196 [00:11<00:00, 17.20it/s]\n"
     ]
    },
    {
     "name": "stdout",
     "output_type": "stream",
     "text": [
      "0.5441\n"
     ]
    },
    {
     "name": "stderr",
     "output_type": "stream",
     "text": [
      "0.07439457153787418: 100%|██████████| 196/196 [00:11<00:00, 16.75it/s]\n"
     ]
    },
    {
     "name": "stdout",
     "output_type": "stream",
     "text": [
      "0.5472\n"
     ]
    },
    {
     "name": "stderr",
     "output_type": "stream",
     "text": [
      "0.06316844297915089: 100%|██████████| 196/196 [00:11<00:00, 17.31it/s]\n"
     ]
    },
    {
     "name": "stdout",
     "output_type": "stream",
     "text": [
      "0.5546\n"
     ]
    },
    {
     "name": "stderr",
     "output_type": "stream",
     "text": [
      "0.03375486695036596: 100%|██████████| 196/196 [00:12<00:00, 15.16it/s]\n"
     ]
    },
    {
     "name": "stdout",
     "output_type": "stream",
     "text": [
      "0.5571\n"
     ]
    },
    {
     "name": "stderr",
     "output_type": "stream",
     "text": [
      "0.026738001375782246: 100%|██████████| 196/196 [00:11<00:00, 17.34it/s]\n"
     ]
    },
    {
     "name": "stdout",
     "output_type": "stream",
     "text": [
      "0.5489\n"
     ]
    },
    {
     "name": "stderr",
     "output_type": "stream",
     "text": [
      "0.06923894006378796: 100%|██████████| 196/196 [00:13<00:00, 14.76it/s]\n"
     ]
    },
    {
     "name": "stdout",
     "output_type": "stream",
     "text": [
      "0.5349\n"
     ]
    },
    {
     "name": "stderr",
     "output_type": "stream",
     "text": [
      "0.1111828259059361: 100%|██████████| 196/196 [00:11<00:00, 17.49it/s]\n"
     ]
    },
    {
     "name": "stdout",
     "output_type": "stream",
     "text": [
      "0.541\n"
     ]
    },
    {
     "name": "stderr",
     "output_type": "stream",
     "text": [
      "0.057542450573979595: 100%|██████████| 196/196 [00:12<00:00, 15.75it/s]\n"
     ]
    },
    {
     "name": "stdout",
     "output_type": "stream",
     "text": [
      "0.5535\n"
     ]
    },
    {
     "name": "stderr",
     "output_type": "stream",
     "text": [
      "0.036195961796507546: 100%|██████████| 196/196 [00:11<00:00, 17.14it/s]\n"
     ]
    },
    {
     "name": "stdout",
     "output_type": "stream",
     "text": [
      "0.5589\n"
     ]
    },
    {
     "name": "stderr",
     "output_type": "stream",
     "text": [
      "0.03236800797131597: 100%|██████████| 196/196 [00:11<00:00, 17.31it/s]\n"
     ]
    },
    {
     "name": "stdout",
     "output_type": "stream",
     "text": [
      "0.5446\n"
     ]
    },
    {
     "name": "stderr",
     "output_type": "stream",
     "text": [
      "0.051380726755881796: 100%|██████████| 196/196 [00:12<00:00, 15.09it/s]\n"
     ]
    },
    {
     "name": "stdout",
     "output_type": "stream",
     "text": [
      "0.5497\n"
     ]
    },
    {
     "name": "stderr",
     "output_type": "stream",
     "text": [
      "0.0815800598689488: 100%|██████████| 196/196 [00:11<00:00, 17.38it/s]\n"
     ]
    },
    {
     "name": "stdout",
     "output_type": "stream",
     "text": [
      "0.5394\n"
     ]
    },
    {
     "name": "stderr",
     "output_type": "stream",
     "text": [
      "0.05605458240119778: 100%|██████████| 196/196 [00:13<00:00, 14.60it/s]\n"
     ]
    },
    {
     "name": "stdout",
     "output_type": "stream",
     "text": [
      "0.5462\n"
     ]
    },
    {
     "name": "stderr",
     "output_type": "stream",
     "text": [
      "0.03150389875684466: 100%|██████████| 196/196 [00:11<00:00, 17.35it/s]\n"
     ]
    },
    {
     "name": "stdout",
     "output_type": "stream",
     "text": [
      "0.5536\n"
     ]
    },
    {
     "name": "stderr",
     "output_type": "stream",
     "text": [
      "0.024813542560655242: 100%|██████████| 196/196 [00:11<00:00, 16.63it/s]\n"
     ]
    },
    {
     "name": "stdout",
     "output_type": "stream",
     "text": [
      "0.553\n"
     ]
    },
    {
     "name": "stderr",
     "output_type": "stream",
     "text": [
      "0.03847972227602589: 100%|██████████| 196/196 [00:11<00:00, 17.45it/s]\n"
     ]
    },
    {
     "name": "stdout",
     "output_type": "stream",
     "text": [
      "0.5443\n"
     ]
    },
    {
     "name": "stderr",
     "output_type": "stream",
     "text": [
      "0.07401680946350098: 100%|██████████| 196/196 [00:11<00:00, 16.67it/s]\n"
     ]
    },
    {
     "name": "stdout",
     "output_type": "stream",
     "text": [
      "0.5407\n"
     ]
    },
    {
     "name": "stderr",
     "output_type": "stream",
     "text": [
      "0.05925240808603715: 100%|██████████| 196/196 [00:13<00:00, 15.07it/s]\n"
     ]
    },
    {
     "name": "stdout",
     "output_type": "stream",
     "text": [
      "0.5503\n"
     ]
    },
    {
     "name": "stderr",
     "output_type": "stream",
     "text": [
      "0.03459126851996597: 100%|██████████| 196/196 [00:11<00:00, 17.43it/s]\n"
     ]
    },
    {
     "name": "stdout",
     "output_type": "stream",
     "text": [
      "0.5475\n"
     ]
    },
    {
     "name": "stderr",
     "output_type": "stream",
     "text": [
      "0.020790229038316375: 100%|██████████| 196/196 [00:13<00:00, 14.72it/s]\n"
     ]
    },
    {
     "name": "stdout",
     "output_type": "stream",
     "text": [
      "0.5545\n"
     ]
    },
    {
     "name": "stderr",
     "output_type": "stream",
     "text": [
      "0.016158999228964046: 100%|██████████| 196/196 [00:11<00:00, 17.11it/s]\n"
     ]
    },
    {
     "name": "stdout",
     "output_type": "stream",
     "text": [
      "0.556\n"
     ]
    },
    {
     "name": "stderr",
     "output_type": "stream",
     "text": [
      "0.03516620762494146: 100%|██████████| 196/196 [00:11<00:00, 16.91it/s]\n"
     ]
    },
    {
     "name": "stdout",
     "output_type": "stream",
     "text": [
      "0.5363\n"
     ]
    },
    {
     "name": "stderr",
     "output_type": "stream",
     "text": [
      "0.08230010830626196: 100%|██████████| 196/196 [00:13<00:00, 14.81it/s]\n"
     ]
    },
    {
     "name": "stdout",
     "output_type": "stream",
     "text": [
      "0.5454\n"
     ]
    },
    {
     "name": "stderr",
     "output_type": "stream",
     "text": [
      "0.04723064753474021: 100%|██████████| 196/196 [00:11<00:00, 16.85it/s]\n"
     ]
    },
    {
     "name": "stdout",
     "output_type": "stream",
     "text": [
      "0.5534\n"
     ]
    },
    {
     "name": "stderr",
     "output_type": "stream",
     "text": [
      "0.03535115962125817: 100%|██████████| 196/196 [00:13<00:00, 14.59it/s]\n"
     ]
    },
    {
     "name": "stdout",
     "output_type": "stream",
     "text": [
      "0.5539\n"
     ]
    },
    {
     "name": "stderr",
     "output_type": "stream",
     "text": [
      "0.025678359732335926: 100%|██████████| 196/196 [00:12<00:00, 16.01it/s]\n"
     ]
    },
    {
     "name": "stdout",
     "output_type": "stream",
     "text": [
      "0.5495\n"
     ]
    },
    {
     "name": "stderr",
     "output_type": "stream",
     "text": [
      "0.033483772861714264: 100%|██████████| 196/196 [00:12<00:00, 16.05it/s]\n"
     ]
    },
    {
     "name": "stdout",
     "output_type": "stream",
     "text": [
      "0.5502\n"
     ]
    },
    {
     "name": "stderr",
     "output_type": "stream",
     "text": [
      "0.05054748788171885: 100%|██████████| 196/196 [00:12<00:00, 15.27it/s]\n"
     ]
    },
    {
     "name": "stdout",
     "output_type": "stream",
     "text": [
      "0.5409\n"
     ]
    },
    {
     "name": "stderr",
     "output_type": "stream",
     "text": [
      "0.052287486134743204: 100%|██████████| 196/196 [00:11<00:00, 17.22it/s]\n"
     ]
    },
    {
     "name": "stdout",
     "output_type": "stream",
     "text": [
      "0.5462\n"
     ]
    },
    {
     "name": "stderr",
     "output_type": "stream",
     "text": [
      "0.04220395185509507: 100%|██████████| 196/196 [00:13<00:00, 14.06it/s]\n"
     ]
    },
    {
     "name": "stdout",
     "output_type": "stream",
     "text": [
      "0.5403\n"
     ]
    },
    {
     "name": "stderr",
     "output_type": "stream",
     "text": [
      "0.034602077639832786: 100%|██████████| 196/196 [00:11<00:00, 17.17it/s]\n"
     ]
    },
    {
     "name": "stdout",
     "output_type": "stream",
     "text": [
      "0.5568\n"
     ]
    },
    {
     "name": "stderr",
     "output_type": "stream",
     "text": [
      "0.013289584189045186: 100%|██████████| 196/196 [00:12<00:00, 15.75it/s]\n"
     ]
    },
    {
     "name": "stdout",
     "output_type": "stream",
     "text": [
      "0.5595\n"
     ]
    },
    {
     "name": "stderr",
     "output_type": "stream",
     "text": [
      "0.005615026366953947: 100%|██████████| 196/196 [00:11<00:00, 16.87it/s]\n"
     ]
    },
    {
     "name": "stdout",
     "output_type": "stream",
     "text": [
      "0.5699\n"
     ]
    },
    {
     "name": "stderr",
     "output_type": "stream",
     "text": [
      "0.0016669843878064836: 100%|██████████| 196/196 [00:11<00:00, 17.38it/s]\n"
     ]
    },
    {
     "name": "stdout",
     "output_type": "stream",
     "text": [
      "0.5734\n"
     ]
    },
    {
     "name": "stderr",
     "output_type": "stream",
     "text": [
      "0.0004728223976432061: 100%|██████████| 196/196 [00:14<00:00, 13.59it/s]\n"
     ]
    },
    {
     "name": "stdout",
     "output_type": "stream",
     "text": [
      "0.5747\n"
     ]
    },
    {
     "name": "stderr",
     "output_type": "stream",
     "text": [
      "0.002700097098642466: 100%|██████████| 196/196 [00:11<00:00, 17.16it/s]\n"
     ]
    },
    {
     "name": "stdout",
     "output_type": "stream",
     "text": [
      "0.569\n"
     ]
    },
    {
     "name": "stderr",
     "output_type": "stream",
     "text": [
      "0.035041400364467075: 100%|██████████| 196/196 [00:11<00:00, 16.58it/s]\n"
     ]
    },
    {
     "name": "stdout",
     "output_type": "stream",
     "text": [
      "0.5321\n"
     ]
    },
    {
     "name": "stderr",
     "output_type": "stream",
     "text": [
      "0.1694098102803133: 100%|██████████| 196/196 [00:11<00:00, 17.37it/s]\n"
     ]
    },
    {
     "name": "stdout",
     "output_type": "stream",
     "text": [
      "0.5417\n"
     ]
    },
    {
     "name": "stderr",
     "output_type": "stream",
     "text": [
      "0.03985445840018136: 100%|██████████| 196/196 [00:11<00:00, 16.67it/s]\n"
     ]
    },
    {
     "name": "stdout",
     "output_type": "stream",
     "text": [
      "0.5503\n"
     ]
    },
    {
     "name": "stderr",
     "output_type": "stream",
     "text": [
      "0.007813757171436233: 100%|██████████| 196/196 [00:12<00:00, 15.78it/s]\n"
     ]
    },
    {
     "name": "stdout",
     "output_type": "stream",
     "text": [
      "0.5645\n"
     ]
    },
    {
     "name": "stderr",
     "output_type": "stream",
     "text": [
      "0.0014045872554487111: 100%|██████████| 196/196 [00:11<00:00, 17.32it/s]\n"
     ]
    },
    {
     "name": "stdout",
     "output_type": "stream",
     "text": [
      "0.5739\n"
     ]
    },
    {
     "name": "stderr",
     "output_type": "stream",
     "text": [
      "0.00025360767102363156: 100%|██████████| 196/196 [00:11<00:00, 17.31it/s]\n"
     ]
    },
    {
     "name": "stdout",
     "output_type": "stream",
     "text": [
      "0.5746\n"
     ]
    },
    {
     "name": "stderr",
     "output_type": "stream",
     "text": [
      "0.00016343722842177566: 100%|██████████| 196/196 [00:11<00:00, 17.36it/s]\n"
     ]
    },
    {
     "name": "stdout",
     "output_type": "stream",
     "text": [
      "0.5744\n"
     ]
    },
    {
     "name": "stderr",
     "output_type": "stream",
     "text": [
      "0.00013200691616048618: 100%|██████████| 196/196 [00:14<00:00, 13.88it/s]\n"
     ]
    },
    {
     "name": "stdout",
     "output_type": "stream",
     "text": [
      "0.575\n"
     ]
    },
    {
     "name": "stderr",
     "output_type": "stream",
     "text": [
      "0.00011143363936215032: 100%|██████████| 196/196 [00:11<00:00, 17.27it/s]\n"
     ]
    },
    {
     "name": "stdout",
     "output_type": "stream",
     "text": [
      "0.5736\n"
     ]
    },
    {
     "name": "stderr",
     "output_type": "stream",
     "text": [
      "9.614132268696416e-05: 100%|██████████| 196/196 [00:11<00:00, 16.43it/s]\n"
     ]
    },
    {
     "name": "stdout",
     "output_type": "stream",
     "text": [
      "0.574\n"
     ]
    },
    {
     "name": "stderr",
     "output_type": "stream",
     "text": [
      "8.386089371479287e-05: 100%|██████████| 196/196 [00:11<00:00, 17.28it/s]\n"
     ]
    },
    {
     "name": "stdout",
     "output_type": "stream",
     "text": [
      "0.5743\n"
     ]
    },
    {
     "name": "stderr",
     "output_type": "stream",
     "text": [
      "7.397061384910223e-05: 100%|██████████| 196/196 [00:11<00:00, 17.49it/s]\n"
     ]
    },
    {
     "name": "stdout",
     "output_type": "stream",
     "text": [
      "0.5753\n"
     ]
    },
    {
     "name": "stderr",
     "output_type": "stream",
     "text": [
      "6.562673809881113e-05: 100%|██████████| 196/196 [00:14<00:00, 13.32it/s]\n"
     ]
    },
    {
     "name": "stdout",
     "output_type": "stream",
     "text": [
      "0.5751\n"
     ]
    },
    {
     "name": "stderr",
     "output_type": "stream",
     "text": [
      "5.847896088142784e-05: 100%|██████████| 196/196 [00:11<00:00, 17.34it/s]\n"
     ]
    },
    {
     "name": "stdout",
     "output_type": "stream",
     "text": [
      "0.5758\n"
     ]
    },
    {
     "name": "stderr",
     "output_type": "stream",
     "text": [
      "5.248801459615328e-05: 100%|██████████| 196/196 [00:11<00:00, 16.41it/s]\n"
     ]
    },
    {
     "name": "stdout",
     "output_type": "stream",
     "text": [
      "0.5758\n"
     ]
    },
    {
     "name": "stderr",
     "output_type": "stream",
     "text": [
      "4.71783450291473e-05: 100%|██████████| 196/196 [00:11<00:00, 17.29it/s]\n"
     ]
    },
    {
     "name": "stdout",
     "output_type": "stream",
     "text": [
      "0.5764\n"
     ]
    },
    {
     "name": "stderr",
     "output_type": "stream",
     "text": [
      "4.261523504190299e-05: 100%|██████████| 196/196 [00:11<00:00, 16.68it/s]\n"
     ]
    },
    {
     "name": "stdout",
     "output_type": "stream",
     "text": [
      "0.5766\n"
     ]
    },
    {
     "name": "stderr",
     "output_type": "stream",
     "text": [
      "3.829606742198978e-05: 100%|██████████| 196/196 [00:14<00:00, 13.29it/s]\n"
     ]
    },
    {
     "name": "stdout",
     "output_type": "stream",
     "text": [
      "0.5773\n"
     ]
    },
    {
     "name": "stderr",
     "output_type": "stream",
     "text": [
      "3.4618284078124833e-05: 100%|██████████| 196/196 [00:11<00:00, 16.96it/s]\n"
     ]
    },
    {
     "name": "stdout",
     "output_type": "stream",
     "text": [
      "0.5769\n"
     ]
    },
    {
     "name": "stderr",
     "output_type": "stream",
     "text": [
      "3.13226565984743e-05: 100%|██████████| 196/196 [00:11<00:00, 17.42it/s]\n"
     ]
    },
    {
     "name": "stdout",
     "output_type": "stream",
     "text": [
      "0.578\n"
     ]
    },
    {
     "name": "stderr",
     "output_type": "stream",
     "text": [
      "2.841223078798883e-05: 100%|██████████| 196/196 [00:11<00:00, 17.17it/s]\n"
     ]
    },
    {
     "name": "stdout",
     "output_type": "stream",
     "text": [
      "0.5779\n"
     ]
    },
    {
     "name": "stderr",
     "output_type": "stream",
     "text": [
      "2.5747541091119755e-05: 100%|██████████| 196/196 [00:11<00:00, 17.22it/s]\n"
     ]
    },
    {
     "name": "stdout",
     "output_type": "stream",
     "text": [
      "0.5784\n"
     ]
    },
    {
     "name": "stderr",
     "output_type": "stream",
     "text": [
      "2.3366957047612082e-05: 100%|██████████| 196/196 [00:13<00:00, 14.42it/s]\n"
     ]
    },
    {
     "name": "stdout",
     "output_type": "stream",
     "text": [
      "0.5779\n"
     ]
    },
    {
     "name": "stderr",
     "output_type": "stream",
     "text": [
      "2.117977211517947e-05: 100%|██████████| 196/196 [00:11<00:00, 17.51it/s]\n"
     ]
    },
    {
     "name": "stdout",
     "output_type": "stream",
     "text": [
      "0.578\n"
     ]
    },
    {
     "name": "stderr",
     "output_type": "stream",
     "text": [
      "1.9235100492606967e-05: 100%|██████████| 196/196 [00:11<00:00, 17.35it/s]\n"
     ]
    },
    {
     "name": "stdout",
     "output_type": "stream",
     "text": [
      "0.5788\n"
     ]
    },
    {
     "name": "stderr",
     "output_type": "stream",
     "text": [
      "1.7459743076517266e-05: 100%|██████████| 196/196 [00:11<00:00, 16.71it/s]\n"
     ]
    },
    {
     "name": "stdout",
     "output_type": "stream",
     "text": [
      "0.5789\n"
     ]
    },
    {
     "name": "stderr",
     "output_type": "stream",
     "text": [
      "1.588589226712986e-05: 100%|██████████| 196/196 [00:12<00:00, 15.43it/s]\n"
     ]
    },
    {
     "name": "stdout",
     "output_type": "stream",
     "text": [
      "0.5784\n"
     ]
    },
    {
     "name": "stderr",
     "output_type": "stream",
     "text": [
      "1.4401587410544863e-05: 100%|██████████| 196/196 [00:12<00:00, 15.41it/s]\n"
     ]
    },
    {
     "name": "stdout",
     "output_type": "stream",
     "text": [
      "0.5793\n"
     ]
    },
    {
     "name": "stderr",
     "output_type": "stream",
     "text": [
      "1.3086940066850916e-05: 100%|██████████| 196/196 [00:11<00:00, 17.34it/s]\n"
     ]
    },
    {
     "name": "stdout",
     "output_type": "stream",
     "text": [
      "0.579\n"
     ]
    },
    {
     "name": "stderr",
     "output_type": "stream",
     "text": [
      "1.1877289840153285e-05: 100%|██████████| 196/196 [00:11<00:00, 16.52it/s]\n"
     ]
    },
    {
     "name": "stdout",
     "output_type": "stream",
     "text": [
      "0.5795\n"
     ]
    },
    {
     "name": "stderr",
     "output_type": "stream",
     "text": [
      "1.0801861727876322e-05: 100%|██████████| 196/196 [00:11<00:00, 17.39it/s]\n"
     ]
    },
    {
     "name": "stdout",
     "output_type": "stream",
     "text": [
      "0.5794\n"
     ]
    },
    {
     "name": "stderr",
     "output_type": "stream",
     "text": [
      "9.80095783419603e-06: 100%|██████████| 196/196 [00:14<00:00, 13.08it/s]\n"
     ]
    },
    {
     "name": "stdout",
     "output_type": "stream",
     "text": [
      "0.5785\n"
     ]
    },
    {
     "name": "stderr",
     "output_type": "stream",
     "text": [
      "8.92009179830095e-06: 100%|██████████| 196/196 [00:11<00:00, 17.26it/s]\n"
     ]
    },
    {
     "name": "stdout",
     "output_type": "stream",
     "text": [
      "0.5786\n"
     ]
    },
    {
     "name": "stderr",
     "output_type": "stream",
     "text": [
      "8.08581921309993e-06: 100%|██████████| 196/196 [00:11<00:00, 17.29it/s]\n"
     ]
    },
    {
     "name": "stdout",
     "output_type": "stream",
     "text": [
      "0.5799\n"
     ]
    },
    {
     "name": "stderr",
     "output_type": "stream",
     "text": [
      "7.338918702752919e-06: 100%|██████████| 196/196 [00:11<00:00, 17.37it/s]\n"
     ]
    },
    {
     "name": "stdout",
     "output_type": "stream",
     "text": [
      "0.5794\n"
     ]
    },
    {
     "name": "stderr",
     "output_type": "stream",
     "text": [
      "6.658186047927154e-06: 100%|██████████| 196/196 [00:11<00:00, 17.26it/s]\n"
     ]
    },
    {
     "name": "stdout",
     "output_type": "stream",
     "text": [
      "0.5792\n"
     ]
    },
    {
     "name": "stderr",
     "output_type": "stream",
     "text": [
      "6.0503477971924814e-06: 100%|██████████| 196/196 [00:15<00:00, 12.60it/s]\n"
     ]
    },
    {
     "name": "stdout",
     "output_type": "stream",
     "text": [
      "0.5796\n"
     ]
    },
    {
     "name": "stderr",
     "output_type": "stream",
     "text": [
      "5.4836112825314e-06: 100%|██████████| 196/196 [00:11<00:00, 17.17it/s]\n"
     ]
    },
    {
     "name": "stdout",
     "output_type": "stream",
     "text": [
      "0.5796\n"
     ]
    },
    {
     "name": "stderr",
     "output_type": "stream",
     "text": [
      "4.965553300132101e-06: 100%|██████████| 196/196 [00:11<00:00, 16.87it/s]\n"
     ]
    },
    {
     "name": "stdout",
     "output_type": "stream",
     "text": [
      "0.5799\n"
     ]
    },
    {
     "name": "stderr",
     "output_type": "stream",
     "text": [
      "4.503893195556439e-06: 100%|██████████| 196/196 [00:11<00:00, 17.40it/s]\n"
     ]
    },
    {
     "name": "stdout",
     "output_type": "stream",
     "text": [
      "0.5798\n"
     ]
    },
    {
     "name": "stderr",
     "output_type": "stream",
     "text": [
      "4.086061083825723e-06: 100%|██████████| 196/196 [00:11<00:00, 16.46it/s]\n"
     ]
    },
    {
     "name": "stdout",
     "output_type": "stream",
     "text": [
      "0.5806\n"
     ]
    },
    {
     "name": "stderr",
     "output_type": "stream",
     "text": [
      "3.709720640101147e-06: 100%|██████████| 196/196 [00:15<00:00, 12.72it/s]\n"
     ]
    },
    {
     "name": "stdout",
     "output_type": "stream",
     "text": [
      "0.5802\n"
     ]
    },
    {
     "name": "stderr",
     "output_type": "stream",
     "text": [
      "3.359531175953393e-06: 100%|██████████| 196/196 [00:11<00:00, 16.79it/s]\n"
     ]
    },
    {
     "name": "stdout",
     "output_type": "stream",
     "text": [
      "0.5805\n"
     ]
    },
    {
     "name": "stderr",
     "output_type": "stream",
     "text": [
      "3.0460722307313462e-06: 100%|██████████| 196/196 [00:11<00:00, 17.32it/s]\n"
     ]
    },
    {
     "name": "stdout",
     "output_type": "stream",
     "text": [
      "0.5809\n"
     ]
    },
    {
     "name": "stderr",
     "output_type": "stream",
     "text": [
      "2.763102220713484e-06: 100%|██████████| 196/196 [00:11<00:00, 17.31it/s]\n"
     ]
    },
    {
     "name": "stdout",
     "output_type": "stream",
     "text": [
      "0.5807\n"
     ]
    }
   ],
   "source": [
    "import torch\n",
    "from vit_pytorch import ViT\n",
    "\n",
    "v = ViT(\n",
    "    image_size = 32,\n",
    "    patch_size = 16,\n",
    "    num_classes = 10,\n",
    "    dim = 768,\n",
    "    depth = 4,\n",
    "    heads = 2,\n",
    "    mlp_dim = 1024,\n",
    "    dropout = 0.1,\n",
    "    emb_dropout = 0.1\n",
    ")\n",
    "v.eval()\n",
    "v = torch.nn.Sequential(*(list(v.children())[:-1])) # get rid of MLP dim\n",
    "# MLP dim consists of Layernorm and then activationless FC\n",
    "v = torch.nn.Sequential(*(list(v.children()) + [nn.BatchNorm1d(4)])) #\n",
    "#replace_layers(v, nn.Softmax, make_linear())\n",
    "\n",
    "losslist_r = []\n",
    "\n",
    "#Head = torch.nn.Sequential(*(list([ViT(image_size=32, patch_size=32, num_classes=10, dim=768, depth=1, heads=4, mlp_dim=3072)]))) # might want to increase head size bc the ViT is just interpresting patterns this actually makes decision\n",
    "Head = torch.nn.Sequential(*(list([nn.Flatten(), nn.LayerNorm(3072), nn.Linear(3072, 10)])))\n",
    "\n",
    "\n",
    "v = v.to(device)\n",
    "Head = Head.to(device)\n",
    "\n",
    "voptimizer = torch.optim.Adam(v.parameters(), lr=.0001)\n",
    "hoptimizer = torch.optim.Adam(Head.parameters(), lr=.0001)\n",
    "import random\n",
    "loops = 2 # might need to reward not having vanishing things, right now problem is prob that numbers get smaller and smaller - actually use Batch norm\n",
    "\n",
    "acc = 0\n",
    "total = 0\n",
    "\n",
    "for epoch in range(100):\n",
    "    t = tqdm.tqdm(train_dataloader, position=0, leave=True)\n",
    "    tloss = 0\n",
    "\n",
    "    for n, (x, y) in enumerate(t):\n",
    "        bs = x.shape[0]\n",
    "        x = x.to(device)\n",
    "        #print(x.shape)\n",
    "        y = y.to(device)\n",
    "        \n",
    "        for i in range(loops):\n",
    "            \n",
    "            x = v(x)\n",
    "            x = x.reshape(bs, 3, 32, 32)\n",
    "            #print(x[0][0][0])\n",
    "            #print(x.shape)\n",
    "\n",
    "        f_y_hat = Head(x)\n",
    "        \n",
    "        loss = torch.nn.CrossEntropyLoss()((f_y_hat).reshape([bs, 10]), y) # nn.ReLU()\n",
    "        loss.backward()\n",
    "        tloss += loss\n",
    "\n",
    "        hoptimizer.step() \n",
    "        hoptimizer.zero_grad()\n",
    "        voptimizer.step() \n",
    "        voptimizer.zero_grad()\n",
    "        \n",
    "        t.set_description_str(str(tloss.detach().cpu().numpy()/(n+1))) # 14:.2\n",
    "    l = test(loops)\n",
    "    print(l)\n",
    "    losslist_r.append(l)\n",
    "        \n",
    "# do hyperparam search on heads, depth and how many times to recurse"
   ]
  },
  {
   "cell_type": "code",
   "execution_count": 11,
   "id": "606f0bcf",
   "metadata": {
    "execution": {
     "iopub.execute_input": "2021-09-28T22:24:53.181432Z",
     "iopub.status.busy": "2021-09-28T22:24:53.180507Z",
     "iopub.status.idle": "2021-09-28T22:24:55.496235Z",
     "shell.execute_reply": "2021-09-28T22:24:55.496629Z",
     "shell.execute_reply.started": "2021-09-28T21:59:41.549614Z"
    },
    "papermill": {
     "duration": 10.200687,
     "end_time": "2021-09-28T22:24:55.496779",
     "exception": false,
     "start_time": "2021-09-28T22:24:45.296092",
     "status": "completed"
    },
    "tags": []
   },
   "outputs": [
    {
     "data": {
      "text/plain": [
       "0.5806"
      ]
     },
     "execution_count": 11,
     "metadata": {},
     "output_type": "execute_result"
    }
   ],
   "source": [
    "test(loops)"
   ]
  },
  {
   "cell_type": "code",
   "execution_count": 12,
   "id": "73081dd4",
   "metadata": {
    "execution": {
     "iopub.execute_input": "2021-09-28T22:25:11.492560Z",
     "iopub.status.busy": "2021-09-28T22:25:11.491646Z",
     "iopub.status.idle": "2021-09-28T22:25:11.494654Z",
     "shell.execute_reply": "2021-09-28T22:25:11.495061Z",
     "shell.execute_reply.started": "2021-09-28T21:59:41.551667Z"
    },
    "papermill": {
     "duration": 8.172247,
     "end_time": "2021-09-28T22:25:11.495201",
     "exception": false,
     "start_time": "2021-09-28T22:25:03.322954",
     "status": "completed"
    },
    "tags": []
   },
   "outputs": [
    {
     "name": "stdout",
     "output_type": "stream",
     "text": [
      "[0.3977, 0.4596, 0.4942, 0.5194, 0.5379, 0.5443, 0.5424, 0.5506, 0.5485, 0.5449, 0.5384, 0.5494, 0.5431, 0.5425, 0.5316, 0.5392, 0.5403, 0.5477, 0.5429, 0.5441, 0.5472, 0.5546, 0.5571, 0.5489, 0.5349, 0.541, 0.5535, 0.5589, 0.5446, 0.5497, 0.5394, 0.5462, 0.5536, 0.553, 0.5443, 0.5407, 0.5503, 0.5475, 0.5545, 0.556, 0.5363, 0.5454, 0.5534, 0.5539, 0.5495, 0.5502, 0.5409, 0.5462, 0.5403, 0.5568, 0.5595, 0.5699, 0.5734, 0.5747, 0.569, 0.5321, 0.5417, 0.5503, 0.5645, 0.5739, 0.5746, 0.5744, 0.575, 0.5736, 0.574, 0.5743, 0.5753, 0.5751, 0.5758, 0.5758, 0.5764, 0.5766, 0.5773, 0.5769, 0.578, 0.5779, 0.5784, 0.5779, 0.578, 0.5788, 0.5789, 0.5784, 0.5793, 0.579, 0.5795, 0.5794, 0.5785, 0.5786, 0.5799, 0.5794, 0.5792, 0.5796, 0.5796, 0.5799, 0.5798, 0.5806, 0.5802, 0.5805, 0.5809, 0.5807]\n"
     ]
    }
   ],
   "source": [
    "print(losslist_r)"
   ]
  },
  {
   "cell_type": "code",
   "execution_count": 13,
   "id": "4e03107b",
   "metadata": {
    "execution": {
     "iopub.execute_input": "2021-09-28T22:25:27.249850Z",
     "iopub.status.busy": "2021-09-28T22:25:27.249100Z",
     "iopub.status.idle": "2021-09-28T22:25:27.323287Z",
     "shell.execute_reply": "2021-09-28T22:25:27.322785Z",
     "shell.execute_reply.started": "2021-09-28T21:59:41.553755Z"
    },
    "papermill": {
     "duration": 7.882718,
     "end_time": "2021-09-28T22:25:27.323447",
     "exception": false,
     "start_time": "2021-09-28T22:25:19.440729",
     "status": "completed"
    },
    "tags": []
   },
   "outputs": [],
   "source": [
    "torch.save(v.state_dict(), \"vn\")\n",
    "torch.save(Head.state_dict(), \"Hn\")"
   ]
  },
  {
   "cell_type": "code",
   "execution_count": 14,
   "id": "911f8608",
   "metadata": {
    "execution": {
     "iopub.execute_input": "2021-09-28T22:25:43.351295Z",
     "iopub.status.busy": "2021-09-28T22:25:43.350638Z",
     "iopub.status.idle": "2021-09-28T22:25:43.559751Z",
     "shell.execute_reply": "2021-09-28T22:25:43.559242Z",
     "shell.execute_reply.started": "2021-09-28T21:59:41.555878Z"
    },
    "papermill": {
     "duration": 8.679544,
     "end_time": "2021-09-28T22:25:43.559874",
     "exception": false,
     "start_time": "2021-09-28T22:25:34.880330",
     "status": "completed"
    },
    "tags": []
   },
   "outputs": [
    {
     "data": {
      "image/png": "[encoded data removed]",
      "text/plain": [
       "<Figure size 432x288 with 1 Axes>"
      ]
     },
     "metadata": {
      "needs_background": "light"
     },
     "output_type": "display_data"
    }
   ],
   "source": [
    "import matplotlib.pyplot as plt\n",
    "\n",
    "plt.plot(list(range(len(losslist_n))), losslist_n, label=\"Baseline\")\n",
    "plt.plot(list(range(len(losslist_r))), losslist_r, label=\"Recursive\")\n",
    "plt.legend()\n",
    "plt.show()"
   ]
  }
 ],
 "metadata": {
  "kernelspec": {
   "display_name": "Python 3",
   "language": "python",
   "name": "python3"
  },
  "language_info": {
   "codemirror_mode": {
    "name": "ipython",
    "version": 3
   },
   "file_extension": ".py",
   "mimetype": "text/x-python",
   "name": "python",
   "nbconvert_exporter": "python",
   "pygments_lexer": "ipython3",
   "version": "3.7.10"
  },
  "papermill": {
   "default_parameters": {},
   "duration": 1555.995112,
   "end_time": "2021-09-28T22:25:53.025803",
   "environment_variables": {},
   "exception": null,
   "input_path": "__notebook__.ipynb",
   "output_path": "__notebook__.ipynb",
   "parameters": {},
   "start_time": "2021-09-28T21:59:57.030691",
   "version": "2.3.3"
  },
  "widgets": {
   "application/vnd.jupyter.widget-state+json": {
    "state": {
     "14e37c7c3d52449896ba5f256fe010d1": {
      "model_module": "@jupyter-widgets/controls",
      "model_module_version": "1.5.0",
      "model_name": "HTMLModel",
      "state": {
       "_dom_classes": [],
       "_model_module": "@jupyter-widgets/controls",
       "_model_module_version": "1.5.0",
       "_model_name": "HTMLModel",
       "_view_count": null,
       "_view_module": "@jupyter-widgets/controls",
       "_view_module_version": "1.5.0",
       "_view_name": "HTMLView",
       "description": "",
       "description_tooltip": null,
       "layout": "IPY_MODEL_cc7da5aa77094032adf367625d11bcb3",
       "placeholder": "​",
       "style": "IPY_MODEL_858c084f452843a18f758e1754f7d9ce",
       "value": " 170500096/? [00:20&lt;00:00, 72737087.32it/s]"
      }
     },
     "42b1ac0f94c041c48c6d33db2a7a384c": {
      "model_module": "@jupyter-widgets/controls",
      "model_module_version": "1.5.0",
      "model_name": "HBoxModel",
      "state": {
       "_dom_classes": [],
       "_model_module": "@jupyter-widgets/controls",
       "_model_module_version": "1.5.0",
       "_model_name": "HBoxModel",
       "_view_count": null,
       "_view_module": "@jupyter-widgets/controls",
       "_view_module_version": "1.5.0",
       "_view_name": "HBoxView",
       "box_style": "",
       "children": [
        "IPY_MODEL_95b50074e9874b9b82f5b75b37c60c54",
        "IPY_MODEL_c39389b85a92402986b656080bdbcc09",
        "IPY_MODEL_14e37c7c3d52449896ba5f256fe010d1"
       ],
       "layout": "IPY_MODEL_4f492d7779de4143b584652a42d8d5e6"
      }
     },
     "4a354c9c68af451283ed4fe7705bb2fb": {
      "model_module": "@jupyter-widgets/controls",
      "model_module_version": "1.5.0",
      "model_name": "DescriptionStyleModel",
      "state": {
       "_model_module": "@jupyter-widgets/controls",
       "_model_module_version": "1.5.0",
       "_model_name": "DescriptionStyleModel",
       "_view_count": null,
       "_view_module": "@jupyter-widgets/base",
       "_view_module_version": "1.2.0",
       "_view_name": "StyleView",
       "description_width": ""
      }
     },
     "4f492d7779de4143b584652a42d8d5e6": {
      "model_module": "@jupyter-widgets/base",
      "model_module_version": "1.2.0",
      "model_name": "LayoutModel",
      "state": {
       "_model_module": "@jupyter-widgets/base",
       "_model_module_version": "1.2.0",
       "_model_name": "LayoutModel",
       "_view_count": null,
       "_view_module": "@jupyter-widgets/base",
       "_view_module_version": "1.2.0",
       "_view_name": "LayoutView",
       "align_content": null,
       "align_items": null,
       "align_self": null,
       "border": null,
       "bottom": null,
       "display": null,
       "flex": null,
       "flex_flow": null,
       "grid_area": null,
       "grid_auto_columns": null,
       "grid_auto_flow": null,
       "grid_auto_rows": null,
       "grid_column": null,
       "grid_gap": null,
       "grid_row": null,
       "grid_template_areas": null,
       "grid_template_columns": null,
       "grid_template_rows": null,
       "height": null,
       "justify_content": null,
       "justify_items": null,
       "left": null,
       "margin": null,
       "max_height": null,
       "max_width": null,
       "min_height": null,
       "min_width": null,
       "object_fit": null,
       "object_position": null,
       "order": null,
       "overflow": null,
       "overflow_x": null,
       "overflow_y": null,
       "padding": null,
       "right": null,
       "top": null,
       "visibility": null,
       "width": null
      }
     },
     "858c084f452843a18f758e1754f7d9ce": {
      "model_module": "@jupyter-widgets/controls",
      "model_module_version": "1.5.0",
      "model_name": "DescriptionStyleModel",
      "state": {
       "_model_module": "@jupyter-widgets/controls",
       "_model_module_version": "1.5.0",
       "_model_name": "DescriptionStyleModel",
       "_view_count": null,
       "_view_module": "@jupyter-widgets/base",
       "_view_module_version": "1.2.0",
       "_view_name": "StyleView",
       "description_width": ""
      }
     },
     "95b50074e9874b9b82f5b75b37c60c54": {
      "model_module": "@jupyter-widgets/controls",
      "model_module_version": "1.5.0",
      "model_name": "HTMLModel",
      "state": {
       "_dom_classes": [],
       "_model_module": "@jupyter-widgets/controls",
       "_model_module_version": "1.5.0",
       "_model_name": "HTMLModel",
       "_view_count": null,
       "_view_module": "@jupyter-widgets/controls",
       "_view_module_version": "1.5.0",
       "_view_name": "HTMLView",
       "description": "",
       "description_tooltip": null,
       "layout": "IPY_MODEL_9f20d300b7a24bb3b80a0b1d27fc9990",
       "placeholder": "​",
       "style": "IPY_MODEL_4a354c9c68af451283ed4fe7705bb2fb",
       "value": ""
      }
     },
     "9f20d300b7a24bb3b80a0b1d27fc9990": {
      "model_module": "@jupyter-widgets/base",
      "model_module_version": "1.2.0",
      "model_name": "LayoutModel",
      "state": {
       "_model_module": "@jupyter-widgets/base",
       "_model_module_version": "1.2.0",
       "_model_name": "LayoutModel",
       "_view_count": null,
       "_view_module": "@jupyter-widgets/base",
       "_view_module_version": "1.2.0",
       "_view_name": "LayoutView",
       "align_content": null,
       "align_items": null,
       "align_self": null,
       "border": null,
       "bottom": null,
       "display": null,
       "flex": null,
       "flex_flow": null,
       "grid_area": null,
       "grid_auto_columns": null,
       "grid_auto_flow": null,
       "grid_auto_rows": null,
       "grid_column": null,
       "grid_gap": null,
       "grid_row": null,
       "grid_template_areas": null,
       "grid_template_columns": null,
       "grid_template_rows": null,
       "height": null,
       "justify_content": null,
       "justify_items": null,
       "left": null,
       "margin": null,
       "max_height": null,
       "max_width": null,
       "min_height": null,
       "min_width": null,
       "object_fit": null,
       "object_position": null,
       "order": null,
       "overflow": null,
       "overflow_x": null,
       "overflow_y": null,
       "padding": null,
       "right": null,
       "top": null,
       "visibility": null,
       "width": null
      }
     },
     "c39389b85a92402986b656080bdbcc09": {
      "model_module": "@jupyter-widgets/controls",
      "model_module_version": "1.5.0",
      "model_name": "FloatProgressModel",
      "state": {
       "_dom_classes": [],
       "_model_module": "@jupyter-widgets/controls",
       "_model_module_version": "1.5.0",
       "_model_name": "FloatProgressModel",
       "_view_count": null,
       "_view_module": "@jupyter-widgets/controls",
       "_view_module_version": "1.5.0",
       "_view_name": "ProgressView",
       "bar_style": "info",
       "description": "",
       "description_tooltip": null,
       "layout": "IPY_MODEL_e894ed5fb888428786fd89d681d77982",
       "max": 1.0,
       "min": 0.0,
       "orientation": "horizontal",
       "style": "IPY_MODEL_d396faebd7cd41afbcc936b77e283625",
       "value": 1.0
      }
     },
     "cc7da5aa77094032adf367625d11bcb3": {
      "model_module": "@jupyter-widgets/base",
      "model_module_version": "1.2.0",
      "model_name": "LayoutModel",
      "state": {
       "_model_module": "@jupyter-widgets/base",
       "_model_module_version": "1.2.0",
       "_model_name": "LayoutModel",
       "_view_count": null,
       "_view_module": "@jupyter-widgets/base",
       "_view_module_version": "1.2.0",
       "_view_name": "LayoutView",
       "align_content": null,
       "align_items": null,
       "align_self": null,
       "border": null,
       "bottom": null,
       "display": null,
       "flex": null,
       "flex_flow": null,
       "grid_area": null,
       "grid_auto_columns": null,
       "grid_auto_flow": null,
       "grid_auto_rows": null,
       "grid_column": null,
       "grid_gap": null,
       "grid_row": null,
       "grid_template_areas": null,
       "grid_template_columns": null,
       "grid_template_rows": null,
       "height": null,
       "justify_content": null,
       "justify_items": null,
       "left": null,
       "margin": null,
       "max_height": null,
       "max_width": null,
       "min_height": null,
       "min_width": null,
       "object_fit": null,
       "object_position": null,
       "order": null,
       "overflow": null,
       "overflow_x": null,
       "overflow_y": null,
       "padding": null,
       "right": null,
       "top": null,
       "visibility": null,
       "width": null
      }
     },
     "d396faebd7cd41afbcc936b77e283625": {
      "model_module": "@jupyter-widgets/controls",
      "model_module_version": "1.5.0",
      "model_name": "ProgressStyleModel",
      "state": {
       "_model_module": "@jupyter-widgets/controls",
       "_model_module_version": "1.5.0",
       "_model_name": "ProgressStyleModel",
       "_view_count": null,
       "_view_module": "@jupyter-widgets/base",
       "_view_module_version": "1.2.0",
       "_view_name": "StyleView",
       "bar_color": null,
       "description_width": ""
      }
     },
     "e894ed5fb888428786fd89d681d77982": {
      "model_module": "@jupyter-widgets/base",
      "model_module_version": "1.2.0",
      "model_name": "LayoutModel",
      "state": {
       "_model_module": "@jupyter-widgets/base",
       "_model_module_version": "1.2.0",
       "_model_name": "LayoutModel",
       "_view_count": null,
       "_view_module": "@jupyter-widgets/base",
       "_view_module_version": "1.2.0",
       "_view_name": "LayoutView",
       "align_content": null,
       "align_items": null,
       "align_self": null,
       "border": null,
       "bottom": null,
       "display": null,
       "flex": null,
       "flex_flow": null,
       "grid_area": null,
       "grid_auto_columns": null,
       "grid_auto_flow": null,
       "grid_auto_rows": null,
       "grid_column": null,
       "grid_gap": null,
       "grid_row": null,
       "grid_template_areas": null,
       "grid_template_columns": null,
       "grid_template_rows": null,
       "height": null,
       "justify_content": null,
       "justify_items": null,
       "left": null,
       "margin": null,
       "max_height": null,
       "max_width": null,
       "min_height": null,
       "min_width": null,
       "object_fit": null,
       "object_position": null,
       "order": null,
       "overflow": null,
       "overflow_x": null,
       "overflow_y": null,
       "padding": null,
       "right": null,
       "top": null,
       "visibility": null,
       "width": "20px"
      }
     }
    },
    "version_major": 2,
    "version_minor": 0
   }
  }
 },
 "nbformat": 4,
 "nbformat_minor": 5
}
