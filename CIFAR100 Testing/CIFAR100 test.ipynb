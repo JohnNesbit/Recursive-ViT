{
 "cells": [
  {
   "cell_type": "code",
   "execution_count": 1,
   "id": "7ff5ba2f",
   "metadata": {
    "_cell_guid": "b1076dfc-b9ad-4769-8c92-a6c4dae69d19",
    "_uuid": "8f2839f25d086af736a60e9eeb907d3b93b6e0e5",
    "execution": {
     "iopub.execute_input": "2021-10-20T21:57:20.267524Z",
     "iopub.status.busy": "2021-10-20T21:57:20.266767Z",
     "iopub.status.idle": "2021-10-20T21:57:24.936819Z",
     "shell.execute_reply": "2021-10-20T21:57:24.937304Z",
     "shell.execute_reply.started": "2021-10-20T21:51:59.165891Z"
    },
    "papermill": {
     "duration": 4.766526,
     "end_time": "2021-10-20T21:57:24.937585",
     "exception": false,
     "start_time": "2021-10-20T21:57:20.171059",
     "status": "completed"
    },
    "tags": []
   },
   "outputs": [],
   "source": [
    "# current ADAM resnet18 with 200 epochs is 76% accuracy\n",
    "import numpy as np # linear algebra\n",
    "import pandas as pd # data processing, CSV file I/O (e.g. pd.read_csv)\n",
    "import os\n",
    "import torch\n",
    "from numpy import asarray\n",
    "import PIL.Image as Image\n",
    "import torch.nn as nn\n",
    "import tqdm\n",
    "import gc\n",
    "\n",
    "device = \"cuda\"\n",
    "\n",
    "torch.cuda.empty_cache()\n",
    "gc.collect()\n",
    "        \n",
    "import torchvision.transforms as transforms\n",
    "transform = transforms.ToTensor()"
   ]
  },
  {
   "cell_type": "code",
   "execution_count": 2,
   "id": "172b997b",
   "metadata": {
    "execution": {
     "iopub.execute_input": "2021-10-20T21:57:24.974099Z",
     "iopub.status.busy": "2021-10-20T21:57:24.973472Z",
     "iopub.status.idle": "2021-10-20T21:57:34.534293Z",
     "shell.execute_reply": "2021-10-20T21:57:34.533320Z",
     "shell.execute_reply.started": "2021-10-20T21:52:03.815074Z"
    },
    "papermill": {
     "duration": 9.579905,
     "end_time": "2021-10-20T21:57:34.534447",
     "exception": false,
     "start_time": "2021-10-20T21:57:24.954542",
     "status": "completed"
    },
    "tags": []
   },
   "outputs": [
    {
     "name": "stdout",
     "output_type": "stream",
     "text": [
      "Downloading https://www.cs.toronto.edu/~kriz/cifar-100-python.tar.gz to based/cifar-100-python.tar.gz\n"
     ]
    },
    {
     "data": {
      "application/vnd.jupyter.widget-view+json": {
       "model_id": "b379c0778bac4698b1afdc52d888b2de",
       "version_major": 2,
       "version_minor": 0
      },
      "text/plain": [
       "0it [00:00, ?it/s]"
      ]
     },
     "metadata": {},
     "output_type": "display_data"
    },
    {
     "name": "stdout",
     "output_type": "stream",
     "text": [
      "Extracting based/cifar-100-python.tar.gz to based\n",
      "Files already downloaded and verified\n"
     ]
    }
   ],
   "source": [
    "patch_size = 16\n",
    "\n",
    "# get dataset stuffs\n",
    "import torchvision\n",
    "from torch.utils.data import DataLoader\n",
    "from torchvision.models.utils import load_state_dict_from_url\n",
    "\n",
    "transform = transforms.Compose([\n",
    "    transforms.Resize(32),\n",
    "    transforms.ToTensor(),\n",
    "    transforms.Normalize((0.4914, 0.4822, 0.4465), (0.2023, 0.1994, 0.2010)),\n",
    "])\n",
    "\n",
    "dataset = torchvision.datasets.CIFAR100(root=\"based\", train=False, download=True, transform=transform)\n",
    "\n",
    "val_dataloader = DataLoader(dataset, batch_size=256, shuffle=True)\n",
    "\n",
    "transform = transforms.Compose([\n",
    "    transforms.RandomCrop(32, padding=4),\n",
    "    transforms.Resize(32),\n",
    "    transforms.RandomHorizontalFlip(),\n",
    "    transforms.ToTensor(),\n",
    "    transforms.Normalize((0.4914, 0.4822, 0.4465), (0.2023, 0.1994, 0.2010)),\n",
    "])\n",
    "\n",
    "\n",
    "dataset = torchvision.datasets.CIFAR100(root=\"based\", train=True, download=True, transform=transform)\n",
    "\n",
    "train_dataloader = DataLoader(dataset, batch_size=256, shuffle=True)"
   ]
  },
  {
   "cell_type": "code",
   "execution_count": 3,
   "id": "220df12c",
   "metadata": {
    "execution": {
     "iopub.execute_input": "2021-10-20T21:57:34.573188Z",
     "iopub.status.busy": "2021-10-20T21:57:34.564069Z",
     "iopub.status.idle": "2021-10-20T21:57:43.921998Z",
     "shell.execute_reply": "2021-10-20T21:57:43.921423Z",
     "shell.execute_reply.started": "2021-10-20T21:52:11.375744Z"
    },
    "papermill": {
     "duration": 9.374633,
     "end_time": "2021-10-20T21:57:43.922162",
     "exception": false,
     "start_time": "2021-10-20T21:57:34.547529",
     "status": "completed"
    },
    "tags": []
   },
   "outputs": [
    {
     "name": "stdout",
     "output_type": "stream",
     "text": [
      "Collecting vit-pytorch\r\n",
      "  Downloading vit_pytorch-0.20.8-py3-none-any.whl (35 kB)\r\n",
      "Collecting einops>=0.3\r\n",
      "  Downloading einops-0.3.2-py3-none-any.whl (25 kB)\r\n",
      "Requirement already satisfied: torchvision in /opt/conda/lib/python3.7/site-packages (from vit-pytorch) (0.8.2+cu110)\r\n",
      "Requirement already satisfied: torch>=1.6 in /opt/conda/lib/python3.7/site-packages (from vit-pytorch) (1.7.1+cu110)\r\n",
      "Requirement already satisfied: numpy in /opt/conda/lib/python3.7/site-packages (from torch>=1.6->vit-pytorch) (1.19.5)\r\n",
      "Requirement already satisfied: typing-extensions in /opt/conda/lib/python3.7/site-packages (from torch>=1.6->vit-pytorch) (3.7.4.3)\r\n",
      "Requirement already satisfied: pillow>=4.1.1 in /opt/conda/lib/python3.7/site-packages (from torchvision->vit-pytorch) (8.2.0)\r\n",
      "Installing collected packages: einops, vit-pytorch\r\n",
      "Successfully installed einops-0.3.2 vit-pytorch-0.20.8\r\n",
      "\u001b[33mWARNING: Running pip as the 'root' user can result in broken permissions and conflicting behaviour with the system package manager. It is recommended to use a virtual environment instead: https://pip.pypa.io/warnings/venv\u001b[0m\r\n"
     ]
    }
   ],
   "source": [
    "!pip install vit-pytorch"
   ]
  },
  {
   "cell_type": "code",
   "execution_count": 4,
   "id": "e7e8432a",
   "metadata": {
    "execution": {
     "iopub.execute_input": "2021-10-20T21:57:43.962468Z",
     "iopub.status.busy": "2021-10-20T21:57:43.961588Z",
     "iopub.status.idle": "2021-10-20T21:57:43.965133Z",
     "shell.execute_reply": "2021-10-20T21:57:43.964638Z",
     "shell.execute_reply.started": "2021-10-20T21:52:20.137066Z"
    },
    "papermill": {
     "duration": 0.026603,
     "end_time": "2021-10-20T21:57:43.965270",
     "exception": false,
     "start_time": "2021-10-20T21:57:43.938667",
     "status": "completed"
    },
    "tags": []
   },
   "outputs": [],
   "source": [
    "def testb():\n",
    "    acc = 0\n",
    "    total = 0\n",
    "    for n_, (x, y) in enumerate(val_dataloader):\n",
    "        x = x.to(device)\n",
    "        bs = x.shape[0]\n",
    "        x = x.reshape(bs, 3, 32, 32)\n",
    "        \n",
    "        y_hat = v(x) # add encodings?\n",
    "        for _, i in enumerate(y_hat):\n",
    "            if i.argmax() == y.to(device)[_]:\n",
    "                acc +=1\n",
    "            total +=1\n",
    "            \n",
    "    return acc/total"
   ]
  },
  {
   "cell_type": "code",
   "execution_count": 5,
   "id": "ba96633d",
   "metadata": {
    "execution": {
     "iopub.execute_input": "2021-10-20T21:57:44.007750Z",
     "iopub.status.busy": "2021-10-20T21:57:44.006888Z",
     "iopub.status.idle": "2021-10-20T21:57:44.010127Z",
     "shell.execute_reply": "2021-10-20T21:57:44.010597Z",
     "shell.execute_reply.started": "2021-10-20T21:52:20.146420Z"
    },
    "papermill": {
     "duration": 0.029014,
     "end_time": "2021-10-20T21:57:44.010736",
     "exception": false,
     "start_time": "2021-10-20T21:57:43.981722",
     "status": "completed"
    },
    "tags": []
   },
   "outputs": [
    {
     "data": {
      "text/plain": [
       "\"\\nimport torch\\nfrom vit_pytorch import ViT\\n\\n# get ViT-B/16 model\\n\\n# ViT-L/8\\nv = ViT(\\n    image_size = 32,\\n    patch_size = 8,\\n    num_classes = 10,\\n    dim = 1024,\\n    depth = 24,\\n    heads = 16,\\n    mlp_dim = 4096,\\n    dropout = 0.1,\\n    emb_dropout = 0.1\\n)\\n\\n# ViT-L/24\\nv = ViT(\\n    image_size = 32,\\n    patch_size = patch_size,\\n    num_classes = 100,\\n    dim = 1024,\\n    depth = 24,\\n    heads = 16,\\n    mlp_dim = 4096,\\n    dropout = 0.1,\\n    emb_dropout = 0.1\\n)\\n\\n#from pytorch_pretrained_vit import ViT\\n#v = ViT('B_16_imagenet1k', pretrained=True)\\n\\nv.eval()\\n\\n# initialize stuffs\\nlosslist_n = []\\nv = v.to(device)\\nvoptimizer = torch.optim.Adam(v.parameters(), lr=.0001)\\nimport random\\nimport time\\n\\ntimelist_n = []\\nacc = 0\\ntotal = 0\\n# do loop for baseline\\nstime = time.time()\\nfor epoch in range(150):\\n    t = tqdm.tqdm(train_dataloader, position=0, leave=True)\\n    tloss = 0\\n    # loop over data\\n    n = 0\\n    for (x, y) in t:\\n        n +=1\\n        bs = x.shape[0]\\n        \\n        # change device to gpu\\n        x = x.to(device)\\n        y = y.to(device)\\n        \\n        # forward pass\\n        x = x.reshape(bs, 3, 32, 32)\\n        f_y_hat = v(x)\\n        \\n        # backward pass\\n        loss = torch.nn.CrossEntropyLoss()((f_y_hat).reshape([bs, 100]), y) # nn.ReLU()\\n        loss.backward()\\n        tloss += loss\\n        \\n        # optimize\\n        voptimizer.step() \\n        voptimizer.zero_grad()\\n        \\n        # keep track of this epoch's loss\\n        t.set_description_str(str(tloss.detach().cpu().numpy()/(n+1))) # 14:.2\\n        \\n    # test epoch's accuracy and append it to the list\\n    l = testb()\\n    print(l)\\n    losslist_n.append(l)\\n    timelist_n.append(time.time() - stime)\\n    \\n# 5 = 2 normal\\n# new 1.8 = 5\""
      ]
     },
     "execution_count": 5,
     "metadata": {},
     "output_type": "execute_result"
    }
   ],
   "source": [
    "\"\"\"\n",
    "import torch\n",
    "from vit_pytorch import ViT\n",
    "\n",
    "# get ViT-B/16 model\n",
    "\"\"\"\"\"\"\n",
    "# ViT-L/8\n",
    "v = ViT(\n",
    "    image_size = 32,\n",
    "    patch_size = 8,\n",
    "    num_classes = 10,\n",
    "    dim = 1024,\n",
    "    depth = 24,\n",
    "    heads = 16,\n",
    "    mlp_dim = 4096,\n",
    "    dropout = 0.1,\n",
    "    emb_dropout = 0.1\n",
    ")\n",
    "\"\"\"\"\"\"\n",
    "# ViT-L/24\n",
    "v = ViT(\n",
    "    image_size = 32,\n",
    "    patch_size = patch_size,\n",
    "    num_classes = 100,\n",
    "    dim = 1024,\n",
    "    depth = 24,\n",
    "    heads = 16,\n",
    "    mlp_dim = 4096,\n",
    "    dropout = 0.1,\n",
    "    emb_dropout = 0.1\n",
    ")\n",
    "\n",
    "#from pytorch_pretrained_vit import ViT\n",
    "#v = ViT('B_16_imagenet1k', pretrained=True)\n",
    "\n",
    "v.eval()\n",
    "\n",
    "# initialize stuffs\n",
    "losslist_n = []\n",
    "v = v.to(device)\n",
    "voptimizer = torch.optim.Adam(v.parameters(), lr=.0001)\n",
    "import random\n",
    "import time\n",
    "\n",
    "timelist_n = []\n",
    "acc = 0\n",
    "total = 0\n",
    "# do loop for baseline\n",
    "stime = time.time()\n",
    "for epoch in range(150):\n",
    "    t = tqdm.tqdm(train_dataloader, position=0, leave=True)\n",
    "    tloss = 0\n",
    "    # loop over data\n",
    "    n = 0\n",
    "    for (x, y) in t:\n",
    "        n +=1\n",
    "        bs = x.shape[0]\n",
    "        \n",
    "        # change device to gpu\n",
    "        x = x.to(device)\n",
    "        y = y.to(device)\n",
    "        \n",
    "        # forward pass\n",
    "        x = x.reshape(bs, 3, 32, 32)\n",
    "        f_y_hat = v(x)\n",
    "        \n",
    "        # backward pass\n",
    "        loss = torch.nn.CrossEntropyLoss()((f_y_hat).reshape([bs, 100]), y) # nn.ReLU()\n",
    "        loss.backward()\n",
    "        tloss += loss\n",
    "        \n",
    "        # optimize\n",
    "        voptimizer.step() \n",
    "        voptimizer.zero_grad()\n",
    "        \n",
    "        # keep track of this epoch's loss\n",
    "        t.set_description_str(str(tloss.detach().cpu().numpy()/(n+1))) # 14:.2\n",
    "        \n",
    "    # test epoch's accuracy and append it to the list\n",
    "    l = testb()\n",
    "    print(l)\n",
    "    losslist_n.append(l)\n",
    "    timelist_n.append(time.time() - stime)\n",
    "    \n",
    "# 5 = 2 normal\n",
    "# new 1.8 = 5\"\"\""
   ]
  },
  {
   "cell_type": "code",
   "execution_count": 6,
   "id": "8b012f60",
   "metadata": {
    "execution": {
     "iopub.execute_input": "2021-10-20T21:57:44.065211Z",
     "iopub.status.busy": "2021-10-20T21:57:44.064363Z",
     "iopub.status.idle": "2021-10-20T21:57:44.066973Z",
     "shell.execute_reply": "2021-10-20T21:57:44.066509Z",
     "shell.execute_reply.started": "2021-10-20T21:52:20.164977Z"
    },
    "papermill": {
     "duration": 0.039946,
     "end_time": "2021-10-20T21:57:44.067089",
     "exception": false,
     "start_time": "2021-10-20T21:57:44.027143",
     "status": "completed"
    },
    "tags": []
   },
   "outputs": [],
   "source": [
    "# load in ViT-b/16 results from the above code ran in previous version, I seperated these two in case the session was terminated and the data would be lost\n",
    "losslist_n = [0.1125, 0.1571, 0.1903, 0.2109, 0.228, 0.2387, 0.2612, 0.2694, 0.2835, 0.2859, 0.3017, 0.3096, 0.3185, 0.3204, 0.3297, 0.3309, 0.3278, 0.3326, 0.3379, 0.3389, 0.3409, 0.3387, 0.334, 0.3429, 0.3437, 0.3393, 0.3364, 0.3377, 0.3381, 0.3439, 0.341, 0.3435, 0.3317, 0.3375, 0.3349, 0.3372, 0.336, 0.3346, 0.3371, 0.3317, 0.3368, 0.335, 0.3393, 0.3303, 0.3343, 0.3354, 0.3332, 0.3329, 0.3312, 0.3293, 0.3295, 0.3315, 0.3379, 0.33, 0.3372, 0.3286, 0.3262, 0.3315, 0.3326, 0.3345, 0.3262, 0.3346, 0.3333, 0.332, 0.329, 0.3354, 0.3321, 0.3332, 0.3375, 0.3329, 0.3295, 0.3347, 0.3314, 0.3309, 0.3338, 0.3406, 0.3357, 0.3306, 0.3357, 0.3294, 0.3316, 0.3394, 0.3362, 0.3332, 0.3393, 0.3327, 0.3325, 0.3362, 0.3366, 0.3401, 0.3345, 0.3312, 0.3401, 0.3388, 0.3398, 0.3385, 0.3367, 0.3318, 0.3329, 0.3417, 0.3292, 0.3298, 0.3381, 0.3325, 0.3346, 0.3378, 0.3302, 0.3331, 0.3295, 0.3351, 0.3333, 0.3291, 0.3335, 0.3279, 0.3287, 0.333, 0.3425, 0.3347, 0.3407, 0.3328, 0.3295, 0.3368, 0.3395, 0.339, 0.3364, 0.3346, 0.337, 0.3361, 0.3376, 0.3373, 0.3339, 0.3377, 0.3317, 0.3335, 0.3354, 0.3339, 0.3414, 0.3405, 0.336, 0.3417, 0.3351, 0.3399, 0.3379, 0.3372, 0.3364, 0.3353, 0.3361, 0.335, 0.3428, 0.3366]\n",
    "timelist_n = [109.3909056186676, 219.32841897010803, 330.2239887714386, 440.64938259124756, 550.8723154067993, 661.6802294254303, 772.5191688537598, 883.3227560520172, 993.7188138961792, 1104.4889798164368, 1215.2683954238892, 1326.759610414505, 1438.0419459342957, 1549.3627400398254, 1660.546214580536, 1771.7729749679565, 1882.780452489853, 1994.29349899292, 2106.0024552345276, 2217.4160945415497, 2329.7917895317078, 2441.832129240036, 2553.393031358719, 2665.313306570053, 2778.0282366275787, 2889.8950781822205, 3001.947208881378, 3114.400810956955, 3226.158298969269, 3338.06978392601, 3450.5861191749573, 3562.9199233055115, 3675.7412428855896, 3787.5225081443787, 3899.277026414871, 4012.113894224167, 4124.567809581757, 4236.96032500267, 4348.976878166199, 4461.409229755402, 4572.7497634887695, 4684.044063568115, 4794.418586730957, 4905.882478713989, 5016.90895986557, 5127.557297229767, 5239.191039323807, 5350.314938545227, 5461.749360799789, 5573.6781668663025, 5684.584666013718, 5797.12562251091, 5908.877532720566, 6020.923618078232, 6134.267620801926, 6244.966788291931, 6357.607537269592, 6469.2407484054565, 6581.601187467575, 6696.598705291748, 6808.995381593704, 6922.72673034668, 7035.041161298752, 7148.815472602844, 7261.254725933075, 7374.700086116791, 7489.746748924255, 7602.0384957790375, 7715.768781423569, 7827.583609342575, 7940.510193109512, 8052.863350391388, 8166.350215911865, 8278.529978513718, 8391.860353708267, 8504.166155099869, 8617.677031517029, 8729.86443901062, 8842.071582317352, 8953.977935791016, 9066.054103374481, 9177.962029218674, 9290.754925966263, 9401.391715765, 9513.591609477997, 9626.214242696762, 9738.736839294434, 9851.78499531746, 9965.374804973602, 10076.486709594727, 10189.42933678627, 10302.504204273224, 10414.840611219406, 10527.04118180275, 10637.631758213043, 10750.412248849869, 10863.167299747467, 10976.032071113586, 11089.047140359879, 11202.331527471542, 11314.175335884094, 11426.381892442703, 11539.098245382309, 11651.79485154152, 11765.299384832382, 11876.79697561264, 11989.583955526352, 12103.023235321045, 12216.449891090393, 12329.994505167007, 12440.860508680344, 12553.582862854004, 12666.481213092804, 12779.355063915253, 12893.192817687988, 13003.785947084427, 13116.932809829712, 13230.625923633575, 13344.067232131958, 13457.784182786942, 13569.2050178051, 13683.03580403328, 13796.193817615509, 13909.542282104492, 14019.98284816742, 14133.5642080307, 14246.849434137344, 14359.780198574066, 14473.93077492714, 14584.597780942917, 14697.822397947311, 14810.839767456055, 14924.372515916824, 15035.095371723175, 15148.646799564362, 15263.09439778328, 15376.029863595963, 15490.149483442307, 15601.802489995956, 15714.969693183899, 15828.121228694916, 15941.687116622925, 16051.49700307846, 16164.801974058151, 16277.726762771606, 16390.611603736877, 16501.05613040924, 16614.099994659424, 16727.062110185623, 16840.137110948563]"
   ]
  },
  {
   "cell_type": "code",
   "execution_count": 7,
   "id": "451cc9ec",
   "metadata": {
    "execution": {
     "iopub.execute_input": "2021-10-20T21:57:44.106667Z",
     "iopub.status.busy": "2021-10-20T21:57:44.105820Z",
     "iopub.status.idle": "2021-10-20T21:57:44.107824Z",
     "shell.execute_reply": "2021-10-20T21:57:44.108357Z",
     "shell.execute_reply.started": "2021-10-20T21:52:20.191814Z"
    },
    "papermill": {
     "duration": 0.025809,
     "end_time": "2021-10-20T21:57:44.108488",
     "exception": false,
     "start_time": "2021-10-20T21:57:44.082679",
     "status": "completed"
    },
    "tags": []
   },
   "outputs": [],
   "source": [
    "def test(f):\n",
    "    acc = 0\n",
    "    total = 0\n",
    "    # loop over test set\n",
    "    for n_, (x, y) in enumerate(val_dataloader):\n",
    "        bs = x.shape[0]\n",
    "        x = x.to(device)\n",
    "        \n",
    "        # f is how many times ViT loops over data\n",
    "        for i in range(f):\n",
    "            x = v(x)\n",
    "            x = nn.ReLU()(b(x))\n",
    "            x = x.reshape(bs, 3, 32, 32)\n",
    "            \n",
    "        # apply Head\n",
    "        y_hat = Head(x)\n",
    "        \n",
    "        # loop over predicted and see if equal to the ground truth\n",
    "        for _, i in enumerate(y_hat):\n",
    "            if i.argmax() == y.to(device)[_]:\n",
    "                acc +=1\n",
    "            total +=1\n",
    "            \n",
    "    return acc/total"
   ]
  },
  {
   "cell_type": "code",
   "execution_count": 8,
   "id": "9bafcb26",
   "metadata": {
    "execution": {
     "iopub.execute_input": "2021-10-20T21:57:44.142398Z",
     "iopub.status.busy": "2021-10-20T21:57:44.141777Z",
     "iopub.status.idle": "2021-10-20T21:57:44.144398Z",
     "shell.execute_reply": "2021-10-20T21:57:44.143986Z",
     "shell.execute_reply.started": "2021-10-20T21:52:20.202683Z"
    },
    "papermill": {
     "duration": 0.02122,
     "end_time": "2021-10-20T21:57:44.144499",
     "exception": false,
     "start_time": "2021-10-20T21:57:44.123279",
     "status": "completed"
    },
    "tags": []
   },
   "outputs": [],
   "source": [
    "# blank module to replace nn.Softmaxes with\n",
    "class make_linear(torch.nn.Module):\n",
    "    def __init__(self):\n",
    "        super(make_linear, self).__init__()\n",
    "\n",
    "    def forward(self, x):\n",
    "        return x"
   ]
  },
  {
   "cell_type": "code",
   "execution_count": 9,
   "id": "1d51de50",
   "metadata": {
    "execution": {
     "iopub.execute_input": "2021-10-20T21:57:44.178319Z",
     "iopub.status.busy": "2021-10-20T21:57:44.177486Z",
     "iopub.status.idle": "2021-10-20T21:57:44.179308Z",
     "shell.execute_reply": "2021-10-20T21:57:44.179729Z",
     "shell.execute_reply.started": "2021-10-20T21:52:20.215359Z"
    },
    "papermill": {
     "duration": 0.020823,
     "end_time": "2021-10-20T21:57:44.179847",
     "exception": false,
     "start_time": "2021-10-20T21:57:44.159024",
     "status": "completed"
    },
    "tags": []
   },
   "outputs": [],
   "source": [
    "def replace_layers(model, old, new):\n",
    "    # stolen from stack overflow, replaces all non linearities so that transformers are linear\n",
    "    for n, module in model.named_children():\n",
    "        if len(list(module.children())) > 0:\n",
    "            ## compound module, go inside it\n",
    "            replace_layers(module, old, new)\n",
    "            \n",
    "        if isinstance(module, old):\n",
    "            ## simple module\n",
    "            setattr(model, n, new)"
   ]
  },
  {
   "cell_type": "code",
   "execution_count": 10,
   "id": "7aad48c3",
   "metadata": {
    "execution": {
     "iopub.execute_input": "2021-10-20T21:57:44.222979Z",
     "iopub.status.busy": "2021-10-20T21:57:44.215866Z",
     "iopub.status.idle": "2021-10-21T06:03:14.185734Z",
     "shell.execute_reply": "2021-10-21T06:03:14.186150Z"
    },
    "papermill": {
     "duration": 29129.992433,
     "end_time": "2021-10-21T06:03:14.186305",
     "exception": false,
     "start_time": "2021-10-20T21:57:44.193872",
     "status": "completed"
    },
    "tags": []
   },
   "outputs": [
    {
     "name": "stderr",
     "output_type": "stream",
     "text": [
      "4.223678277463329: 100%|██████████| 196/196 [02:59<00:00,  1.09it/s]\n"
     ]
    },
    {
     "name": "stdout",
     "output_type": "stream",
     "text": [
      "0.0832\n"
     ]
    },
    {
     "name": "stderr",
     "output_type": "stream",
     "text": [
      "3.888850620814732: 100%|██████████| 196/196 [02:59<00:00,  1.09it/s]\n"
     ]
    },
    {
     "name": "stdout",
     "output_type": "stream",
     "text": [
      "0.1116\n"
     ]
    },
    {
     "name": "stderr",
     "output_type": "stream",
     "text": [
      "3.746339447644292: 100%|██████████| 196/196 [02:59<00:00,  1.09it/s]\n"
     ]
    },
    {
     "name": "stdout",
     "output_type": "stream",
     "text": [
      "0.1353\n"
     ]
    },
    {
     "name": "stderr",
     "output_type": "stream",
     "text": [
      "3.650247690628986: 100%|██████████| 196/196 [03:00<00:00,  1.08it/s]\n"
     ]
    },
    {
     "name": "stdout",
     "output_type": "stream",
     "text": [
      "0.1486\n"
     ]
    },
    {
     "name": "stderr",
     "output_type": "stream",
     "text": [
      "3.5745531977439415: 100%|██████████| 196/196 [03:00<00:00,  1.09it/s]\n"
     ]
    },
    {
     "name": "stdout",
     "output_type": "stream",
     "text": [
      "0.1545\n"
     ]
    },
    {
     "name": "stderr",
     "output_type": "stream",
     "text": [
      "3.5046688780492667: 100%|██████████| 196/196 [03:00<00:00,  1.09it/s]\n"
     ]
    },
    {
     "name": "stdout",
     "output_type": "stream",
     "text": [
      "0.1669\n"
     ]
    },
    {
     "name": "stderr",
     "output_type": "stream",
     "text": [
      "3.4387300452407525: 100%|██████████| 196/196 [02:59<00:00,  1.09it/s]\n"
     ]
    },
    {
     "name": "stdout",
     "output_type": "stream",
     "text": [
      "0.1773\n"
     ]
    },
    {
     "name": "stderr",
     "output_type": "stream",
     "text": [
      "3.380103909239477: 100%|██████████| 196/196 [02:59<00:00,  1.09it/s]\n"
     ]
    },
    {
     "name": "stdout",
     "output_type": "stream",
     "text": [
      "0.175\n"
     ]
    },
    {
     "name": "stderr",
     "output_type": "stream",
     "text": [
      "3.343895114198023: 100%|██████████| 196/196 [02:59<00:00,  1.09it/s]\n"
     ]
    },
    {
     "name": "stdout",
     "output_type": "stream",
     "text": [
      "0.1934\n"
     ]
    },
    {
     "name": "stderr",
     "output_type": "stream",
     "text": [
      "3.2976531982421875: 100%|██████████| 196/196 [03:00<00:00,  1.09it/s]\n"
     ]
    },
    {
     "name": "stdout",
     "output_type": "stream",
     "text": [
      "0.2012\n"
     ]
    },
    {
     "name": "stderr",
     "output_type": "stream",
     "text": [
      "3.2702082419882017: 100%|██████████| 196/196 [03:00<00:00,  1.09it/s]\n"
     ]
    },
    {
     "name": "stdout",
     "output_type": "stream",
     "text": [
      "0.2006\n"
     ]
    },
    {
     "name": "stderr",
     "output_type": "stream",
     "text": [
      "3.236424971599968: 100%|██████████| 196/196 [03:00<00:00,  1.09it/s]\n"
     ]
    },
    {
     "name": "stdout",
     "output_type": "stream",
     "text": [
      "0.2104\n"
     ]
    },
    {
     "name": "stderr",
     "output_type": "stream",
     "text": [
      "3.2055623579998405: 100%|██████████| 196/196 [03:00<00:00,  1.09it/s]\n"
     ]
    },
    {
     "name": "stdout",
     "output_type": "stream",
     "text": [
      "0.2128\n"
     ]
    },
    {
     "name": "stderr",
     "output_type": "stream",
     "text": [
      "3.1844859220543684: 100%|██████████| 196/196 [03:00<00:00,  1.09it/s]\n"
     ]
    },
    {
     "name": "stdout",
     "output_type": "stream",
     "text": [
      "0.2081\n"
     ]
    },
    {
     "name": "stderr",
     "output_type": "stream",
     "text": [
      "3.1592634551379146: 100%|██████████| 196/196 [02:59<00:00,  1.09it/s]\n"
     ]
    },
    {
     "name": "stdout",
     "output_type": "stream",
     "text": [
      "0.2141\n"
     ]
    },
    {
     "name": "stderr",
     "output_type": "stream",
     "text": [
      "3.125125807158801: 100%|██████████| 196/196 [03:00<00:00,  1.09it/s]\n"
     ]
    },
    {
     "name": "stdout",
     "output_type": "stream",
     "text": [
      "0.2163\n"
     ]
    },
    {
     "name": "stderr",
     "output_type": "stream",
     "text": [
      "3.1166942362882653: 100%|██████████| 196/196 [03:01<00:00,  1.08it/s]\n"
     ]
    },
    {
     "name": "stdout",
     "output_type": "stream",
     "text": [
      "0.2165\n"
     ]
    },
    {
     "name": "stderr",
     "output_type": "stream",
     "text": [
      "3.0987271678691006: 100%|██████████| 196/196 [03:01<00:00,  1.08it/s]\n"
     ]
    },
    {
     "name": "stdout",
     "output_type": "stream",
     "text": [
      "0.2202\n"
     ]
    },
    {
     "name": "stderr",
     "output_type": "stream",
     "text": [
      "3.0738185960419324: 100%|██████████| 196/196 [03:00<00:00,  1.09it/s]\n"
     ]
    },
    {
     "name": "stdout",
     "output_type": "stream",
     "text": [
      "0.2298\n"
     ]
    },
    {
     "name": "stderr",
     "output_type": "stream",
     "text": [
      "3.046193025550064: 100%|██████████| 196/196 [03:00<00:00,  1.08it/s]\n"
     ]
    },
    {
     "name": "stdout",
     "output_type": "stream",
     "text": [
      "0.2339\n"
     ]
    },
    {
     "name": "stderr",
     "output_type": "stream",
     "text": [
      "3.031034197126116: 100%|██████████| 196/196 [03:00<00:00,  1.09it/s]\n"
     ]
    },
    {
     "name": "stdout",
     "output_type": "stream",
     "text": [
      "0.2293\n"
     ]
    },
    {
     "name": "stderr",
     "output_type": "stream",
     "text": [
      "3.011843000139509: 100%|██████████| 196/196 [03:01<00:00,  1.08it/s]\n"
     ]
    },
    {
     "name": "stdout",
     "output_type": "stream",
     "text": [
      "0.2341\n"
     ]
    },
    {
     "name": "stderr",
     "output_type": "stream",
     "text": [
      "2.986590638452647: 100%|██████████| 196/196 [03:00<00:00,  1.08it/s]\n"
     ]
    },
    {
     "name": "stdout",
     "output_type": "stream",
     "text": [
      "0.2417\n"
     ]
    },
    {
     "name": "stderr",
     "output_type": "stream",
     "text": [
      "2.9609972895408165: 100%|██████████| 196/196 [03:01<00:00,  1.08it/s]\n"
     ]
    },
    {
     "name": "stdout",
     "output_type": "stream",
     "text": [
      "0.2399\n"
     ]
    },
    {
     "name": "stderr",
     "output_type": "stream",
     "text": [
      "2.9371960698341835: 100%|██████████| 196/196 [02:59<00:00,  1.09it/s]\n"
     ]
    },
    {
     "name": "stdout",
     "output_type": "stream",
     "text": [
      "0.2451\n"
     ]
    },
    {
     "name": "stderr",
     "output_type": "stream",
     "text": [
      "2.9174340695750955: 100%|██████████| 196/196 [03:00<00:00,  1.08it/s]\n"
     ]
    },
    {
     "name": "stdout",
     "output_type": "stream",
     "text": [
      "0.249\n"
     ]
    },
    {
     "name": "stderr",
     "output_type": "stream",
     "text": [
      "2.8940267757493623: 100%|██████████| 196/196 [03:00<00:00,  1.09it/s]\n"
     ]
    },
    {
     "name": "stdout",
     "output_type": "stream",
     "text": [
      "0.2526\n"
     ]
    },
    {
     "name": "stderr",
     "output_type": "stream",
     "text": [
      "2.869190449617347: 100%|██████████| 196/196 [03:00<00:00,  1.08it/s]\n"
     ]
    },
    {
     "name": "stdout",
     "output_type": "stream",
     "text": [
      "0.2556\n"
     ]
    },
    {
     "name": "stderr",
     "output_type": "stream",
     "text": [
      "2.8443837068518816: 100%|██████████| 196/196 [03:00<00:00,  1.09it/s]\n"
     ]
    },
    {
     "name": "stdout",
     "output_type": "stream",
     "text": [
      "0.2517\n"
     ]
    },
    {
     "name": "stderr",
     "output_type": "stream",
     "text": [
      "2.8247967155612246: 100%|██████████| 196/196 [03:00<00:00,  1.09it/s]\n"
     ]
    },
    {
     "name": "stdout",
     "output_type": "stream",
     "text": [
      "0.2655\n"
     ]
    },
    {
     "name": "stderr",
     "output_type": "stream",
     "text": [
      "2.7994739766023597: 100%|██████████| 196/196 [02:59<00:00,  1.09it/s]\n"
     ]
    },
    {
     "name": "stdout",
     "output_type": "stream",
     "text": [
      "0.2658\n"
     ]
    },
    {
     "name": "stderr",
     "output_type": "stream",
     "text": [
      "2.776362827845982: 100%|██████████| 196/196 [03:00<00:00,  1.09it/s]\n"
     ]
    },
    {
     "name": "stdout",
     "output_type": "stream",
     "text": [
      "0.2631\n"
     ]
    },
    {
     "name": "stderr",
     "output_type": "stream",
     "text": [
      "2.7489359330157845: 100%|██████████| 196/196 [03:00<00:00,  1.08it/s]\n"
     ]
    },
    {
     "name": "stdout",
     "output_type": "stream",
     "text": [
      "0.2732\n"
     ]
    },
    {
     "name": "stderr",
     "output_type": "stream",
     "text": [
      "2.7280136419802297: 100%|██████████| 196/196 [03:01<00:00,  1.08it/s]\n"
     ]
    },
    {
     "name": "stdout",
     "output_type": "stream",
     "text": [
      "0.2742\n"
     ]
    },
    {
     "name": "stderr",
     "output_type": "stream",
     "text": [
      "2.7022141437141265: 100%|██████████| 196/196 [03:00<00:00,  1.09it/s]\n"
     ]
    },
    {
     "name": "stdout",
     "output_type": "stream",
     "text": [
      "0.2721\n"
     ]
    },
    {
     "name": "stderr",
     "output_type": "stream",
     "text": [
      "2.672090802873884: 100%|██████████| 196/196 [03:01<00:00,  1.08it/s]\n"
     ]
    },
    {
     "name": "stdout",
     "output_type": "stream",
     "text": [
      "0.2821\n"
     ]
    },
    {
     "name": "stderr",
     "output_type": "stream",
     "text": [
      "2.6453714176100127: 100%|██████████| 196/196 [03:01<00:00,  1.08it/s]\n"
     ]
    },
    {
     "name": "stdout",
     "output_type": "stream",
     "text": [
      "0.284\n"
     ]
    },
    {
     "name": "stderr",
     "output_type": "stream",
     "text": [
      "2.613648083745217: 100%|██████████| 196/196 [03:00<00:00,  1.09it/s]\n"
     ]
    },
    {
     "name": "stdout",
     "output_type": "stream",
     "text": [
      "0.2849\n"
     ]
    },
    {
     "name": "stderr",
     "output_type": "stream",
     "text": [
      "2.5891457382513554: 100%|██████████| 196/196 [03:00<00:00,  1.09it/s]\n"
     ]
    },
    {
     "name": "stdout",
     "output_type": "stream",
     "text": [
      "0.294\n"
     ]
    },
    {
     "name": "stderr",
     "output_type": "stream",
     "text": [
      "2.5529031558912627: 100%|██████████| 196/196 [03:00<00:00,  1.09it/s]\n"
     ]
    },
    {
     "name": "stdout",
     "output_type": "stream",
     "text": [
      "0.2935\n"
     ]
    },
    {
     "name": "stderr",
     "output_type": "stream",
     "text": [
      "2.5311117366868623: 100%|██████████| 196/196 [03:00<00:00,  1.08it/s]\n"
     ]
    },
    {
     "name": "stdout",
     "output_type": "stream",
     "text": [
      "0.2983\n"
     ]
    },
    {
     "name": "stderr",
     "output_type": "stream",
     "text": [
      "2.501558576311384: 100%|██████████| 196/196 [03:00<00:00,  1.09it/s]\n"
     ]
    },
    {
     "name": "stdout",
     "output_type": "stream",
     "text": [
      "0.3026\n"
     ]
    },
    {
     "name": "stderr",
     "output_type": "stream",
     "text": [
      "2.472893072634327: 100%|██████████| 196/196 [03:00<00:00,  1.09it/s]\n"
     ]
    },
    {
     "name": "stdout",
     "output_type": "stream",
     "text": [
      "0.3054\n"
     ]
    },
    {
     "name": "stderr",
     "output_type": "stream",
     "text": [
      "2.4399864041075414: 100%|██████████| 196/196 [03:01<00:00,  1.08it/s]\n"
     ]
    },
    {
     "name": "stdout",
     "output_type": "stream",
     "text": [
      "0.312\n"
     ]
    },
    {
     "name": "stderr",
     "output_type": "stream",
     "text": [
      "2.411377420230788: 100%|██████████| 196/196 [03:00<00:00,  1.08it/s]\n"
     ]
    },
    {
     "name": "stdout",
     "output_type": "stream",
     "text": [
      "0.3101\n"
     ]
    },
    {
     "name": "stderr",
     "output_type": "stream",
     "text": [
      "2.3825636883171235: 100%|██████████| 196/196 [03:00<00:00,  1.08it/s]\n"
     ]
    },
    {
     "name": "stdout",
     "output_type": "stream",
     "text": [
      "0.3119\n"
     ]
    },
    {
     "name": "stderr",
     "output_type": "stream",
     "text": [
      "2.3503494262695312: 100%|██████████| 196/196 [03:00<00:00,  1.09it/s]\n"
     ]
    },
    {
     "name": "stdout",
     "output_type": "stream",
     "text": [
      "0.3204\n"
     ]
    },
    {
     "name": "stderr",
     "output_type": "stream",
     "text": [
      "2.3174953849948183: 100%|██████████| 196/196 [03:00<00:00,  1.09it/s]\n"
     ]
    },
    {
     "name": "stdout",
     "output_type": "stream",
     "text": [
      "0.3166\n"
     ]
    },
    {
     "name": "stderr",
     "output_type": "stream",
     "text": [
      "2.295392873335858: 100%|██████████| 196/196 [03:01<00:00,  1.08it/s]\n"
     ]
    },
    {
     "name": "stdout",
     "output_type": "stream",
     "text": [
      "0.3174\n"
     ]
    },
    {
     "name": "stderr",
     "output_type": "stream",
     "text": [
      "2.269628719407685: 100%|██████████| 196/196 [03:01<00:00,  1.08it/s]\n"
     ]
    },
    {
     "name": "stdout",
     "output_type": "stream",
     "text": [
      "0.3217\n"
     ]
    },
    {
     "name": "stderr",
     "output_type": "stream",
     "text": [
      "2.2223728724888394: 100%|██████████| 196/196 [03:00<00:00,  1.08it/s]\n"
     ]
    },
    {
     "name": "stdout",
     "output_type": "stream",
     "text": [
      "0.324\n"
     ]
    },
    {
     "name": "stderr",
     "output_type": "stream",
     "text": [
      "2.1891194557657045: 100%|██████████| 196/196 [03:00<00:00,  1.09it/s]\n"
     ]
    },
    {
     "name": "stdout",
     "output_type": "stream",
     "text": [
      "0.3328\n"
     ]
    },
    {
     "name": "stderr",
     "output_type": "stream",
     "text": [
      "2.158613866689254: 100%|██████████| 196/196 [03:01<00:00,  1.08it/s]\n"
     ]
    },
    {
     "name": "stdout",
     "output_type": "stream",
     "text": [
      "0.3282\n"
     ]
    },
    {
     "name": "stderr",
     "output_type": "stream",
     "text": [
      "2.121866342972736: 100%|██████████| 196/196 [03:01<00:00,  1.08it/s]\n"
     ]
    },
    {
     "name": "stdout",
     "output_type": "stream",
     "text": [
      "0.3282\n"
     ]
    },
    {
     "name": "stderr",
     "output_type": "stream",
     "text": [
      "2.08903254294882: 100%|██████████| 196/196 [03:00<00:00,  1.08it/s]\n"
     ]
    },
    {
     "name": "stdout",
     "output_type": "stream",
     "text": [
      "0.3288\n"
     ]
    },
    {
     "name": "stderr",
     "output_type": "stream",
     "text": [
      "2.057373825384646: 100%|██████████| 196/196 [03:00<00:00,  1.08it/s]\n"
     ]
    },
    {
     "name": "stdout",
     "output_type": "stream",
     "text": [
      "0.3393\n"
     ]
    },
    {
     "name": "stderr",
     "output_type": "stream",
     "text": [
      "2.016099268076371: 100%|██████████| 196/196 [03:01<00:00,  1.08it/s]\n"
     ]
    },
    {
     "name": "stdout",
     "output_type": "stream",
     "text": [
      "0.3327\n"
     ]
    },
    {
     "name": "stderr",
     "output_type": "stream",
     "text": [
      "1.9720139795420122: 100%|██████████| 196/196 [03:01<00:00,  1.08it/s]\n"
     ]
    },
    {
     "name": "stdout",
     "output_type": "stream",
     "text": [
      "0.3392\n"
     ]
    },
    {
     "name": "stderr",
     "output_type": "stream",
     "text": [
      "1.9334025480309311: 100%|██████████| 196/196 [03:00<00:00,  1.09it/s]\n"
     ]
    },
    {
     "name": "stdout",
     "output_type": "stream",
     "text": [
      "0.339\n"
     ]
    },
    {
     "name": "stderr",
     "output_type": "stream",
     "text": [
      "1.8949662811902104: 100%|██████████| 196/196 [03:01<00:00,  1.08it/s]\n"
     ]
    },
    {
     "name": "stdout",
     "output_type": "stream",
     "text": [
      "0.34\n"
     ]
    },
    {
     "name": "stderr",
     "output_type": "stream",
     "text": [
      "1.855366765236368: 100%|██████████| 196/196 [03:01<00:00,  1.08it/s]\n"
     ]
    },
    {
     "name": "stdout",
     "output_type": "stream",
     "text": [
      "0.334\n"
     ]
    },
    {
     "name": "stderr",
     "output_type": "stream",
     "text": [
      "1.8062997934769611: 100%|██████████| 196/196 [03:00<00:00,  1.08it/s]\n"
     ]
    },
    {
     "name": "stdout",
     "output_type": "stream",
     "text": [
      "0.34\n"
     ]
    },
    {
     "name": "stderr",
     "output_type": "stream",
     "text": [
      "1.7704190624003509: 100%|██████████| 196/196 [03:01<00:00,  1.08it/s]\n"
     ]
    },
    {
     "name": "stdout",
     "output_type": "stream",
     "text": [
      "0.3394\n"
     ]
    },
    {
     "name": "stderr",
     "output_type": "stream",
     "text": [
      "1.721450494260204: 100%|██████████| 196/196 [03:01<00:00,  1.08it/s]\n"
     ]
    },
    {
     "name": "stdout",
     "output_type": "stream",
     "text": [
      "0.3472\n"
     ]
    },
    {
     "name": "stderr",
     "output_type": "stream",
     "text": [
      "1.6755290128746811: 100%|██████████| 196/196 [03:00<00:00,  1.08it/s]\n"
     ]
    },
    {
     "name": "stdout",
     "output_type": "stream",
     "text": [
      "0.3478\n"
     ]
    },
    {
     "name": "stderr",
     "output_type": "stream",
     "text": [
      "1.6236383866290658: 100%|██████████| 196/196 [03:01<00:00,  1.08it/s]\n"
     ]
    },
    {
     "name": "stdout",
     "output_type": "stream",
     "text": [
      "0.3456\n"
     ]
    },
    {
     "name": "stderr",
     "output_type": "stream",
     "text": [
      "1.5701080633669484: 100%|██████████| 196/196 [03:01<00:00,  1.08it/s]\n"
     ]
    },
    {
     "name": "stdout",
     "output_type": "stream",
     "text": [
      "0.3425\n"
     ]
    },
    {
     "name": "stderr",
     "output_type": "stream",
     "text": [
      "1.5213834801498725: 100%|██████████| 196/196 [03:00<00:00,  1.08it/s]\n"
     ]
    },
    {
     "name": "stdout",
     "output_type": "stream",
     "text": [
      "0.3416\n"
     ]
    },
    {
     "name": "stderr",
     "output_type": "stream",
     "text": [
      "1.4698592205436862: 100%|██████████| 196/196 [03:02<00:00,  1.08it/s]\n"
     ]
    },
    {
     "name": "stdout",
     "output_type": "stream",
     "text": [
      "0.3445\n"
     ]
    },
    {
     "name": "stderr",
     "output_type": "stream",
     "text": [
      "1.4107094589544802: 100%|██████████| 196/196 [03:01<00:00,  1.08it/s]\n"
     ]
    },
    {
     "name": "stdout",
     "output_type": "stream",
     "text": [
      "0.3437\n"
     ]
    },
    {
     "name": "stderr",
     "output_type": "stream",
     "text": [
      "1.3604083937041613: 100%|██████████| 196/196 [03:00<00:00,  1.08it/s]\n"
     ]
    },
    {
     "name": "stdout",
     "output_type": "stream",
     "text": [
      "0.3477\n"
     ]
    },
    {
     "name": "stderr",
     "output_type": "stream",
     "text": [
      "1.3068421032963966: 100%|██████████| 196/196 [03:01<00:00,  1.08it/s]\n"
     ]
    },
    {
     "name": "stdout",
     "output_type": "stream",
     "text": [
      "0.3469\n"
     ]
    },
    {
     "name": "stderr",
     "output_type": "stream",
     "text": [
      "1.2448713341537787: 100%|██████████| 196/196 [03:01<00:00,  1.08it/s]\n"
     ]
    },
    {
     "name": "stdout",
     "output_type": "stream",
     "text": [
      "0.3508\n"
     ]
    },
    {
     "name": "stderr",
     "output_type": "stream",
     "text": [
      "1.1940745918118223: 100%|██████████| 196/196 [03:01<00:00,  1.08it/s]\n"
     ]
    },
    {
     "name": "stdout",
     "output_type": "stream",
     "text": [
      "0.343\n"
     ]
    },
    {
     "name": "stderr",
     "output_type": "stream",
     "text": [
      "1.1387772852060747: 100%|██████████| 196/196 [03:02<00:00,  1.07it/s]\n"
     ]
    },
    {
     "name": "stdout",
     "output_type": "stream",
     "text": [
      "0.3449\n"
     ]
    },
    {
     "name": "stderr",
     "output_type": "stream",
     "text": [
      "1.100296098358777: 100%|██████████| 196/196 [03:01<00:00,  1.08it/s]\n"
     ]
    },
    {
     "name": "stdout",
     "output_type": "stream",
     "text": [
      "0.3473\n"
     ]
    },
    {
     "name": "stderr",
     "output_type": "stream",
     "text": [
      "1.038271222795759: 100%|██████████| 196/196 [03:02<00:00,  1.08it/s]\n"
     ]
    },
    {
     "name": "stdout",
     "output_type": "stream",
     "text": [
      "0.3543\n"
     ]
    },
    {
     "name": "stderr",
     "output_type": "stream",
     "text": [
      "0.980098412961376: 100%|██████████| 196/196 [03:01<00:00,  1.08it/s]\n"
     ]
    },
    {
     "name": "stdout",
     "output_type": "stream",
     "text": [
      "0.355\n"
     ]
    },
    {
     "name": "stderr",
     "output_type": "stream",
     "text": [
      "0.9291101572464924: 100%|██████████| 196/196 [03:00<00:00,  1.08it/s]\n"
     ]
    },
    {
     "name": "stdout",
     "output_type": "stream",
     "text": [
      "0.3501\n"
     ]
    },
    {
     "name": "stderr",
     "output_type": "stream",
     "text": [
      "0.894239853839485: 100%|██████████| 196/196 [03:00<00:00,  1.08it/s]\n"
     ]
    },
    {
     "name": "stdout",
     "output_type": "stream",
     "text": [
      "0.3518\n"
     ]
    },
    {
     "name": "stderr",
     "output_type": "stream",
     "text": [
      "0.830712688212492: 100%|██████████| 196/196 [03:01<00:00,  1.08it/s]\n"
     ]
    },
    {
     "name": "stdout",
     "output_type": "stream",
     "text": [
      "0.3503\n"
     ]
    },
    {
     "name": "stderr",
     "output_type": "stream",
     "text": [
      "0.786764028121014: 100%|██████████| 196/196 [03:00<00:00,  1.09it/s]\n"
     ]
    },
    {
     "name": "stdout",
     "output_type": "stream",
     "text": [
      "0.3493\n"
     ]
    },
    {
     "name": "stderr",
     "output_type": "stream",
     "text": [
      "0.7339794392488441: 100%|██████████| 196/196 [03:01<00:00,  1.08it/s]\n"
     ]
    },
    {
     "name": "stdout",
     "output_type": "stream",
     "text": [
      "0.3541\n"
     ]
    },
    {
     "name": "stderr",
     "output_type": "stream",
     "text": [
      "0.6886158378756776: 100%|██████████| 196/196 [03:00<00:00,  1.09it/s]\n"
     ]
    },
    {
     "name": "stdout",
     "output_type": "stream",
     "text": [
      "0.348\n"
     ]
    },
    {
     "name": "stderr",
     "output_type": "stream",
     "text": [
      "0.658123794867068: 100%|██████████| 196/196 [03:00<00:00,  1.09it/s]\n"
     ]
    },
    {
     "name": "stdout",
     "output_type": "stream",
     "text": [
      "0.3472\n"
     ]
    },
    {
     "name": "stderr",
     "output_type": "stream",
     "text": [
      "0.6160881665288186: 100%|██████████| 196/196 [03:00<00:00,  1.09it/s]\n"
     ]
    },
    {
     "name": "stdout",
     "output_type": "stream",
     "text": [
      "0.3506\n"
     ]
    },
    {
     "name": "stderr",
     "output_type": "stream",
     "text": [
      "0.5845488723443479: 100%|██████████| 196/196 [03:00<00:00,  1.09it/s]\n"
     ]
    },
    {
     "name": "stdout",
     "output_type": "stream",
     "text": [
      "0.357\n"
     ]
    },
    {
     "name": "stderr",
     "output_type": "stream",
     "text": [
      "0.5528942808812979: 100%|██████████| 196/196 [03:01<00:00,  1.08it/s]\n"
     ]
    },
    {
     "name": "stdout",
     "output_type": "stream",
     "text": [
      "0.3502\n"
     ]
    },
    {
     "name": "stderr",
     "output_type": "stream",
     "text": [
      "0.505845712155712: 100%|██████████| 196/196 [03:00<00:00,  1.09it/s]\n"
     ]
    },
    {
     "name": "stdout",
     "output_type": "stream",
     "text": [
      "0.351\n"
     ]
    },
    {
     "name": "stderr",
     "output_type": "stream",
     "text": [
      "0.4949731632154815: 100%|██████████| 196/196 [03:01<00:00,  1.08it/s]\n"
     ]
    },
    {
     "name": "stdout",
     "output_type": "stream",
     "text": [
      "0.3509\n"
     ]
    },
    {
     "name": "stderr",
     "output_type": "stream",
     "text": [
      "0.4731869600257095: 100%|██████████| 196/196 [03:00<00:00,  1.08it/s]\n"
     ]
    },
    {
     "name": "stdout",
     "output_type": "stream",
     "text": [
      "0.3522\n"
     ]
    },
    {
     "name": "stderr",
     "output_type": "stream",
     "text": [
      "0.45031504728356186: 100%|██████████| 196/196 [03:00<00:00,  1.08it/s]\n"
     ]
    },
    {
     "name": "stdout",
     "output_type": "stream",
     "text": [
      "0.3545\n"
     ]
    },
    {
     "name": "stderr",
     "output_type": "stream",
     "text": [
      "0.42079314407037227: 100%|██████████| 196/196 [03:01<00:00,  1.08it/s]\n"
     ]
    },
    {
     "name": "stdout",
     "output_type": "stream",
     "text": [
      "0.3606\n"
     ]
    },
    {
     "name": "stderr",
     "output_type": "stream",
     "text": [
      "0.4027896024742905: 100%|██████████| 196/196 [03:00<00:00,  1.09it/s]\n"
     ]
    },
    {
     "name": "stdout",
     "output_type": "stream",
     "text": [
      "0.3503\n"
     ]
    },
    {
     "name": "stderr",
     "output_type": "stream",
     "text": [
      "0.3801165989467076: 100%|██████████| 196/196 [03:01<00:00,  1.08it/s]\n"
     ]
    },
    {
     "name": "stdout",
     "output_type": "stream",
     "text": [
      "0.3507\n"
     ]
    },
    {
     "name": "stderr",
     "output_type": "stream",
     "text": [
      "0.36728337346291057: 100%|██████████| 196/196 [03:00<00:00,  1.08it/s]\n"
     ]
    },
    {
     "name": "stdout",
     "output_type": "stream",
     "text": [
      "0.3516\n"
     ]
    },
    {
     "name": "stderr",
     "output_type": "stream",
     "text": [
      "0.35528120702626753: 100%|██████████| 196/196 [03:00<00:00,  1.09it/s]\n"
     ]
    },
    {
     "name": "stdout",
     "output_type": "stream",
     "text": [
      "0.349\n"
     ]
    },
    {
     "name": "stderr",
     "output_type": "stream",
     "text": [
      "0.3455440754793128: 100%|██████████| 196/196 [03:02<00:00,  1.08it/s]\n"
     ]
    },
    {
     "name": "stdout",
     "output_type": "stream",
     "text": [
      "0.3526\n"
     ]
    },
    {
     "name": "stderr",
     "output_type": "stream",
     "text": [
      "0.3203248977661133: 100%|██████████| 196/196 [03:00<00:00,  1.09it/s]\n"
     ]
    },
    {
     "name": "stdout",
     "output_type": "stream",
     "text": [
      "0.3496\n"
     ]
    },
    {
     "name": "stderr",
     "output_type": "stream",
     "text": [
      "0.3127567914067482: 100%|██████████| 196/196 [03:01<00:00,  1.08it/s]\n"
     ]
    },
    {
     "name": "stdout",
     "output_type": "stream",
     "text": [
      "0.3476\n"
     ]
    },
    {
     "name": "stderr",
     "output_type": "stream",
     "text": [
      "0.3021344165412747: 100%|██████████| 196/196 [03:00<00:00,  1.09it/s]\n"
     ]
    },
    {
     "name": "stdout",
     "output_type": "stream",
     "text": [
      "0.3526\n"
     ]
    },
    {
     "name": "stderr",
     "output_type": "stream",
     "text": [
      "0.3140237380047234: 100%|██████████| 196/196 [03:00<00:00,  1.08it/s]\n"
     ]
    },
    {
     "name": "stdout",
     "output_type": "stream",
     "text": [
      "0.3566\n"
     ]
    },
    {
     "name": "stderr",
     "output_type": "stream",
     "text": [
      "0.27229972761504506: 100%|██████████| 196/196 [03:02<00:00,  1.08it/s]\n"
     ]
    },
    {
     "name": "stdout",
     "output_type": "stream",
     "text": [
      "0.3504\n"
     ]
    },
    {
     "name": "stderr",
     "output_type": "stream",
     "text": [
      "0.27328035782794563: 100%|██████████| 196/196 [03:01<00:00,  1.08it/s]\n"
     ]
    },
    {
     "name": "stdout",
     "output_type": "stream",
     "text": [
      "0.3433\n"
     ]
    },
    {
     "name": "stderr",
     "output_type": "stream",
     "text": [
      "0.2582066010455696: 100%|██████████| 196/196 [03:01<00:00,  1.08it/s]\n"
     ]
    },
    {
     "name": "stdout",
     "output_type": "stream",
     "text": [
      "0.3579\n"
     ]
    },
    {
     "name": "stderr",
     "output_type": "stream",
     "text": [
      "0.26891700588926976: 100%|██████████| 196/196 [03:00<00:00,  1.08it/s]\n"
     ]
    },
    {
     "name": "stdout",
     "output_type": "stream",
     "text": [
      "0.3529\n"
     ]
    },
    {
     "name": "stderr",
     "output_type": "stream",
     "text": [
      "0.2538497885879205: 100%|██████████| 196/196 [03:00<00:00,  1.08it/s]\n"
     ]
    },
    {
     "name": "stdout",
     "output_type": "stream",
     "text": [
      "0.3482\n"
     ]
    },
    {
     "name": "stderr",
     "output_type": "stream",
     "text": [
      "0.25510406494140625: 100%|██████████| 196/196 [03:01<00:00,  1.08it/s]\n"
     ]
    },
    {
     "name": "stdout",
     "output_type": "stream",
     "text": [
      "0.3496\n"
     ]
    },
    {
     "name": "stderr",
     "output_type": "stream",
     "text": [
      "0.25062072520353357: 100%|██████████| 196/196 [03:00<00:00,  1.09it/s]\n"
     ]
    },
    {
     "name": "stdout",
     "output_type": "stream",
     "text": [
      "0.3521\n"
     ]
    },
    {
     "name": "stderr",
     "output_type": "stream",
     "text": [
      "0.24035578357930087: 100%|██████████| 196/196 [03:00<00:00,  1.09it/s]\n"
     ]
    },
    {
     "name": "stdout",
     "output_type": "stream",
     "text": [
      "0.3483\n"
     ]
    },
    {
     "name": "stderr",
     "output_type": "stream",
     "text": [
      "0.23446441183284839: 100%|██████████| 196/196 [03:02<00:00,  1.08it/s]\n"
     ]
    },
    {
     "name": "stdout",
     "output_type": "stream",
     "text": [
      "0.3554\n"
     ]
    },
    {
     "name": "stderr",
     "output_type": "stream",
     "text": [
      "0.22719840614163145: 100%|██████████| 196/196 [03:00<00:00,  1.09it/s]\n"
     ]
    },
    {
     "name": "stdout",
     "output_type": "stream",
     "text": [
      "0.3518\n"
     ]
    },
    {
     "name": "stderr",
     "output_type": "stream",
     "text": [
      "0.22121018779521084: 100%|██████████| 196/196 [03:00<00:00,  1.09it/s]\n"
     ]
    },
    {
     "name": "stdout",
     "output_type": "stream",
     "text": [
      "0.3471\n"
     ]
    },
    {
     "name": "stderr",
     "output_type": "stream",
     "text": [
      "0.21177897161366988: 100%|██████████| 196/196 [03:00<00:00,  1.08it/s]\n"
     ]
    },
    {
     "name": "stdout",
     "output_type": "stream",
     "text": [
      "0.3517\n"
     ]
    },
    {
     "name": "stderr",
     "output_type": "stream",
     "text": [
      "0.21537167685372488: 100%|██████████| 196/196 [03:00<00:00,  1.09it/s]\n"
     ]
    },
    {
     "name": "stdout",
     "output_type": "stream",
     "text": [
      "0.348\n"
     ]
    },
    {
     "name": "stderr",
     "output_type": "stream",
     "text": [
      "0.21713365827287948: 100%|██████████| 196/196 [03:01<00:00,  1.08it/s]\n"
     ]
    },
    {
     "name": "stdout",
     "output_type": "stream",
     "text": [
      "0.3503\n"
     ]
    },
    {
     "name": "stderr",
     "output_type": "stream",
     "text": [
      "0.19905502942143655: 100%|██████████| 196/196 [02:59<00:00,  1.09it/s]\n"
     ]
    },
    {
     "name": "stdout",
     "output_type": "stream",
     "text": [
      "0.3508\n"
     ]
    },
    {
     "name": "stderr",
     "output_type": "stream",
     "text": [
      "0.19939788506955516: 100%|██████████| 196/196 [03:00<00:00,  1.08it/s]\n"
     ]
    },
    {
     "name": "stdout",
     "output_type": "stream",
     "text": [
      "0.356\n"
     ]
    },
    {
     "name": "stderr",
     "output_type": "stream",
     "text": [
      "0.2043399226908781: 100%|██████████| 196/196 [03:01<00:00,  1.08it/s]\n"
     ]
    },
    {
     "name": "stdout",
     "output_type": "stream",
     "text": [
      "0.3536\n"
     ]
    },
    {
     "name": "stderr",
     "output_type": "stream",
     "text": [
      "0.19742664025754345: 100%|██████████| 196/196 [02:59<00:00,  1.09it/s]\n"
     ]
    },
    {
     "name": "stdout",
     "output_type": "stream",
     "text": [
      "0.3477\n"
     ]
    },
    {
     "name": "stderr",
     "output_type": "stream",
     "text": [
      "0.18291255405970983: 100%|██████████| 196/196 [03:00<00:00,  1.09it/s]\n"
     ]
    },
    {
     "name": "stdout",
     "output_type": "stream",
     "text": [
      "0.3471\n"
     ]
    },
    {
     "name": "stderr",
     "output_type": "stream",
     "text": [
      "0.18277796920464964: 100%|██████████| 196/196 [03:02<00:00,  1.08it/s]\n"
     ]
    },
    {
     "name": "stdout",
     "output_type": "stream",
     "text": [
      "0.3518\n"
     ]
    },
    {
     "name": "stderr",
     "output_type": "stream",
     "text": [
      "0.1895005362374442: 100%|██████████| 196/196 [03:00<00:00,  1.09it/s]\n"
     ]
    },
    {
     "name": "stdout",
     "output_type": "stream",
     "text": [
      "0.3535\n"
     ]
    },
    {
     "name": "stderr",
     "output_type": "stream",
     "text": [
      "0.18102599163444674: 100%|██████████| 196/196 [03:00<00:00,  1.08it/s]\n"
     ]
    },
    {
     "name": "stdout",
     "output_type": "stream",
     "text": [
      "0.351\n"
     ]
    },
    {
     "name": "stderr",
     "output_type": "stream",
     "text": [
      "0.17606445234649035: 100%|██████████| 196/196 [03:02<00:00,  1.07it/s]\n"
     ]
    },
    {
     "name": "stdout",
     "output_type": "stream",
     "text": [
      "0.3496\n"
     ]
    },
    {
     "name": "stderr",
     "output_type": "stream",
     "text": [
      "0.1772783629748286: 100%|██████████| 196/196 [03:00<00:00,  1.09it/s]\n"
     ]
    },
    {
     "name": "stdout",
     "output_type": "stream",
     "text": [
      "0.3568\n"
     ]
    },
    {
     "name": "stderr",
     "output_type": "stream",
     "text": [
      "0.17297524822001553: 100%|██████████| 196/196 [03:01<00:00,  1.08it/s]\n"
     ]
    },
    {
     "name": "stdout",
     "output_type": "stream",
     "text": [
      "0.3494\n"
     ]
    },
    {
     "name": "stderr",
     "output_type": "stream",
     "text": [
      "0.1672789904536033: 100%|██████████| 196/196 [03:02<00:00,  1.07it/s]\n"
     ]
    },
    {
     "name": "stdout",
     "output_type": "stream",
     "text": [
      "0.3521\n"
     ]
    },
    {
     "name": "stderr",
     "output_type": "stream",
     "text": [
      "0.17334416447853557: 100%|██████████| 196/196 [03:00<00:00,  1.08it/s]\n"
     ]
    },
    {
     "name": "stdout",
     "output_type": "stream",
     "text": [
      "0.3594\n"
     ]
    },
    {
     "name": "stderr",
     "output_type": "stream",
     "text": [
      "0.17716396098234216: 100%|██████████| 196/196 [03:01<00:00,  1.08it/s]\n"
     ]
    },
    {
     "name": "stdout",
     "output_type": "stream",
     "text": [
      "0.3536\n"
     ]
    },
    {
     "name": "stderr",
     "output_type": "stream",
     "text": [
      "0.16788424277792172: 100%|██████████| 196/196 [03:02<00:00,  1.07it/s]\n"
     ]
    },
    {
     "name": "stdout",
     "output_type": "stream",
     "text": [
      "0.3506\n"
     ]
    },
    {
     "name": "stderr",
     "output_type": "stream",
     "text": [
      "0.16039474643006615: 100%|██████████| 196/196 [03:00<00:00,  1.09it/s]\n"
     ]
    },
    {
     "name": "stdout",
     "output_type": "stream",
     "text": [
      "0.3551\n"
     ]
    },
    {
     "name": "stderr",
     "output_type": "stream",
     "text": [
      "0.1738097521723533: 100%|██████████| 196/196 [03:00<00:00,  1.08it/s]\n"
     ]
    },
    {
     "name": "stdout",
     "output_type": "stream",
     "text": [
      "0.3523\n"
     ]
    },
    {
     "name": "stderr",
     "output_type": "stream",
     "text": [
      "0.16111830302647182: 100%|██████████| 196/196 [03:02<00:00,  1.07it/s]\n"
     ]
    },
    {
     "name": "stdout",
     "output_type": "stream",
     "text": [
      "0.3513\n"
     ]
    },
    {
     "name": "stderr",
     "output_type": "stream",
     "text": [
      "0.1426190843387526: 100%|██████████| 196/196 [03:00<00:00,  1.08it/s]\n"
     ]
    },
    {
     "name": "stdout",
     "output_type": "stream",
     "text": [
      "0.3546\n"
     ]
    },
    {
     "name": "stderr",
     "output_type": "stream",
     "text": [
      "0.1501380375453404: 100%|██████████| 196/196 [03:01<00:00,  1.08it/s]\n"
     ]
    },
    {
     "name": "stdout",
     "output_type": "stream",
     "text": [
      "0.3506\n"
     ]
    },
    {
     "name": "stderr",
     "output_type": "stream",
     "text": [
      "0.15931770752887336: 100%|██████████| 196/196 [03:02<00:00,  1.07it/s]\n"
     ]
    },
    {
     "name": "stdout",
     "output_type": "stream",
     "text": [
      "0.3486\n"
     ]
    },
    {
     "name": "stderr",
     "output_type": "stream",
     "text": [
      "0.15195398914570712: 100%|██████████| 196/196 [03:01<00:00,  1.08it/s]\n"
     ]
    },
    {
     "name": "stdout",
     "output_type": "stream",
     "text": [
      "0.3514\n"
     ]
    },
    {
     "name": "stderr",
     "output_type": "stream",
     "text": [
      "0.13860109874180385: 100%|██████████| 196/196 [03:01<00:00,  1.08it/s]\n"
     ]
    },
    {
     "name": "stdout",
     "output_type": "stream",
     "text": [
      "0.351\n"
     ]
    },
    {
     "name": "stderr",
     "output_type": "stream",
     "text": [
      "0.1496464476293447: 100%|██████████| 196/196 [03:02<00:00,  1.07it/s]\n"
     ]
    },
    {
     "name": "stdout",
     "output_type": "stream",
     "text": [
      "0.3563\n"
     ]
    },
    {
     "name": "stderr",
     "output_type": "stream",
     "text": [
      "0.14781796202367667: 100%|██████████| 196/196 [03:00<00:00,  1.08it/s]\n"
     ]
    },
    {
     "name": "stdout",
     "output_type": "stream",
     "text": [
      "0.3485\n"
     ]
    },
    {
     "name": "stderr",
     "output_type": "stream",
     "text": [
      "0.1582213810511998: 100%|██████████| 196/196 [03:00<00:00,  1.08it/s]\n"
     ]
    },
    {
     "name": "stdout",
     "output_type": "stream",
     "text": [
      "0.3569\n"
     ]
    },
    {
     "name": "stderr",
     "output_type": "stream",
     "text": [
      "0.15018459242217394: 100%|██████████| 196/196 [03:02<00:00,  1.07it/s]\n"
     ]
    },
    {
     "name": "stdout",
     "output_type": "stream",
     "text": [
      "0.3527\n"
     ]
    },
    {
     "name": "stderr",
     "output_type": "stream",
     "text": [
      "0.14375254572654256: 100%|██████████| 196/196 [03:00<00:00,  1.08it/s]\n"
     ]
    },
    {
     "name": "stdout",
     "output_type": "stream",
     "text": [
      "0.3601\n"
     ]
    },
    {
     "name": "stderr",
     "output_type": "stream",
     "text": [
      "0.13218536182325713: 100%|██████████| 196/196 [03:01<00:00,  1.08it/s]\n"
     ]
    },
    {
     "name": "stdout",
     "output_type": "stream",
     "text": [
      "0.3543\n"
     ]
    },
    {
     "name": "stderr",
     "output_type": "stream",
     "text": [
      "0.12679681972581514: 100%|██████████| 196/196 [03:02<00:00,  1.07it/s]\n"
     ]
    },
    {
     "name": "stdout",
     "output_type": "stream",
     "text": [
      "0.3482\n"
     ]
    },
    {
     "name": "stderr",
     "output_type": "stream",
     "text": [
      "0.13442341162233937: 100%|██████████| 196/196 [03:00<00:00,  1.09it/s]\n"
     ]
    },
    {
     "name": "stdout",
     "output_type": "stream",
     "text": [
      "0.3476\n"
     ]
    },
    {
     "name": "stderr",
     "output_type": "stream",
     "text": [
      "0.12505878720964705: 100%|██████████| 196/196 [03:00<00:00,  1.08it/s]\n"
     ]
    },
    {
     "name": "stdout",
     "output_type": "stream",
     "text": [
      "0.3553\n"
     ]
    },
    {
     "name": "stderr",
     "output_type": "stream",
     "text": [
      "0.14087610828633212: 100%|██████████| 196/196 [03:01<00:00,  1.08it/s]\n"
     ]
    },
    {
     "name": "stdout",
     "output_type": "stream",
     "text": [
      "0.3597\n"
     ]
    },
    {
     "name": "stderr",
     "output_type": "stream",
     "text": [
      "0.13497364277742346: 100%|██████████| 196/196 [03:00<00:00,  1.09it/s]\n"
     ]
    },
    {
     "name": "stdout",
     "output_type": "stream",
     "text": [
      "0.3577\n"
     ]
    }
   ],
   "source": [
    "###### import torch\n",
    "from vit_pytorch import ViT\n",
    "\n",
    "v = ViT(\n",
    "    image_size = 32,\n",
    "    patch_size = 16,\n",
    "    num_classes = 3072,\n",
    "    dim = 1024,\n",
    "    depth = 24,\n",
    "    heads = 16,\n",
    "    mlp_dim = 4096,\n",
    "    dropout = 0.1,\n",
    "    emb_dropout = 0.1\n",
    ")\n",
    "\n",
    "#from pytorch_pretrained_vit import ViT\n",
    "#model = ViT('B_16_imagenet1k', pretrained=True)\n",
    "\n",
    "v.train()\n",
    "#v = torch.nn.Sequential(*(list(v.children())[:-1])) # get rid of MLP dim\n",
    "# MLP dim consists of Layernorm and then activationless FC\n",
    "#v = torch.nn.Sequential(*(list(v.children()) + [nn.BatchNorm1d(4)])) #\n",
    "#replace_layers(v, nn.Softmax, make_linear())\n",
    "\n",
    "losslist_r = []\n",
    "\n",
    "#Head = torch.nn.Sequential(*(list([ViT(image_size=32, patch_size=32, num_classes=10, dim=768, depth=1, heads=4, mlp_dim=3072)]))) # might want to increase head size bc the ViT is just interpresting patterns this actually makes decision\n",
    "Head = torch.nn.Sequential(*(list([nn.Flatten(), nn.LayerNorm(3072), nn.Linear(3072, 100)])))\n",
    "b = nn.BatchNorm1d(3072).to(device)\n",
    "\n",
    "v = v.to(device)\n",
    "Head = Head.to(device)\n",
    "\n",
    "voptimizer = torch.optim.Adam(v.parameters(), lr=.0001)\n",
    "hoptimizer = torch.optim.Adam(Head.parameters(), lr=.0001)\n",
    "boptimizer = torch.optim.Adam(b.parameters(), lr=.0001)\n",
    "\n",
    "import random\n",
    "import time\n",
    "\n",
    "timelist_r = []\n",
    "\n",
    "loops = 2 # might need to reward not having vanishing things, right now problem is prob that numbers get smaller and smaller - actually use Batch norm\n",
    "\n",
    "acc = 0\n",
    "total = 0\n",
    "stime = time.time()\n",
    "for epoch in range(150):\n",
    "    t = tqdm.tqdm(train_dataloader, position=0, leave=True)\n",
    "    tloss = 0\n",
    "\n",
    "    for n, (x, y) in enumerate(t):\n",
    "        bs = x.shape[0]\n",
    "        x = x.to(device)\n",
    "        #print(x.shape)\n",
    "        y = y.to(device)\n",
    "        \n",
    "        for i in range(loops):\n",
    "            \n",
    "            x = v(x)\n",
    "            x = nn.ReLU()(b(x))\n",
    "            #print(x.shape)\n",
    "            x = x.reshape(bs, 3, 32, 32)\n",
    "            #print(x[0][0][0])\n",
    "            #print(x.shape)\n",
    "\n",
    "        f_y_hat = Head(x)\n",
    "        \n",
    "        loss = torch.nn.CrossEntropyLoss()((f_y_hat).reshape([bs, 100]), y) # nn.ReLU()\n",
    "        loss.backward()\n",
    "        tloss += loss\n",
    "\n",
    "        hoptimizer.step() \n",
    "        hoptimizer.zero_grad()\n",
    "        voptimizer.step() \n",
    "        voptimizer.zero_grad()\n",
    "        boptimizer.step() \n",
    "        boptimizer.zero_grad()\n",
    "        \n",
    "        t.set_description_str(str(tloss.detach().cpu().numpy()/(n+1))) # 14:.2\n",
    "    l = test(loops)\n",
    "    print(l)\n",
    "    losslist_r.append(l)\n",
    "    timelist_r.append(time.time() - stime)\n",
    "        \n",
    "# do hyperparam search on heads, depth and how many times to recurse"
   ]
  },
  {
   "cell_type": "code",
   "execution_count": 11,
   "id": "fb508491",
   "metadata": {
    "execution": {
     "iopub.execute_input": "2021-10-21T06:03:46.019804Z",
     "iopub.status.busy": "2021-10-21T06:03:46.018910Z",
     "iopub.status.idle": "2021-10-21T06:03:59.133446Z",
     "shell.execute_reply": "2021-10-21T06:03:59.133032Z"
    },
    "papermill": {
     "duration": 28.613689,
     "end_time": "2021-10-21T06:03:59.133587",
     "exception": false,
     "start_time": "2021-10-21T06:03:30.519898",
     "status": "completed"
    },
    "tags": []
   },
   "outputs": [
    {
     "data": {
      "text/plain": [
       "0.3569"
      ]
     },
     "execution_count": 11,
     "metadata": {},
     "output_type": "execute_result"
    }
   ],
   "source": [
    "test(loops)"
   ]
  },
  {
   "cell_type": "code",
   "execution_count": 12,
   "id": "858931d2",
   "metadata": {
    "execution": {
     "iopub.execute_input": "2021-10-21T06:04:30.613939Z",
     "iopub.status.busy": "2021-10-21T06:04:30.613268Z",
     "iopub.status.idle": "2021-10-21T06:04:30.616375Z",
     "shell.execute_reply": "2021-10-21T06:04:30.616791Z"
    },
    "papermill": {
     "duration": 15.751962,
     "end_time": "2021-10-21T06:04:30.616927",
     "exception": false,
     "start_time": "2021-10-21T06:04:14.864965",
     "status": "completed"
    },
    "tags": []
   },
   "outputs": [
    {
     "name": "stdout",
     "output_type": "stream",
     "text": [
      "[0.0832, 0.1116, 0.1353, 0.1486, 0.1545, 0.1669, 0.1773, 0.175, 0.1934, 0.2012, 0.2006, 0.2104, 0.2128, 0.2081, 0.2141, 0.2163, 0.2165, 0.2202, 0.2298, 0.2339, 0.2293, 0.2341, 0.2417, 0.2399, 0.2451, 0.249, 0.2526, 0.2556, 0.2517, 0.2655, 0.2658, 0.2631, 0.2732, 0.2742, 0.2721, 0.2821, 0.284, 0.2849, 0.294, 0.2935, 0.2983, 0.3026, 0.3054, 0.312, 0.3101, 0.3119, 0.3204, 0.3166, 0.3174, 0.3217, 0.324, 0.3328, 0.3282, 0.3282, 0.3288, 0.3393, 0.3327, 0.3392, 0.339, 0.34, 0.334, 0.34, 0.3394, 0.3472, 0.3478, 0.3456, 0.3425, 0.3416, 0.3445, 0.3437, 0.3477, 0.3469, 0.3508, 0.343, 0.3449, 0.3473, 0.3543, 0.355, 0.3501, 0.3518, 0.3503, 0.3493, 0.3541, 0.348, 0.3472, 0.3506, 0.357, 0.3502, 0.351, 0.3509, 0.3522, 0.3545, 0.3606, 0.3503, 0.3507, 0.3516, 0.349, 0.3526, 0.3496, 0.3476, 0.3526, 0.3566, 0.3504, 0.3433, 0.3579, 0.3529, 0.3482, 0.3496, 0.3521, 0.3483, 0.3554, 0.3518, 0.3471, 0.3517, 0.348, 0.3503, 0.3508, 0.356, 0.3536, 0.3477, 0.3471, 0.3518, 0.3535, 0.351, 0.3496, 0.3568, 0.3494, 0.3521, 0.3594, 0.3536, 0.3506, 0.3551, 0.3523, 0.3513, 0.3546, 0.3506, 0.3486, 0.3514, 0.351, 0.3563, 0.3485, 0.3569, 0.3527, 0.3601, 0.3543, 0.3482, 0.3476, 0.3553, 0.3597, 0.3577]\n",
      "[192.23611855506897, 384.6265547275543, 577.1225156784058, 771.1999893188477, 964.4913551807404, 1157.708812236786, 1350.2782402038574, 1543.0950531959534, 1736.3701753616333, 1929.7826180458069, 2123.3200466632843, 2316.907817363739, 2510.328617334366, 2704.0891728401184, 2896.9746708869934, 3090.3429777622223, 3285.031521320343, 3479.5408787727356, 3672.7626690864563, 3866.829037427902, 4060.4433636665344, 4254.826021432877, 4448.601092100143, 4642.686960935593, 4835.513902425766, 5029.393813610077, 5222.550086259842, 5416.503841638565, 5609.785206317902, 5803.181214570999, 5996.989777803421, 6190.52003288269, 6384.53441119194, 6578.82132601738, 6772.513061761856, 6966.826362371445, 7160.876796960831, 7354.328023433685, 7547.539997339249, 7741.088007211685, 7934.8765342235565, 8128.4402549266815, 8322.135356903076, 8516.430801153183, 8710.170251846313, 8903.86635684967, 9098.120139598846, 9291.764554262161, 9486.304406642914, 9680.87273645401, 9874.986706972122, 10068.408022165298, 10262.950037002563, 10457.816790103912, 10652.254036903381, 10845.96433019638, 11040.507266759872, 11234.789696455002, 11428.048320770264, 11622.581268787384, 11816.939003229141, 12010.921640634537, 12205.865696907043, 12400.524012088776, 12594.550678730011, 12789.20322394371, 12983.66808128357, 13177.624433279037, 13372.885518789291, 13567.993070363998, 13761.929385185242, 13956.814465045929, 14153.091445446014, 14348.110231161118, 14543.629004001617, 14737.826975345612, 14933.172553062439, 15128.144459486008, 15322.121071100235, 15516.496198177338, 15710.92069864273, 15904.40501332283, 16099.29255247116, 16292.741700172424, 16487.724366426468, 16681.07988667488, 16874.494772672653, 17069.269682884216, 17262.774233341217, 17457.37420940399, 17651.613960027695, 17845.680776119232, 18039.902027845383, 18233.246252059937, 18428.212950468063, 18622.112454414368, 18815.513028144836, 19010.723486185074, 19204.13284802437, 19399.495200157166, 19592.963310956955, 19787.299496412277, 19982.998996257782, 20177.389748096466, 20374.15442466736, 20568.184042453766, 20762.001137971878, 20956.745668411255, 21150.113604307175, 21343.384447336197, 21538.70284676552, 21732.169335842133, 21927.945155143738, 22121.710525751114, 22315.00657606125, 22509.39917254448, 22702.15652537346, 22895.9400036335, 23090.78501176834, 23283.91810822487, 23477.47207093239, 23672.686205387115, 23866.260643959045, 24060.2618663311, 24256.05455303192, 24449.80822825432, 24644.1769824028, 24839.85991215706, 25033.7179415226, 25228.30308532715, 25424.482028484344, 25618.262080430984, 25812.203169584274, 26008.047389745712, 26202.023661613464, 26396.198961257935, 26592.115584373474, 26786.50888442993, 26980.79011631012, 27176.4948220253, 27370.30643248558, 27564.2018930912, 27760.27936720848, 27954.436998605728, 28148.825043201447, 28344.86372089386, 28538.60918188095, 28732.438426733017, 28928.58971428871, 29121.949058055878]\n"
     ]
    }
   ],
   "source": [
    "print(losslist_r)\n",
    "print(timelist_r)"
   ]
  },
  {
   "cell_type": "code",
   "execution_count": 13,
   "id": "b4b8a708",
   "metadata": {
    "execution": {
     "iopub.execute_input": "2021-10-21T06:05:02.338176Z",
     "iopub.status.busy": "2021-10-21T06:05:02.337360Z",
     "iopub.status.idle": "2021-10-21T06:05:13.364693Z",
     "shell.execute_reply": "2021-10-21T06:05:13.364160Z"
    },
    "papermill": {
     "duration": 26.887711,
     "end_time": "2021-10-21T06:05:13.364836",
     "exception": false,
     "start_time": "2021-10-21T06:04:46.477125",
     "status": "completed"
    },
    "tags": []
   },
   "outputs": [],
   "source": [
    "torch.save(v.state_dict(), \"vn\")\n",
    "torch.save(Head.state_dict(), \"Hn\")\n",
    "torch.save(voptimizer.state_dict(), \"on\")\n",
    "torch.save(hoptimizer.state_dict(), \"ohn\")"
   ]
  },
  {
   "cell_type": "code",
   "execution_count": 14,
   "id": "f205545f",
   "metadata": {
    "execution": {
     "iopub.execute_input": "2021-10-21T06:05:47.211636Z",
     "iopub.status.busy": "2021-10-21T06:05:47.210995Z",
     "iopub.status.idle": "2021-10-21T06:05:47.451771Z",
     "shell.execute_reply": "2021-10-21T06:05:47.452200Z"
    },
    "papermill": {
     "duration": 16.861733,
     "end_time": "2021-10-21T06:05:47.452345",
     "exception": false,
     "start_time": "2021-10-21T06:05:30.590612",
     "status": "completed"
    },
    "tags": []
   },
   "outputs": [
    {
     "data": {
      "image/png": "[encoded data removed]",
      "text/plain": [
       "<Figure size 432x288 with 1 Axes>"
      ]
     },
     "metadata": {
      "needs_background": "light"
     },
     "output_type": "display_data"
    }
   ],
   "source": [
    "import matplotlib.pyplot as plt\n",
    "\n",
    "plt.plot(list(range(len(losslist_n))), losslist_n, label=\"Baseline\")\n",
    "plt.plot(list(range(len(losslist_r))), losslist_r, label=\"Recursive\")\n",
    "plt.legend()\n",
    "plt.show()"
   ]
  },
  {
   "cell_type": "code",
   "execution_count": 15,
   "id": "0eb1394e",
   "metadata": {
    "execution": {
     "iopub.execute_input": "2021-10-21T06:06:19.444299Z",
     "iopub.status.busy": "2021-10-21T06:06:19.430608Z",
     "iopub.status.idle": "2021-10-21T06:06:19.626259Z",
     "shell.execute_reply": "2021-10-21T06:06:19.626657Z"
    },
    "papermill": {
     "duration": 16.329822,
     "end_time": "2021-10-21T06:06:19.626814",
     "exception": false,
     "start_time": "2021-10-21T06:06:03.296992",
     "status": "completed"
    },
    "tags": []
   },
   "outputs": [
    {
     "data": {
      "image/png": "[encoded data removed]",
      "text/plain": [
       "<Figure size 432x288 with 1 Axes>"
      ]
     },
     "metadata": {
      "needs_background": "light"
     },
     "output_type": "display_data"
    }
   ],
   "source": [
    "plt.plot(timelist_n, losslist_n, label=\"Baseline\")\n",
    "plt.plot(timelist_r, losslist_r, label=\"Recursive\")\n",
    "plt.legend()\n",
    "plt.show()"
   ]
  },
  {
   "cell_type": "code",
   "execution_count": 16,
   "id": "8a14c3d9",
   "metadata": {
    "execution": {
     "iopub.execute_input": "2021-10-21T06:06:51.479802Z",
     "iopub.status.busy": "2021-10-21T06:06:51.479146Z",
     "iopub.status.idle": "2021-10-21T06:06:51.481895Z",
     "shell.execute_reply": "2021-10-21T06:06:51.482299Z"
    },
    "papermill": {
     "duration": 16.118657,
     "end_time": "2021-10-21T06:06:51.482435",
     "exception": false,
     "start_time": "2021-10-21T06:06:35.363778",
     "status": "completed"
    },
    "tags": []
   },
   "outputs": [
    {
     "name": "stdout",
     "output_type": "stream",
     "text": [
      "0.3439\n",
      "0.3606\n"
     ]
    }
   ],
   "source": [
    "print(max(losslist_n))\n",
    "print(max(losslist_r))"
   ]
  }
 ],
 "metadata": {
  "kernelspec": {
   "display_name": "Python 3",
   "language": "python",
   "name": "python3"
  },
  "language_info": {
   "codemirror_mode": {
    "name": "ipython",
    "version": 3
   },
   "file_extension": ".py",
   "mimetype": "text/x-python",
   "name": "python",
   "nbconvert_exporter": "python",
   "pygments_lexer": "ipython3",
   "version": "3.7.10"
  },
  "papermill": {
   "default_parameters": {},
   "duration": 29395.932706,
   "end_time": "2021-10-21T06:07:09.577841",
   "environment_variables": {},
   "exception": null,
   "input_path": "__notebook__.ipynb",
   "output_path": "__notebook__.ipynb",
   "parameters": {},
   "start_time": "2021-10-20T21:57:13.645135",
   "version": "2.3.3"
  },
  "widgets": {
   "application/vnd.jupyter.widget-state+json": {
    "state": {
     "210214751fe1452bb0484cf682ab900b": {
      "model_module": "@jupyter-widgets/base",
      "model_module_version": "1.2.0",
      "model_name": "LayoutModel",
      "state": {
       "_model_module": "@jupyter-widgets/base",
       "_model_module_version": "1.2.0",
       "_model_name": "LayoutModel",
       "_view_count": null,
       "_view_module": "@jupyter-widgets/base",
       "_view_module_version": "1.2.0",
       "_view_name": "LayoutView",
       "align_content": null,
       "align_items": null,
       "align_self": null,
       "border": null,
       "bottom": null,
       "display": null,
       "flex": null,
       "flex_flow": null,
       "grid_area": null,
       "grid_auto_columns": null,
       "grid_auto_flow": null,
       "grid_auto_rows": null,
       "grid_column": null,
       "grid_gap": null,
       "grid_row": null,
       "grid_template_areas": null,
       "grid_template_columns": null,
       "grid_template_rows": null,
       "height": null,
       "justify_content": null,
       "justify_items": null,
       "left": null,
       "margin": null,
       "max_height": null,
       "max_width": null,
       "min_height": null,
       "min_width": null,
       "object_fit": null,
       "object_position": null,
       "order": null,
       "overflow": null,
       "overflow_x": null,
       "overflow_y": null,
       "padding": null,
       "right": null,
       "top": null,
       "visibility": null,
       "width": null
      }
     },
     "2b1e485a0e6148b8a62e10e071c4dcbe": {
      "model_module": "@jupyter-widgets/controls",
      "model_module_version": "1.5.0",
      "model_name": "FloatProgressModel",
      "state": {
       "_dom_classes": [],
       "_model_module": "@jupyter-widgets/controls",
       "_model_module_version": "1.5.0",
       "_model_name": "FloatProgressModel",
       "_view_count": null,
       "_view_module": "@jupyter-widgets/controls",
       "_view_module_version": "1.5.0",
       "_view_name": "ProgressView",
       "bar_style": "info",
       "description": "",
       "description_tooltip": null,
       "layout": "IPY_MODEL_6421f3b6f3fe488b8aeae1e1e19fb565",
       "max": 1.0,
       "min": 0.0,
       "orientation": "horizontal",
       "style": "IPY_MODEL_b0c05cb57e454f97b2963c1bce5209df",
       "value": 1.0
      }
     },
     "2cdc844555dd4389912d9c96f5d9a9fd": {
      "model_module": "@jupyter-widgets/base",
      "model_module_version": "1.2.0",
      "model_name": "LayoutModel",
      "state": {
       "_model_module": "@jupyter-widgets/base",
       "_model_module_version": "1.2.0",
       "_model_name": "LayoutModel",
       "_view_count": null,
       "_view_module": "@jupyter-widgets/base",
       "_view_module_version": "1.2.0",
       "_view_name": "LayoutView",
       "align_content": null,
       "align_items": null,
       "align_self": null,
       "border": null,
       "bottom": null,
       "display": null,
       "flex": null,
       "flex_flow": null,
       "grid_area": null,
       "grid_auto_columns": null,
       "grid_auto_flow": null,
       "grid_auto_rows": null,
       "grid_column": null,
       "grid_gap": null,
       "grid_row": null,
       "grid_template_areas": null,
       "grid_template_columns": null,
       "grid_template_rows": null,
       "height": null,
       "justify_content": null,
       "justify_items": null,
       "left": null,
       "margin": null,
       "max_height": null,
       "max_width": null,
       "min_height": null,
       "min_width": null,
       "object_fit": null,
       "object_position": null,
       "order": null,
       "overflow": null,
       "overflow_x": null,
       "overflow_y": null,
       "padding": null,
       "right": null,
       "top": null,
       "visibility": null,
       "width": null
      }
     },
     "63fb2252ad634df999cd2feac59883e8": {
      "model_module": "@jupyter-widgets/controls",
      "model_module_version": "1.5.0",
      "model_name": "HTMLModel",
      "state": {
       "_dom_classes": [],
       "_model_module": "@jupyter-widgets/controls",
       "_model_module_version": "1.5.0",
       "_model_name": "HTMLModel",
       "_view_count": null,
       "_view_module": "@jupyter-widgets/controls",
       "_view_module_version": "1.5.0",
       "_view_name": "HTMLView",
       "description": "",
       "description_tooltip": null,
       "layout": "IPY_MODEL_2cdc844555dd4389912d9c96f5d9a9fd",
       "placeholder": "​",
       "style": "IPY_MODEL_fb5a2fd047984241a9b1fae6a609e505",
       "value": ""
      }
     },
     "6421f3b6f3fe488b8aeae1e1e19fb565": {
      "model_module": "@jupyter-widgets/base",
      "model_module_version": "1.2.0",
      "model_name": "LayoutModel",
      "state": {
       "_model_module": "@jupyter-widgets/base",
       "_model_module_version": "1.2.0",
       "_model_name": "LayoutModel",
       "_view_count": null,
       "_view_module": "@jupyter-widgets/base",
       "_view_module_version": "1.2.0",
       "_view_name": "LayoutView",
       "align_content": null,
       "align_items": null,
       "align_self": null,
       "border": null,
       "bottom": null,
       "display": null,
       "flex": null,
       "flex_flow": null,
       "grid_area": null,
       "grid_auto_columns": null,
       "grid_auto_flow": null,
       "grid_auto_rows": null,
       "grid_column": null,
       "grid_gap": null,
       "grid_row": null,
       "grid_template_areas": null,
       "grid_template_columns": null,
       "grid_template_rows": null,
       "height": null,
       "justify_content": null,
       "justify_items": null,
       "left": null,
       "margin": null,
       "max_height": null,
       "max_width": null,
       "min_height": null,
       "min_width": null,
       "object_fit": null,
       "object_position": null,
       "order": null,
       "overflow": null,
       "overflow_x": null,
       "overflow_y": null,
       "padding": null,
       "right": null,
       "top": null,
       "visibility": null,
       "width": "20px"
      }
     },
     "7771e4c466a0474fa7929567ec4393a5": {
      "model_module": "@jupyter-widgets/base",
      "model_module_version": "1.2.0",
      "model_name": "LayoutModel",
      "state": {
       "_model_module": "@jupyter-widgets/base",
       "_model_module_version": "1.2.0",
       "_model_name": "LayoutModel",
       "_view_count": null,
       "_view_module": "@jupyter-widgets/base",
       "_view_module_version": "1.2.0",
       "_view_name": "LayoutView",
       "align_content": null,
       "align_items": null,
       "align_self": null,
       "border": null,
       "bottom": null,
       "display": null,
       "flex": null,
       "flex_flow": null,
       "grid_area": null,
       "grid_auto_columns": null,
       "grid_auto_flow": null,
       "grid_auto_rows": null,
       "grid_column": null,
       "grid_gap": null,
       "grid_row": null,
       "grid_template_areas": null,
       "grid_template_columns": null,
       "grid_template_rows": null,
       "height": null,
       "justify_content": null,
       "justify_items": null,
       "left": null,
       "margin": null,
       "max_height": null,
       "max_width": null,
       "min_height": null,
       "min_width": null,
       "object_fit": null,
       "object_position": null,
       "order": null,
       "overflow": null,
       "overflow_x": null,
       "overflow_y": null,
       "padding": null,
       "right": null,
       "top": null,
       "visibility": null,
       "width": null
      }
     },
     "b0c05cb57e454f97b2963c1bce5209df": {
      "model_module": "@jupyter-widgets/controls",
      "model_module_version": "1.5.0",
      "model_name": "ProgressStyleModel",
      "state": {
       "_model_module": "@jupyter-widgets/controls",
       "_model_module_version": "1.5.0",
       "_model_name": "ProgressStyleModel",
       "_view_count": null,
       "_view_module": "@jupyter-widgets/base",
       "_view_module_version": "1.2.0",
       "_view_name": "StyleView",
       "bar_color": null,
       "description_width": ""
      }
     },
     "b379c0778bac4698b1afdc52d888b2de": {
      "model_module": "@jupyter-widgets/controls",
      "model_module_version": "1.5.0",
      "model_name": "HBoxModel",
      "state": {
       "_dom_classes": [],
       "_model_module": "@jupyter-widgets/controls",
       "_model_module_version": "1.5.0",
       "_model_name": "HBoxModel",
       "_view_count": null,
       "_view_module": "@jupyter-widgets/controls",
       "_view_module_version": "1.5.0",
       "_view_name": "HBoxView",
       "box_style": "",
       "children": [
        "IPY_MODEL_63fb2252ad634df999cd2feac59883e8",
        "IPY_MODEL_2b1e485a0e6148b8a62e10e071c4dcbe",
        "IPY_MODEL_b7dfd1bf7984435e9f6e5c352e048c49"
       ],
       "layout": "IPY_MODEL_7771e4c466a0474fa7929567ec4393a5"
      }
     },
     "b7dfd1bf7984435e9f6e5c352e048c49": {
      "model_module": "@jupyter-widgets/controls",
      "model_module_version": "1.5.0",
      "model_name": "HTMLModel",
      "state": {
       "_dom_classes": [],
       "_model_module": "@jupyter-widgets/controls",
       "_model_module_version": "1.5.0",
       "_model_name": "HTMLModel",
       "_view_count": null,
       "_view_module": "@jupyter-widgets/controls",
       "_view_module_version": "1.5.0",
       "_view_name": "HTMLView",
       "description": "",
       "description_tooltip": null,
       "layout": "IPY_MODEL_210214751fe1452bb0484cf682ab900b",
       "placeholder": "​",
       "style": "IPY_MODEL_ec865b29c5964598a047c657ee831fc8",
       "value": " 169009152/? [00:20&lt;00:00, 32792835.06it/s]"
      }
     },
     "ec865b29c5964598a047c657ee831fc8": {
      "model_module": "@jupyter-widgets/controls",
      "model_module_version": "1.5.0",
      "model_name": "DescriptionStyleModel",
      "state": {
       "_model_module": "@jupyter-widgets/controls",
       "_model_module_version": "1.5.0",
       "_model_name": "DescriptionStyleModel",
       "_view_count": null,
       "_view_module": "@jupyter-widgets/base",
       "_view_module_version": "1.2.0",
       "_view_name": "StyleView",
       "description_width": ""
      }
     },
     "fb5a2fd047984241a9b1fae6a609e505": {
      "model_module": "@jupyter-widgets/controls",
      "model_module_version": "1.5.0",
      "model_name": "DescriptionStyleModel",
      "state": {
       "_model_module": "@jupyter-widgets/controls",
       "_model_module_version": "1.5.0",
       "_model_name": "DescriptionStyleModel",
       "_view_count": null,
       "_view_module": "@jupyter-widgets/base",
       "_view_module_version": "1.2.0",
       "_view_name": "StyleView",
       "description_width": ""
      }
     }
    },
    "version_major": 2,
    "version_minor": 0
   }
  }
 },
 "nbformat": 4,
 "nbformat_minor": 5
}
